{
 "cells": [
  {
   "cell_type": "code",
   "execution_count": 1,
   "metadata": {},
   "outputs": [],
   "source": [
    "import pandas as pd\n",
    "import numpy as np\n",
    "import matplotlib.pyplot as plt\n",
    "%matplotlib inline"
   ]
  },
  {
   "cell_type": "code",
   "execution_count": 2,
   "metadata": {},
   "outputs": [],
   "source": [
    "data = pd.read_csv('csvs/datosSinDuplicados.csv', low_memory=False)"
   ]
  },
  {
   "cell_type": "code",
   "execution_count": 3,
   "metadata": {},
   "outputs": [],
   "source": [
    "data.drop_duplicates('id', keep = 'last', inplace = True)"
   ]
  },
  {
   "cell_type": "code",
   "execution_count": 4,
   "metadata": {},
   "outputs": [
    {
     "name": "stdout",
     "output_type": "stream",
     "text": [
      "<class 'pandas.core.frame.DataFrame'>\n",
      "Int64Index: 163260 entries, 0 to 182406\n",
      "Data columns (total 28 columns):\n",
      "country_name                  163260 non-null object\n",
      "created_on                    163260 non-null object\n",
      "currency                      159636 non-null object\n",
      "description                   163260 non-null object\n",
      "expenses                      23131 non-null float64\n",
      "floor                         19585 non-null float64\n",
      "geonames_id                   130373 non-null float64\n",
      "id                            163260 non-null object\n",
      "image_thumbnail               30237 non-null object\n",
      "lat                           163260 non-null float64\n",
      "lat-lon                       163260 non-null object\n",
      "lon                           163260 non-null float64\n",
      "operation                     30237 non-null object\n",
      "place_name                    163206 non-null object\n",
      "place_with_parent_names       163260 non-null object\n",
      "price                         163260 non-null float64\n",
      "price_aprox_local_currency    163260 non-null float64\n",
      "price_aprox_usd               163260 non-null float64\n",
      "price_per_m2                  141503 non-null float64\n",
      "price_usd_per_m2              113089 non-null float64\n",
      "properati_url                 30237 non-null object\n",
      "property_type                 163260 non-null object\n",
      "rooms                         100416 non-null float64\n",
      "state_name                    163260 non-null object\n",
      "surface_covered_in_m2         145505 non-null float64\n",
      "surface_total_in_m2           121590 non-null float64\n",
      "title                         163260 non-null object\n",
      "duplicado                     163260 non-null bool\n",
      "dtypes: bool(1), float64(13), object(14)\n",
      "memory usage: 35.0+ MB\n"
     ]
    }
   ],
   "source": [
    "data.info()"
   ]
  },
  {
   "cell_type": "code",
   "execution_count": 5,
   "metadata": {},
   "outputs": [
    {
     "name": "stdout",
     "output_type": "stream",
     "text": [
      "<class 'pandas.core.frame.DataFrame'>\n",
      "Int64Index: 163260 entries, 0 to 182406\n",
      "Data columns (total 12 columns):\n",
      "created_on                 163260 non-null object\n",
      "description                163260 non-null object\n",
      "expenses                   23131 non-null float64\n",
      "floor                      19585 non-null float64\n",
      "lat                        163260 non-null float64\n",
      "lon                        163260 non-null float64\n",
      "place_with_parent_names    163260 non-null object\n",
      "price_aprox_usd            163260 non-null float64\n",
      "property_type              163260 non-null object\n",
      "rooms                      100416 non-null float64\n",
      "surface_covered_in_m2      145505 non-null float64\n",
      "surface_total_in_m2        121590 non-null float64\n",
      "dtypes: float64(8), object(4)\n",
      "memory usage: 16.2+ MB\n"
     ]
    }
   ],
   "source": [
    "del data['country_name']\n",
    "del data['geonames_id']\n",
    "del data['image_thumbnail']\n",
    "del data['id']\n",
    "del data['lat-lon']\n",
    "del data['operation']\n",
    "del data['place_name']\n",
    "del data['properati_url']\n",
    "del data['state_name']\n",
    "del data['duplicado']\n",
    "del data['title']\n",
    "del data['price']\n",
    "del data['currency']\n",
    "del data['price_per_m2']\n",
    "del data['price_aprox_local_currency']\n",
    "del data['price_usd_per_m2']\n",
    "data.info()"
   ]
  },
  {
   "cell_type": "code",
   "execution_count": 6,
   "metadata": {},
   "outputs": [],
   "source": [
    "data.loc[data.floor > 70, 'floor'] = np.NaN"
   ]
  },
  {
   "cell_type": "code",
   "execution_count": 7,
   "metadata": {},
   "outputs": [],
   "source": [
    "data.loc[data.rooms > 12, 'rooms'] = np.NaN"
   ]
  },
  {
   "cell_type": "code",
   "execution_count": 8,
   "metadata": {},
   "outputs": [],
   "source": [
    "data.loc[data.surface_total_in_m2 < 1, 'surface_total_in_m2'] = np.NaN"
   ]
  },
  {
   "cell_type": "code",
   "execution_count": 9,
   "metadata": {},
   "outputs": [],
   "source": [
    "data.loc[((data.surface_total_in_m2 > 70000) & (data.property_type == \"apartment\")), 'surface_total_in_m2'] = np.NaN"
   ]
  },
  {
   "cell_type": "code",
   "execution_count": 10,
   "metadata": {},
   "outputs": [],
   "source": [
    "data.loc[data.surface_covered_in_m2 < 1, 'surface_covered_in_m2'] = np.NaN"
   ]
  },
  {
   "cell_type": "code",
   "execution_count": 11,
   "metadata": {},
   "outputs": [],
   "source": [
    "data.loc[data.surface_covered_in_m2 > data.surface_total_in_m2, 'surface_covered_in_m2'] = np.NaN"
   ]
  },
  {
   "cell_type": "code",
   "execution_count": 12,
   "metadata": {},
   "outputs": [],
   "source": [
    "data.loc[data.expenses < 150, 'expenses'] = np.NaN"
   ]
  },
  {
   "cell_type": "code",
   "execution_count": 13,
   "metadata": {},
   "outputs": [],
   "source": [
    "data.loc[data.expenses > 150000, 'expenses'] = np.NaN"
   ]
  },
  {
   "cell_type": "code",
   "execution_count": 14,
   "metadata": {},
   "outputs": [],
   "source": [
    "data = data.loc[(data.lat<-34) & (data.lat>-35) & (data.lon>-60) & (data.lon<-57.5)]"
   ]
  },
  {
   "cell_type": "code",
   "execution_count": 15,
   "metadata": {},
   "outputs": [],
   "source": [
    "data = data[data.price_aprox_usd!=0]"
   ]
  },
  {
   "cell_type": "code",
   "execution_count": 16,
   "metadata": {},
   "outputs": [],
   "source": [
    "data = data.reset_index(drop = True)"
   ]
  },
  {
   "cell_type": "code",
   "execution_count": 17,
   "metadata": {},
   "outputs": [
    {
     "name": "stdout",
     "output_type": "stream",
     "text": [
      "<class 'pandas.core.frame.DataFrame'>\n",
      "RangeIndex: 158352 entries, 0 to 158351\n",
      "Data columns (total 12 columns):\n",
      "created_on                 158352 non-null object\n",
      "description                158352 non-null object\n",
      "expenses                   21572 non-null float64\n",
      "floor                      18702 non-null float64\n",
      "lat                        158352 non-null float64\n",
      "lon                        158352 non-null float64\n",
      "place_with_parent_names    158352 non-null object\n",
      "price_aprox_usd            158352 non-null float64\n",
      "property_type              158352 non-null object\n",
      "rooms                      97155 non-null float64\n",
      "surface_covered_in_m2      139468 non-null float64\n",
      "surface_total_in_m2        112609 non-null float64\n",
      "dtypes: float64(8), object(4)\n",
      "memory usage: 14.5+ MB\n"
     ]
    }
   ],
   "source": [
    "data.info()"
   ]
  },
  {
   "cell_type": "code",
   "execution_count": 18,
   "metadata": {},
   "outputs": [],
   "source": [
    "data.to_csv(\"csvs/datosFiltrados.csv\", index = False)"
   ]
  },
  {
   "cell_type": "code",
   "execution_count": null,
   "metadata": {},
   "outputs": [],
   "source": []
  },
  {
   "cell_type": "code",
   "execution_count": null,
   "metadata": {},
   "outputs": [],
   "source": []
  },
  {
   "cell_type": "code",
   "execution_count": null,
   "metadata": {},
   "outputs": [],
   "source": []
  },
  {
   "cell_type": "code",
   "execution_count": null,
   "metadata": {},
   "outputs": [],
   "source": []
  }
 ],
 "metadata": {
  "kernelspec": {
   "display_name": "Python 3",
   "language": "python",
   "name": "python3"
  },
  "language_info": {
   "codemirror_mode": {
    "name": "ipython",
    "version": 3
   },
   "file_extension": ".py",
   "mimetype": "text/x-python",
   "name": "python",
   "nbconvert_exporter": "python",
   "pygments_lexer": "ipython3",
   "version": "3.5.2"
  }
 },
 "nbformat": 4,
 "nbformat_minor": 2
}
