{
 "cells": [
  {
   "cell_type": "code",
   "execution_count": 87,
   "metadata": {},
   "outputs": [],
   "source": [
    "import pandas as pd\n",
    "import numpy as np\n",
    "from sklearn import preprocessing"
   ]
  },
  {
   "cell_type": "code",
   "execution_count": 88,
   "metadata": {},
   "outputs": [],
   "source": [
    "data = pd.read_csv('csvs/datosFiltrados.csv')"
   ]
  },
  {
   "cell_type": "code",
   "execution_count": 89,
   "metadata": {},
   "outputs": [],
   "source": [
    "d = preprocessing.Imputer(strategy = 'median')"
   ]
  },
  {
   "cell_type": "code",
   "execution_count": 90,
   "metadata": {},
   "outputs": [],
   "source": [
    "data2 = data[['expenses', 'floor', 'lat', 'lon', 'price_aprox_usd', 'rooms',\n",
    "       'surface_covered_in_m2', 'surface_total_in_m2']]"
   ]
  },
  {
   "cell_type": "code",
   "execution_count": 91,
   "metadata": {},
   "outputs": [
    {
     "name": "stdout",
     "output_type": "stream",
     "text": [
      "<class 'pandas.core.frame.DataFrame'>\n",
      "RangeIndex: 158352 entries, 0 to 158351\n",
      "Data columns (total 8 columns):\n",
      "expenses                 21572 non-null float64\n",
      "floor                    18702 non-null float64\n",
      "lat                      158352 non-null float64\n",
      "lon                      158352 non-null float64\n",
      "price_aprox_usd          158352 non-null float64\n",
      "rooms                    97155 non-null float64\n",
      "surface_covered_in_m2    139468 non-null float64\n",
      "surface_total_in_m2      112609 non-null float64\n",
      "dtypes: float64(8)\n",
      "memory usage: 9.7 MB\n"
     ]
    }
   ],
   "source": [
    "data2.info()"
   ]
  },
  {
   "cell_type": "code",
   "execution_count": 92,
   "metadata": {},
   "outputs": [
    {
     "data": {
      "text/plain": [
       "Imputer(axis=0, copy=True, missing_values='NaN', strategy='median', verbose=0)"
      ]
     },
     "execution_count": 92,
     "metadata": {},
     "output_type": "execute_result"
    }
   ],
   "source": [
    "d.fit(data2)"
   ]
  },
  {
   "cell_type": "code",
   "execution_count": 93,
   "metadata": {},
   "outputs": [],
   "source": [
    "a = d.transform(data2)"
   ]
  },
  {
   "cell_type": "code",
   "execution_count": 94,
   "metadata": {},
   "outputs": [
    {
     "data": {
      "text/plain": [
       "array([  2.00000000e+03,   3.00000000e+00,  -3.49996878e+01,\n",
       "        -5.78583921e+01,   6.00000000e+04,   3.00000000e+00,\n",
       "         7.60000000e+01,   7.60000000e+02])"
      ]
     },
     "execution_count": 94,
     "metadata": {},
     "output_type": "execute_result"
    }
   ],
   "source": [
    "a[158351]"
   ]
  },
  {
   "cell_type": "code",
   "execution_count": 95,
   "metadata": {},
   "outputs": [],
   "source": [
    "datos = pd.DataFrame(a)"
   ]
  },
  {
   "cell_type": "code",
   "execution_count": 96,
   "metadata": {},
   "outputs": [],
   "source": [
    "datos.columns = ['expenses', 'floor', 'lat', 'lon', 'price_aprox_usd', 'rooms',\n",
    "       'surface_covered_in_m2', 'surface_total_in_m2']"
   ]
  },
  {
   "cell_type": "code",
   "execution_count": 97,
   "metadata": {},
   "outputs": [],
   "source": [
    "datos = pd.read_csv('csvs/datosSinNan.csv')"
   ]
  },
  {
   "cell_type": "code",
   "execution_count": 98,
   "metadata": {},
   "outputs": [],
   "source": [
    "from sklearn.neighbors import KNeighborsRegressor"
   ]
  },
  {
   "cell_type": "code",
   "execution_count": 99,
   "metadata": {},
   "outputs": [],
   "source": [
    "knn = KNeighborsRegressor(n_neighbors = 5, p = 1)"
   ]
  },
  {
   "cell_type": "code",
   "execution_count": 100,
   "metadata": {},
   "outputs": [
    {
     "data": {
      "text/plain": [
       "0.08945892694755987"
      ]
     },
     "execution_count": 100,
     "metadata": {},
     "output_type": "execute_result"
    }
   ],
   "source": [
    "from sklearn import cross_validation\n",
    "(float(14166)/float(158352))"
   ]
  },
  {
   "cell_type": "code",
   "execution_count": 101,
   "metadata": {},
   "outputs": [],
   "source": [
    "rs = cross_validation.ShuffleSplit(n=158352,random_state=0)"
   ]
  },
  {
   "cell_type": "code",
   "execution_count": 102,
   "metadata": {},
   "outputs": [
    {
     "name": "stdout",
     "output_type": "stream",
     "text": [
      "<class 'pandas.core.frame.DataFrame'>\n",
      "RangeIndex: 158352 entries, 0 to 158351\n",
      "Data columns (total 12 columns):\n",
      "created_on                 158352 non-null object\n",
      "description                158352 non-null object\n",
      "expenses                   158352 non-null float64\n",
      "floor                      158352 non-null float64\n",
      "lat                        158352 non-null float64\n",
      "lon                        158352 non-null float64\n",
      "place_with_parent_names    158352 non-null object\n",
      "price_aprox_usd            158352 non-null float64\n",
      "property_type              158352 non-null object\n",
      "rooms                      158352 non-null float64\n",
      "surface_covered_in_m2      158352 non-null float64\n",
      "surface_total_in_m2        158352 non-null float64\n",
      "dtypes: float64(8), object(4)\n",
      "memory usage: 14.5+ MB\n"
     ]
    }
   ],
   "source": [
    "datos.info()"
   ]
  },
  {
   "cell_type": "code",
   "execution_count": 103,
   "metadata": {},
   "outputs": [],
   "source": [
    "for train_index, test_index in rs:\n",
    "    traindata = datos.loc[train_index]\n",
    "    testdata = datos.loc[test_index]"
   ]
  },
  {
   "cell_type": "code",
   "execution_count": 104,
   "metadata": {},
   "outputs": [
    {
     "name": "stdout",
     "output_type": "stream",
     "text": [
      "<class 'pandas.core.frame.DataFrame'>\n",
      "Int64Index: 142516 entries, 68258 to 138674\n",
      "Data columns (total 12 columns):\n",
      "created_on                 142516 non-null object\n",
      "description                142516 non-null object\n",
      "expenses                   142516 non-null float64\n",
      "floor                      142516 non-null float64\n",
      "lat                        142516 non-null float64\n",
      "lon                        142516 non-null float64\n",
      "place_with_parent_names    142516 non-null object\n",
      "price_aprox_usd            142516 non-null float64\n",
      "property_type              142516 non-null object\n",
      "rooms                      142516 non-null float64\n",
      "surface_covered_in_m2      142516 non-null float64\n",
      "surface_total_in_m2        142516 non-null float64\n",
      "dtypes: float64(8), object(4)\n",
      "memory usage: 14.1+ MB\n"
     ]
    }
   ],
   "source": [
    "traindata.info()"
   ]
  },
  {
   "cell_type": "code",
   "execution_count": 105,
   "metadata": {},
   "outputs": [
    {
     "data": {
      "text/plain": [
       "KNeighborsRegressor(algorithm='auto', leaf_size=30, metric='minkowski',\n",
       "          metric_params=None, n_jobs=1, n_neighbors=5, p=1,\n",
       "          weights='uniform')"
      ]
     },
     "execution_count": 105,
     "metadata": {},
     "output_type": "execute_result"
    }
   ],
   "source": [
    "knn.fit(traindata[['expenses', 'floor', 'lat', 'lon', 'rooms',\n",
    "       'surface_covered_in_m2', 'surface_total_in_m2']], traindata['price_aprox_usd'])"
   ]
  },
  {
   "cell_type": "code",
   "execution_count": 106,
   "metadata": {},
   "outputs": [],
   "source": [
    "predictions = knn.predict(testdata[['expenses', 'floor', 'lat', 'lon', 'rooms',\n",
    "       'surface_covered_in_m2', 'surface_total_in_m2']])"
   ]
  },
  {
   "cell_type": "code",
   "execution_count": 107,
   "metadata": {},
   "outputs": [],
   "source": [
    "from sklearn.metrics import mean_squared_error"
   ]
  },
  {
   "cell_type": "code",
   "execution_count": 108,
   "metadata": {},
   "outputs": [
    {
     "data": {
      "text/plain": [
       "10094806651.918501"
      ]
     },
     "execution_count": 108,
     "metadata": {},
     "output_type": "execute_result"
    }
   ],
   "source": [
    "mean_squared_error(testdata['price_aprox_usd'], predictions)"
   ]
  },
  {
   "cell_type": "markdown",
   "metadata": {},
   "source": [
    "manopla: 10094806651.918501  <-- inputer: 72027541444.479355"
   ]
  }
 ],
 "metadata": {
  "kernelspec": {
   "display_name": "Python 3",
   "language": "python",
   "name": "python3"
  },
  "language_info": {
   "codemirror_mode": {
    "name": "ipython",
    "version": 3
   },
   "file_extension": ".py",
   "mimetype": "text/x-python",
   "name": "python",
   "nbconvert_exporter": "python",
   "pygments_lexer": "ipython3",
   "version": "3.5.2"
  }
 },
 "nbformat": 4,
 "nbformat_minor": 2
}
