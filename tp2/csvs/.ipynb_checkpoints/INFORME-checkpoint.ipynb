{
 "cells": [
  {
   "cell_type": "markdown",
   "metadata": {},
   "source": [
    "# <center>Informe Trabajo Práctico 2</center>"
   ]
  },
  {
   "cell_type": "markdown",
   "metadata": {},
   "source": [
    "## Integrantes:\n",
    "\n",
    "#### Condorí, Guillermo   98688\n",
    "#### Cajachuán, Kevin    98725\n",
    "#### Avigliano, Patricio    98861\n"
   ]
  },
  {
   "cell_type": "markdown",
   "metadata": {},
   "source": [
    "# Adaptación del set de datos"
   ]
  },
  {
   "cell_type": "markdown",
   "metadata": {},
   "source": [
    "## Join de los datos\n",
    "En este notebook nos encargamos de juntar todos los csvs de datos a utilizar en un unico csv para trabajar."
   ]
  },
  {
   "cell_type": "code",
   "execution_count": 12,
   "metadata": {},
   "outputs": [],
   "source": [
    "import pandas as pd\n",
    "import numpy as np\n",
    "import matplotlib.pyplot as plt\n",
    "%matplotlib inline"
   ]
  },
  {
   "cell_type": "code",
   "execution_count": 13,
   "metadata": {},
   "outputs": [],
   "source": [
    "data1 = pd.read_csv('csvs/properati-AR-2016-01-01-properties-sell.csv')\n",
    "data2 = pd.read_csv('csvs/properati-AR-2016-02-01-properties-sell.csv')\n",
    "data3 = pd.read_csv('csvs/properati-AR-2016-03-01-properties-sell.csv')\n",
    "data4 = pd.read_csv('csvs/properati-AR-2016-04-01-properties-sell.csv')\n",
    "data5 = pd.read_csv('csvs/properati-AR-2016-05-01-properties-sell.csv')\n",
    "data6 = pd.read_csv('csvs/properati-AR-2016-06-01-properties-sell.csv')\n",
    "data7 = pd.read_csv('csvs/properati-AR-2016-07-01-properties-sell.csv')\n",
    "data8 = pd.read_csv('csvs/properati-AR-2016-08-01-properties-sell.csv')\n",
    "data9 = pd.read_csv('csvs/properati-AR-2016-09-01-properties-sell.csv')\n",
    "data10 = pd.read_csv('csvs/properati-AR-2016-10-01-properties-sell.csv')\n",
    "data11 = pd.read_csv('csvs/properati-AR-2016-11-01-properties-sell.csv')\n",
    "data12 = pd.read_csv('csvs/properati-AR-2016-12-01-properties-sell.csv')\n",
    "data13 = pd.read_csv('csvs/properati-AR-2017-01-01-properties-sell.csv')\n",
    "data14 = pd.read_csv('csvs/properati-AR-2017-02-01-properties-sell.csv')\n",
    "data15 = pd.read_csv('csvs/properati-AR-2017-03-01-properties-sell.csv')\n",
    "data16 = pd.read_csv('csvs/properati-AR-2017-04-01-properties-sell.csv')\n",
    "data17 = pd.read_csv('csvs/properati-AR-2017-05-01-properties-sell.csv')\n",
    "data18 = pd.read_csv('csvs/properati-AR-2017-06-01-properties-sell.csv')\n",
    "data19 = pd.read_csv('csvs/properati-AR-2017-06-06-properties-sell.csv')\n",
    "data20 = pd.read_csv('csvs/properati-AR-2017-07-03-properties-sell.csv')\n",
    "data21 = pd.read_csv('csvs/properati-AR-2017-08-01-properties-sell.csv')\n",
    "data22 = pd.read_csv('csvs/properati-AR-2017-09-01-properties-sell-six_months.csv')\n",
    "data23 = pd.read_csv('csvs/properati-AR-2017-10-01-properties-sell.csv')"
   ]
  },
  {
   "cell_type": "code",
   "execution_count": 15,
   "metadata": {},
   "outputs": [],
   "source": [
    "data = pd.concat([data1, data2, data3, data4, data5, data6, data7, data8, data9, data10, \\\n",
    "                 data11, data12, data13, data14, data15, data16, data17, data18, data19, data20, \\\n",
    "                 data21, data22, data23])"
   ]
  },
  {
   "cell_type": "code",
   "execution_count": 16,
   "metadata": {},
   "outputs": [
    {
     "name": "stdout",
     "output_type": "stream",
     "text": [
      "<class 'pandas.core.frame.DataFrame'>\n",
      "Int64Index: 1316434 entries, 0 to 196718\n",
      "Data columns (total 27 columns):\n",
      "country_name                  1316434 non-null object\n",
      "created_on                    1316434 non-null object\n",
      "currency                      1145291 non-null object\n",
      "description                   1316356 non-null object\n",
      "expenses                      142854 non-null float64\n",
      "floor                         139886 non-null float64\n",
      "geonames_id                   1053967 non-null float64\n",
      "id                            1316434 non-null object\n",
      "image_thumbnail               318274 non-null object\n",
      "lat                           952738 non-null float64\n",
      "lat-lon                       952738 non-null object\n",
      "lon                           952738 non-null float64\n",
      "operation                     324886 non-null object\n",
      "place_name                    1316152 non-null object\n",
      "place_with_parent_names       1316434 non-null object\n",
      "price                         1162149 non-null float64\n",
      "price_aprox_local_currency    1162149 non-null float64\n",
      "price_aprox_usd               1162149 non-null float64\n",
      "price_per_m2                  1011651 non-null float64\n",
      "price_usd_per_m2              819976 non-null float64\n",
      "properati_url                 324886 non-null object\n",
      "property_type                 1316434 non-null object\n",
      "rooms                         789737 non-null float64\n",
      "state_name                    1316434 non-null object\n",
      "surface_covered_in_m2         1147593 non-null float64\n",
      "surface_total_in_m2           976190 non-null float64\n",
      "title                         1316434 non-null object\n",
      "dtypes: float64(13), object(14)\n",
      "memory usage: 281.2+ MB\n"
     ]
    }
   ],
   "source": [
    "data.info()"
   ]
  },
  {
   "cell_type": "code",
   "execution_count": 17,
   "metadata": {},
   "outputs": [],
   "source": [
    "data=data.dropna(subset=['lat-lon']).reset_index(drop = True)"
   ]
  },
  {
   "cell_type": "code",
   "execution_count": 18,
   "metadata": {},
   "outputs": [],
   "source": [
    "data = data.loc[(data.place_with_parent_names.str.contains('Capital Federal')) | \\\n",
    "                (data.place_with_parent_names.str.contains('G.B.A.'))]"
   ]
  },
  {
   "cell_type": "code",
   "execution_count": 19,
   "metadata": {},
   "outputs": [],
   "source": [
    "data.to_csv(\"csvs/datosConDuplicados.csv\", index = False)"
   ]
  },
  {
   "cell_type": "code",
   "execution_count": 20,
   "metadata": {},
   "outputs": [
    {
     "name": "stdout",
     "output_type": "stream",
     "text": [
      "<class 'pandas.core.frame.DataFrame'>\n",
      "Int64Index: 875661 entries, 0 to 952737\n",
      "Data columns (total 27 columns):\n",
      "country_name                  875661 non-null object\n",
      "created_on                    875661 non-null object\n",
      "currency                      767011 non-null object\n",
      "description                   875641 non-null object\n",
      "expenses                      110161 non-null float64\n",
      "floor                         96544 non-null float64\n",
      "geonames_id                   690233 non-null float64\n",
      "id                            875661 non-null object\n",
      "image_thumbnail               130399 non-null object\n",
      "lat                           875661 non-null float64\n",
      "lat-lon                       875661 non-null object\n",
      "lon                           875661 non-null float64\n",
      "operation                     130399 non-null object\n",
      "place_name                    875379 non-null object\n",
      "place_with_parent_names       875661 non-null object\n",
      "price                         781422 non-null float64\n",
      "price_aprox_local_currency    781422 non-null float64\n",
      "price_aprox_usd               781422 non-null float64\n",
      "price_per_m2                  677973 non-null float64\n",
      "price_usd_per_m2              556249 non-null float64\n",
      "properati_url                 130399 non-null object\n",
      "property_type                 875661 non-null object\n",
      "rooms                         554343 non-null float64\n",
      "state_name                    875661 non-null object\n",
      "surface_covered_in_m2         763140 non-null float64\n",
      "surface_total_in_m2           663887 non-null float64\n",
      "title                         875661 non-null object\n",
      "dtypes: float64(13), object(14)\n",
      "memory usage: 187.1+ MB\n"
     ]
    }
   ],
   "source": [
    "data.info()"
   ]
  },
  {
   "cell_type": "markdown",
   "metadata": {},
   "source": [
    "Eliminamos algunos registros que no tienen campos fundamentales o estan fuera del rango geografico donde vamos a trabajar."
   ]
  },
  {
   "cell_type": "markdown",
   "metadata": {},
   "source": [
    "## Eliminar duplicados\n",
    "En este notebook nos encargamos de eliminar registros que aparecen repetidos en nuestro set de datos. Para hacer esto optamos por ordenar el arreglo por ubicacion geografica y por descripcion, de manera que registros con la misma ubicacion y descripcion (esos son los que vamos a considerar repetidos) queden juntos.\n",
    "Luego al recorrer el arreglo agregamos una columna que indica si el registro debe eliminarse o no."
   ]
  },
  {
   "cell_type": "code",
   "execution_count": 2,
   "metadata": {},
   "outputs": [],
   "source": [
    "import pandas as pd\n",
    "import numpy as np\n",
    "import math\n",
    "import matplotlib.pyplot as plt\n",
    "%matplotlib inline"
   ]
  },
  {
   "cell_type": "code",
   "execution_count": 3,
   "metadata": {},
   "outputs": [],
   "source": [
    "data = pd.read_csv('csvs/datosConDuplicados.csv', low_memory=False)"
   ]
  },
  {
   "cell_type": "code",
   "execution_count": 4,
   "metadata": {},
   "outputs": [
    {
     "name": "stdout",
     "output_type": "stream",
     "text": [
      "<class 'pandas.core.frame.DataFrame'>\n",
      "RangeIndex: 875661 entries, 0 to 875660\n",
      "Data columns (total 27 columns):\n",
      "country_name                  875661 non-null object\n",
      "created_on                    875661 non-null object\n",
      "currency                      767011 non-null object\n",
      "description                   875641 non-null object\n",
      "expenses                      110161 non-null float64\n",
      "floor                         96544 non-null float64\n",
      "geonames_id                   690233 non-null float64\n",
      "id                            875661 non-null object\n",
      "image_thumbnail               130399 non-null object\n",
      "lat                           875661 non-null float64\n",
      "lat-lon                       875661 non-null object\n",
      "lon                           875661 non-null float64\n",
      "operation                     130399 non-null object\n",
      "place_name                    875379 non-null object\n",
      "place_with_parent_names       875661 non-null object\n",
      "price                         781422 non-null float64\n",
      "price_aprox_local_currency    781422 non-null float64\n",
      "price_aprox_usd               781422 non-null float64\n",
      "price_per_m2                  677973 non-null float64\n",
      "price_usd_per_m2              556249 non-null float64\n",
      "properati_url                 130399 non-null object\n",
      "property_type                 875661 non-null object\n",
      "rooms                         554343 non-null float64\n",
      "state_name                    875661 non-null object\n",
      "surface_covered_in_m2         763140 non-null float64\n",
      "surface_total_in_m2           663887 non-null float64\n",
      "title                         875661 non-null object\n",
      "dtypes: float64(13), object(14)\n",
      "memory usage: 180.4+ MB\n"
     ]
    }
   ],
   "source": [
    "data.info()"
   ]
  },
  {
   "cell_type": "code",
   "execution_count": 5,
   "metadata": {},
   "outputs": [],
   "source": [
    "data=data.dropna(subset=['description'])"
   ]
  },
  {
   "cell_type": "code",
   "execution_count": 6,
   "metadata": {},
   "outputs": [],
   "source": [
    "data.sort_values(by = ['lat-lon','description'], inplace=True)"
   ]
  },
  {
   "cell_type": "code",
   "execution_count": 7,
   "metadata": {},
   "outputs": [],
   "source": [
    "data = data[data.price_aprox_usd.notnull()]"
   ]
  },
  {
   "cell_type": "code",
   "execution_count": 8,
   "metadata": {},
   "outputs": [],
   "source": [
    "data = data.reset_index(drop = True)"
   ]
  },
  {
   "cell_type": "code",
   "execution_count": 9,
   "metadata": {},
   "outputs": [],
   "source": [
    "data['duplicado']=True;\n",
    "i=0\n",
    "while i < (len(data.index)):\n",
    "    j = i + 1\n",
    "    while((data.loc[i,'lat-lon'] == data.loc[j,'lat-lon']) & (data.loc[i,'description'] == data.loc[j,'description'])):\n",
    "        j = j + 1\n",
    "        if(j == len(data.index)):\n",
    "            break;\n",
    "    maxi = -1\n",
    "    max_idx = i\n",
    "    for x in range(i,j):\n",
    "        if data.loc[x,'price_aprox_usd'] > maxi:\n",
    "            maxi = data.loc[x,'price_aprox_usd']\n",
    "            max_idx = x\n",
    "    data.loc[max_idx,'duplicado']=False\n",
    "    i = j;"
   ]
  },
  {
   "cell_type": "code",
   "execution_count": 10,
   "metadata": {},
   "outputs": [],
   "source": [
    "data = data.loc[data.duplicado == False]"
   ]
  },
  {
   "cell_type": "markdown",
   "metadata": {},
   "source": [
    "Aqui nos deshacemos de los elementos que aparecen duplicados. Un detalle para nada menor es el criterio con que se selecciona el registro que sobrevivirá al encontrar varios registros que hacen referencia a la misma propiedad.\n",
    "Probamos 3 criterios distintos: \n",
    "\n",
    "1) El registro que tiene menor precio sobrevive \n",
    "\n",
    "2) El registro que tiene mayor precio sobrevive \n",
    "\n",
    "3) Se calcula el promedio entre el mayor y menor precio encontrado \n",
    "\n",
    "Despues de probar los 3 criterios observamos que el que arrojaba mejores resultados era el numero 2 y ese fue el criterio que elegimos."
   ]
  },
  {
   "cell_type": "code",
   "execution_count": 15,
   "metadata": {
    "scrolled": true
   },
   "outputs": [
    {
     "data": {
      "text/html": [
       "<div>\n",
       "<style>\n",
       "    .dataframe thead tr:only-child th {\n",
       "        text-align: right;\n",
       "    }\n",
       "\n",
       "    .dataframe thead th {\n",
       "        text-align: left;\n",
       "    }\n",
       "\n",
       "    .dataframe tbody tr th {\n",
       "        vertical-align: top;\n",
       "    }\n",
       "</style>\n",
       "<table border=\"1\" class=\"dataframe\">\n",
       "  <thead>\n",
       "    <tr style=\"text-align: right;\">\n",
       "      <th></th>\n",
       "      <th>country_name</th>\n",
       "      <th>created_on</th>\n",
       "      <th>currency</th>\n",
       "      <th>description</th>\n",
       "      <th>expenses</th>\n",
       "      <th>floor</th>\n",
       "      <th>geonames_id</th>\n",
       "      <th>id</th>\n",
       "      <th>image_thumbnail</th>\n",
       "      <th>lat</th>\n",
       "      <th>...</th>\n",
       "      <th>price_per_m2</th>\n",
       "      <th>price_usd_per_m2</th>\n",
       "      <th>properati_url</th>\n",
       "      <th>property_type</th>\n",
       "      <th>rooms</th>\n",
       "      <th>state_name</th>\n",
       "      <th>surface_covered_in_m2</th>\n",
       "      <th>surface_total_in_m2</th>\n",
       "      <th>title</th>\n",
       "      <th>duplicado</th>\n",
       "    </tr>\n",
       "  </thead>\n",
       "  <tbody>\n",
       "    <tr>\n",
       "      <th>3048</th>\n",
       "      <td>Argentina</td>\n",
       "      <td>2017-08-27</td>\n",
       "      <td>USD</td>\n",
       "      <td>EXCELENTE CASA DESARROLL...</td>\n",
       "      <td>NaN</td>\n",
       "      <td>NaN</td>\n",
       "      <td>3434130.0</td>\n",
       "      <td>f60bd2e07f7a54b9c4909b41379e2e0588f5f011</td>\n",
       "      <td>https://thumbs4.properati.com/4/oD59x_ZhYo-7ZB...</td>\n",
       "      <td>-34.340253</td>\n",
       "      <td>...</td>\n",
       "      <td>1516.587678</td>\n",
       "      <td>1516.587678</td>\n",
       "      <td>http://www.properati.com.ar/1dx7w_venta_depart...</td>\n",
       "      <td>house</td>\n",
       "      <td>1.0</td>\n",
       "      <td>Bs.As. G.B.A. Zona Norte</td>\n",
       "      <td>211.0</td>\n",
       "      <td>211.0</td>\n",
       "      <td>Country El Cantón - Escobar - Bs.As. G.B.A. Zo...</td>\n",
       "      <td>False</td>\n",
       "    </tr>\n",
       "    <tr>\n",
       "      <th>3049</th>\n",
       "      <td>Argentina</td>\n",
       "      <td>2017-08-27</td>\n",
       "      <td>USD</td>\n",
       "      <td>CONTACTO 155411811313    ...</td>\n",
       "      <td>NaN</td>\n",
       "      <td>NaN</td>\n",
       "      <td>NaN</td>\n",
       "      <td>ce2b63f1ab2931d49bcb9d68910cebd39c470bd3</td>\n",
       "      <td>https://thumbs4.properati.com/6/Vj2f_Onb7LPyb8...</td>\n",
       "      <td>-34.340253</td>\n",
       "      <td>...</td>\n",
       "      <td>1350.000000</td>\n",
       "      <td>1350.000000</td>\n",
       "      <td>http://www.properati.com.ar/1dx7e_venta_depart...</td>\n",
       "      <td>house</td>\n",
       "      <td>1.0</td>\n",
       "      <td>Bs.As. G.B.A. Zona Norte</td>\n",
       "      <td>200.0</td>\n",
       "      <td>200.0</td>\n",
       "      <td>Country San Matías - Escobar - Bs.As. G.B.A. Z...</td>\n",
       "      <td>False</td>\n",
       "    </tr>\n",
       "    <tr>\n",
       "      <th>3051</th>\n",
       "      <td>Argentina</td>\n",
       "      <td>2017-08-27</td>\n",
       "      <td>USD</td>\n",
       "      <td>MUY BUENA CASA EN CONSTRUCC...</td>\n",
       "      <td>NaN</td>\n",
       "      <td>NaN</td>\n",
       "      <td>3434130.0</td>\n",
       "      <td>99800c7ceb8090ca8cde2ee4711fc6fa97d301ee</td>\n",
       "      <td>https://thumbs4.properati.com/2/3ZIieJnZg1jIqb...</td>\n",
       "      <td>-34.340253</td>\n",
       "      <td>...</td>\n",
       "      <td>1121.951220</td>\n",
       "      <td>1121.951220</td>\n",
       "      <td>http://www.properati.com.ar/1dx7q_venta_depart...</td>\n",
       "      <td>house</td>\n",
       "      <td>1.0</td>\n",
       "      <td>Bs.As. G.B.A. Zona Norte</td>\n",
       "      <td>205.0</td>\n",
       "      <td>205.0</td>\n",
       "      <td>Country El Cantón - Escobar - Bs.As. G.B.A. Zo...</td>\n",
       "      <td>False</td>\n",
       "    </tr>\n",
       "    <tr>\n",
       "      <th>3052</th>\n",
       "      <td>Argentina</td>\n",
       "      <td>2017-08-27</td>\n",
       "      <td>USD</td>\n",
       "      <td>CONTACTO 155411117701       ...</td>\n",
       "      <td>NaN</td>\n",
       "      <td>NaN</td>\n",
       "      <td>NaN</td>\n",
       "      <td>988704da493999ff7999f03f4913b2478a706eb1</td>\n",
       "      <td>https://thumbs4.properati.com/0/QBPERFZagD28hc...</td>\n",
       "      <td>-34.340253</td>\n",
       "      <td>...</td>\n",
       "      <td>1187.500000</td>\n",
       "      <td>1187.500000</td>\n",
       "      <td>http://www.properati.com.ar/1dwz8_venta_depart...</td>\n",
       "      <td>house</td>\n",
       "      <td>1.0</td>\n",
       "      <td>Bs.As. G.B.A. Zona Norte</td>\n",
       "      <td>160.0</td>\n",
       "      <td>160.0</td>\n",
       "      <td>Country San Matías - Escobar - Bs.As. G.B.A. Z...</td>\n",
       "      <td>False</td>\n",
       "    </tr>\n",
       "    <tr>\n",
       "      <th>3056</th>\n",
       "      <td>Argentina</td>\n",
       "      <td>2017-08-27</td>\n",
       "      <td>USD</td>\n",
       "      <td>MUY BUENA CASA DESARROLLADA EN ...</td>\n",
       "      <td>NaN</td>\n",
       "      <td>NaN</td>\n",
       "      <td>3434130.0</td>\n",
       "      <td>acf10d95a0119cf4b2a239f46620433bea621bbe</td>\n",
       "      <td>https://thumbs4.properati.com/6/GCvm9oAlH32d97...</td>\n",
       "      <td>-34.340253</td>\n",
       "      <td>...</td>\n",
       "      <td>1118.012422</td>\n",
       "      <td>1118.012422</td>\n",
       "      <td>http://www.properati.com.ar/1dx7u_venta_depart...</td>\n",
       "      <td>house</td>\n",
       "      <td>1.0</td>\n",
       "      <td>Bs.As. G.B.A. Zona Norte</td>\n",
       "      <td>161.0</td>\n",
       "      <td>161.0</td>\n",
       "      <td>Country El Cantón - Escobar - Bs.As. G.B.A. Zo...</td>\n",
       "      <td>False</td>\n",
       "    </tr>\n",
       "    <tr>\n",
       "      <th>3057</th>\n",
       "      <td>Argentina</td>\n",
       "      <td>2017-08-27</td>\n",
       "      <td>USD</td>\n",
       "      <td>EXCELENTE CASA DESARROLLADA EN D...</td>\n",
       "      <td>NaN</td>\n",
       "      <td>NaN</td>\n",
       "      <td>3434130.0</td>\n",
       "      <td>7dd775031b1199e4f8f334206421554059086951</td>\n",
       "      <td>https://thumbs4.properati.com/0/DzWlZshD5Ma53Z...</td>\n",
       "      <td>-34.340253</td>\n",
       "      <td>...</td>\n",
       "      <td>1222.222222</td>\n",
       "      <td>1222.222222</td>\n",
       "      <td>http://www.properati.com.ar/1dx7t_venta_depart...</td>\n",
       "      <td>house</td>\n",
       "      <td>NaN</td>\n",
       "      <td>Bs.As. G.B.A. Zona Norte</td>\n",
       "      <td>180.0</td>\n",
       "      <td>180.0</td>\n",
       "      <td>Country El Cantón - Escobar - Bs.As. G.B.A. Zo...</td>\n",
       "      <td>False</td>\n",
       "    </tr>\n",
       "    <tr>\n",
       "      <th>3058</th>\n",
       "      <td>Argentina</td>\n",
       "      <td>2017-08-27</td>\n",
       "      <td>USD</td>\n",
       "      <td>EXCELENTE CASA SOBRE LOTE AL AGU...</td>\n",
       "      <td>NaN</td>\n",
       "      <td>NaN</td>\n",
       "      <td>3434130.0</td>\n",
       "      <td>19300c7eb1d155a9ef0406cc256a373a65be1e32</td>\n",
       "      <td>https://thumbs4.properati.com/3/b1Lk71i5y2wsVs...</td>\n",
       "      <td>-34.340253</td>\n",
       "      <td>...</td>\n",
       "      <td>1272.000000</td>\n",
       "      <td>1272.000000</td>\n",
       "      <td>http://www.properati.com.ar/1dx7j_venta_depart...</td>\n",
       "      <td>house</td>\n",
       "      <td>1.0</td>\n",
       "      <td>Bs.As. G.B.A. Zona Norte</td>\n",
       "      <td>250.0</td>\n",
       "      <td>250.0</td>\n",
       "      <td>Country El Cantón - Escobar - Bs.As. G.B.A. Zo...</td>\n",
       "      <td>False</td>\n",
       "    </tr>\n",
       "    <tr>\n",
       "      <th>3059</th>\n",
       "      <td>Argentina</td>\n",
       "      <td>2017-08-26</td>\n",
       "      <td>USD</td>\n",
       "      <td>CLAUDIA: 034815431117705         ...</td>\n",
       "      <td>NaN</td>\n",
       "      <td>NaN</td>\n",
       "      <td>3434130.0</td>\n",
       "      <td>25d30cbe1f71932904e42018b213741299fbc059</td>\n",
       "      <td>https://thumbs4.properati.com/0/28YUhFh7U386cD...</td>\n",
       "      <td>-34.340253</td>\n",
       "      <td>...</td>\n",
       "      <td>1196.319018</td>\n",
       "      <td>1196.319018</td>\n",
       "      <td>http://www.properati.com.ar/1dvj7_venta_depart...</td>\n",
       "      <td>house</td>\n",
       "      <td>1.0</td>\n",
       "      <td>Bs.As. G.B.A. Zona Norte</td>\n",
       "      <td>163.0</td>\n",
       "      <td>163.0</td>\n",
       "      <td>Country El Cantón - Escobar - Bs.As. G.B.A. Zo...</td>\n",
       "      <td>False</td>\n",
       "    </tr>\n",
       "    <tr>\n",
       "      <th>3062</th>\n",
       "      <td>Argentina</td>\n",
       "      <td>2017-08-27</td>\n",
       "      <td>USD</td>\n",
       "      <td>MUY BUENA CASA DESARROLLADA EN UN...</td>\n",
       "      <td>NaN</td>\n",
       "      <td>NaN</td>\n",
       "      <td>3434130.0</td>\n",
       "      <td>ab0005918d42411c91ed4cfc599c6f35a68d1b86</td>\n",
       "      <td>https://thumbs4.properati.com/3/jdk220i93KP2CH...</td>\n",
       "      <td>-34.340253</td>\n",
       "      <td>...</td>\n",
       "      <td>1235.294118</td>\n",
       "      <td>1235.294118</td>\n",
       "      <td>http://www.properati.com.ar/1dx8e_venta_depart...</td>\n",
       "      <td>house</td>\n",
       "      <td>NaN</td>\n",
       "      <td>Bs.As. G.B.A. Zona Norte</td>\n",
       "      <td>170.0</td>\n",
       "      <td>170.0</td>\n",
       "      <td>Country El Cantón - Escobar - Bs.As. G.B.A. Zo...</td>\n",
       "      <td>False</td>\n",
       "    </tr>\n",
       "    <tr>\n",
       "      <th>3063</th>\n",
       "      <td>Argentina</td>\n",
       "      <td>2017-08-27</td>\n",
       "      <td>USD</td>\n",
       "      <td>MUY BUENA CASA SOBRE LOTE AL AGUA...</td>\n",
       "      <td>NaN</td>\n",
       "      <td>NaN</td>\n",
       "      <td>3434130.0</td>\n",
       "      <td>eea376cb576d6ab82fe7a8e2746491b06198733e</td>\n",
       "      <td>https://thumbs4.properati.com/4/4udqByg7CHCU6Y...</td>\n",
       "      <td>-34.340253</td>\n",
       "      <td>...</td>\n",
       "      <td>1277.777778</td>\n",
       "      <td>1277.777778</td>\n",
       "      <td>http://www.properati.com.ar/1dx86_venta_depart...</td>\n",
       "      <td>house</td>\n",
       "      <td>1.0</td>\n",
       "      <td>Bs.As. G.B.A. Zona Norte</td>\n",
       "      <td>180.0</td>\n",
       "      <td>180.0</td>\n",
       "      <td>Country El Cantón - Escobar - Bs.As. G.B.A. Zo...</td>\n",
       "      <td>False</td>\n",
       "    </tr>\n",
       "    <tr>\n",
       "      <th>3064</th>\n",
       "      <td>Argentina</td>\n",
       "      <td>2017-08-27</td>\n",
       "      <td>USD</td>\n",
       "      <td>CONTACTO : GUSTAVO 1551811313- 15541...</td>\n",
       "      <td>NaN</td>\n",
       "      <td>NaN</td>\n",
       "      <td>NaN</td>\n",
       "      <td>9146e1cc2724d8079623246f0a96c34bbe21ffbc</td>\n",
       "      <td>https://thumbs4.properati.com/7/FANhZv5cBoB33a...</td>\n",
       "      <td>-34.340253</td>\n",
       "      <td>...</td>\n",
       "      <td>1335.616438</td>\n",
       "      <td>1335.616438</td>\n",
       "      <td>http://www.properati.com.ar/1dx6z_venta_depart...</td>\n",
       "      <td>house</td>\n",
       "      <td>1.0</td>\n",
       "      <td>Bs.As. G.B.A. Zona Norte</td>\n",
       "      <td>146.0</td>\n",
       "      <td>146.0</td>\n",
       "      <td>Country San Matías - Escobar - Bs.As. G.B.A. Z...</td>\n",
       "      <td>False</td>\n",
       "    </tr>\n",
       "    <tr>\n",
       "      <th>3068</th>\n",
       "      <td>Argentina</td>\n",
       "      <td>2017-08-26</td>\n",
       "      <td>USD</td>\n",
       "      <td>CLAUDIA: 034815431117705/28            ...</td>\n",
       "      <td>NaN</td>\n",
       "      <td>NaN</td>\n",
       "      <td>3434130.0</td>\n",
       "      <td>ef02a51f90ada4bf4227c67bba855c4d93b5ca15</td>\n",
       "      <td>https://thumbs4.properati.com/3/CGtxU61UHpfn7Y...</td>\n",
       "      <td>-34.340253</td>\n",
       "      <td>...</td>\n",
       "      <td>1357.142857</td>\n",
       "      <td>1357.142857</td>\n",
       "      <td>http://www.properati.com.ar/1dvj9_venta_depart...</td>\n",
       "      <td>house</td>\n",
       "      <td>1.0</td>\n",
       "      <td>Bs.As. G.B.A. Zona Norte</td>\n",
       "      <td>140.0</td>\n",
       "      <td>140.0</td>\n",
       "      <td>Country El Cantón - Escobar - Bs.As. G.B.A. Zo...</td>\n",
       "      <td>False</td>\n",
       "    </tr>\n",
       "    <tr>\n",
       "      <th>3070</th>\n",
       "      <td>Argentina</td>\n",
       "      <td>2017-08-27</td>\n",
       "      <td>USD</td>\n",
       "      <td>CONTACTO 155411811313                MUY...</td>\n",
       "      <td>NaN</td>\n",
       "      <td>NaN</td>\n",
       "      <td>NaN</td>\n",
       "      <td>bff722e3976db324573e97c2bbac39fb094101ce</td>\n",
       "      <td>https://thumbs4.properati.com/8/FiHmL85-XR4A1J...</td>\n",
       "      <td>-34.340253</td>\n",
       "      <td>...</td>\n",
       "      <td>1258.278146</td>\n",
       "      <td>1258.278146</td>\n",
       "      <td>http://www.properati.com.ar/1dx7c_venta_depart...</td>\n",
       "      <td>house</td>\n",
       "      <td>1.0</td>\n",
       "      <td>Bs.As. G.B.A. Zona Norte</td>\n",
       "      <td>151.0</td>\n",
       "      <td>151.0</td>\n",
       "      <td>Country San Matías - Escobar - Bs.As. G.B.A. Z...</td>\n",
       "      <td>False</td>\n",
       "    </tr>\n",
       "    <tr>\n",
       "      <th>3072</th>\n",
       "      <td>Argentina</td>\n",
       "      <td>2017-08-27</td>\n",
       "      <td>USD</td>\n",
       "      <td>CONTACTO : 155181117728              MUY B...</td>\n",
       "      <td>NaN</td>\n",
       "      <td>NaN</td>\n",
       "      <td>NaN</td>\n",
       "      <td>f7698eafa29f9842007b783ed17deda173285e6a</td>\n",
       "      <td>https://thumbs4.properati.com/7/ofHQ2_Id_rvLCQ...</td>\n",
       "      <td>-34.340253</td>\n",
       "      <td>...</td>\n",
       "      <td>1500.000000</td>\n",
       "      <td>1500.000000</td>\n",
       "      <td>http://www.properati.com.ar/1dx6i_venta_depart...</td>\n",
       "      <td>apartment</td>\n",
       "      <td>1.0</td>\n",
       "      <td>Bs.As. G.B.A. Zona Norte</td>\n",
       "      <td>140.0</td>\n",
       "      <td>140.0</td>\n",
       "      <td>Country San Matías - Escobar - Bs.As. G.B.A. Z...</td>\n",
       "      <td>False</td>\n",
       "    </tr>\n",
       "    <tr>\n",
       "      <th>3074</th>\n",
       "      <td>Argentina</td>\n",
       "      <td>2017-08-27</td>\n",
       "      <td>USD</td>\n",
       "      <td>CONTACTO : GUSTAVO 155181117728 MUY BUENA ...</td>\n",
       "      <td>NaN</td>\n",
       "      <td>NaN</td>\n",
       "      <td>3434130.0</td>\n",
       "      <td>76e9f2581b6906180186a9baedb157987e1e9e28</td>\n",
       "      <td>https://thumbs4.properati.com/5/yVVvOGOc3I2erb...</td>\n",
       "      <td>-34.340253</td>\n",
       "      <td>...</td>\n",
       "      <td>1194.444444</td>\n",
       "      <td>1194.444444</td>\n",
       "      <td>http://www.properati.com.ar/1dx8m_venta_depart...</td>\n",
       "      <td>apartment</td>\n",
       "      <td>1.0</td>\n",
       "      <td>Bs.As. G.B.A. Zona Norte</td>\n",
       "      <td>180.0</td>\n",
       "      <td>180.0</td>\n",
       "      <td>Country El Cantón - Escobar - Bs.As. G.B.A. Zo...</td>\n",
       "      <td>False</td>\n",
       "    </tr>\n",
       "    <tr>\n",
       "      <th>3075</th>\n",
       "      <td>Argentina</td>\n",
       "      <td>2017-08-27</td>\n",
       "      <td>USD</td>\n",
       "      <td>CONTACTO 155411154312955 Claudia     Muy bu...</td>\n",
       "      <td>NaN</td>\n",
       "      <td>NaN</td>\n",
       "      <td>NaN</td>\n",
       "      <td>0a090ead22ed6f04eb332f8e56da63ac751c0587</td>\n",
       "      <td>https://thumbs4.properati.com/8/N6ue8azW8bJ8jA...</td>\n",
       "      <td>-34.340253</td>\n",
       "      <td>...</td>\n",
       "      <td>1100.000000</td>\n",
       "      <td>1100.000000</td>\n",
       "      <td>http://www.properati.com.ar/1dx2v_venta_depart...</td>\n",
       "      <td>house</td>\n",
       "      <td>1.0</td>\n",
       "      <td>Bs.As. G.B.A. Zona Norte</td>\n",
       "      <td>180.0</td>\n",
       "      <td>180.0</td>\n",
       "      <td>Country San Matías - Escobar - Bs.As. G.B.A. Z...</td>\n",
       "      <td>False</td>\n",
       "    </tr>\n",
       "    <tr>\n",
       "      <th>3079</th>\n",
       "      <td>Argentina</td>\n",
       "      <td>2017-08-26</td>\n",
       "      <td>USD</td>\n",
       "      <td>CONTACTO 155523117728   MUY BUENA CASA DESA...</td>\n",
       "      <td>NaN</td>\n",
       "      <td>NaN</td>\n",
       "      <td>NaN</td>\n",
       "      <td>baf5e3719ff5c677f7ba1c9e04114ceaec885220</td>\n",
       "      <td>https://thumbs4.properati.com/8/g_iDjgKe7Vd3IL...</td>\n",
       "      <td>-34.340253</td>\n",
       "      <td>...</td>\n",
       "      <td>1178.343949</td>\n",
       "      <td>1178.343949</td>\n",
       "      <td>http://www.properati.com.ar/1dv5o_venta_depart...</td>\n",
       "      <td>apartment</td>\n",
       "      <td>1.0</td>\n",
       "      <td>Bs.As. G.B.A. Zona Norte</td>\n",
       "      <td>157.0</td>\n",
       "      <td>157.0</td>\n",
       "      <td>Barrio Cerrado Haras Santa María - Escobar - B...</td>\n",
       "      <td>False</td>\n",
       "    </tr>\n",
       "    <tr>\n",
       "      <th>3085</th>\n",
       "      <td>Argentina</td>\n",
       "      <td>2017-08-26</td>\n",
       "      <td>USD</td>\n",
       "      <td>CONTACTO : Claudia 034815431117728         ...</td>\n",
       "      <td>NaN</td>\n",
       "      <td>NaN</td>\n",
       "      <td>3434130.0</td>\n",
       "      <td>fbad1ef8ae780dfe2264f6dd3c507ff930d0fbd9</td>\n",
       "      <td>https://thumbs4.properati.com/6/HNyLdgJH_BXcnH...</td>\n",
       "      <td>-34.340253</td>\n",
       "      <td>...</td>\n",
       "      <td>1303.030303</td>\n",
       "      <td>1303.030303</td>\n",
       "      <td>http://www.properati.com.ar/1dvka_venta_depart...</td>\n",
       "      <td>house</td>\n",
       "      <td>1.0</td>\n",
       "      <td>Bs.As. G.B.A. Zona Norte</td>\n",
       "      <td>165.0</td>\n",
       "      <td>165.0</td>\n",
       "      <td>Country El Cantón - Escobar - Bs.As. G.B.A. Zo...</td>\n",
       "      <td>False</td>\n",
       "    </tr>\n",
       "    <tr>\n",
       "      <th>3087</th>\n",
       "      <td>Argentina</td>\n",
       "      <td>2017-08-27</td>\n",
       "      <td>USD</td>\n",
       "      <td>CONTACTO : CLAUDIA 034815431117728    MUY BUE...</td>\n",
       "      <td>NaN</td>\n",
       "      <td>NaN</td>\n",
       "      <td>NaN</td>\n",
       "      <td>088d765e8694ae895e945e022e08a176fc5b1ff3</td>\n",
       "      <td>https://thumbs4.properati.com/0/bxAr1SBw_0jiQn...</td>\n",
       "      <td>-34.340253</td>\n",
       "      <td>...</td>\n",
       "      <td>1161.971831</td>\n",
       "      <td>1161.971831</td>\n",
       "      <td>http://www.properati.com.ar/1dx4v_venta_depart...</td>\n",
       "      <td>apartment</td>\n",
       "      <td>1.0</td>\n",
       "      <td>Bs.As. G.B.A. Zona Norte</td>\n",
       "      <td>142.0</td>\n",
       "      <td>142.0</td>\n",
       "      <td>Country San Matías - Escobar - Bs.As. G.B.A. Z...</td>\n",
       "      <td>False</td>\n",
       "    </tr>\n",
       "    <tr>\n",
       "      <th>3091</th>\n",
       "      <td>Argentina</td>\n",
       "      <td>2017-08-27</td>\n",
       "      <td>USD</td>\n",
       "      <td>CONTACTO : Gustavo 155181117728 MUY BUENA CAS...</td>\n",
       "      <td>NaN</td>\n",
       "      <td>NaN</td>\n",
       "      <td>3434130.0</td>\n",
       "      <td>603e6f438fb73cc5d1ce1abd224e991ab2f2c1c1</td>\n",
       "      <td>https://thumbs4.properati.com/9/tT2X-3wyQrCEC7...</td>\n",
       "      <td>-34.340253</td>\n",
       "      <td>...</td>\n",
       "      <td>1451.612903</td>\n",
       "      <td>1451.612903</td>\n",
       "      <td>http://www.properati.com.ar/1dx88_venta_depart...</td>\n",
       "      <td>house</td>\n",
       "      <td>1.0</td>\n",
       "      <td>Bs.As. G.B.A. Zona Norte</td>\n",
       "      <td>155.0</td>\n",
       "      <td>155.0</td>\n",
       "      <td>Country El Cantón - Escobar - Bs.As. G.B.A. Zo...</td>\n",
       "      <td>False</td>\n",
       "    </tr>\n",
       "    <tr>\n",
       "      <th>3092</th>\n",
       "      <td>Argentina</td>\n",
       "      <td>2017-08-27</td>\n",
       "      <td>USD</td>\n",
       "      <td>CONTACTO: ANDREA -INGRID 155411117701     MUY...</td>\n",
       "      <td>NaN</td>\n",
       "      <td>NaN</td>\n",
       "      <td>NaN</td>\n",
       "      <td>f93b25a82e78a2a06b85e162f70197e5a820a154</td>\n",
       "      <td>https://thumbs4.properati.com/8/pM-qPkr3BfnAze...</td>\n",
       "      <td>-34.340253</td>\n",
       "      <td>...</td>\n",
       "      <td>1035.714286</td>\n",
       "      <td>1035.714286</td>\n",
       "      <td>http://www.properati.com.ar/1dwza_venta_depart...</td>\n",
       "      <td>apartment</td>\n",
       "      <td>1.0</td>\n",
       "      <td>Bs.As. G.B.A. Zona Norte</td>\n",
       "      <td>140.0</td>\n",
       "      <td>140.0</td>\n",
       "      <td>Country San Matías - Escobar - Bs.As. G.B.A. Z...</td>\n",
       "      <td>False</td>\n",
       "    </tr>\n",
       "    <tr>\n",
       "      <th>3096</th>\n",
       "      <td>Argentina</td>\n",
       "      <td>2017-08-27</td>\n",
       "      <td>USD</td>\n",
       "      <td>CONTACTO: ANDREA -INGRID 155411117701     MUY...</td>\n",
       "      <td>NaN</td>\n",
       "      <td>NaN</td>\n",
       "      <td>NaN</td>\n",
       "      <td>feba70937e2997aac32f81f0060f8101822654cf</td>\n",
       "      <td>https://thumbs4.properati.com/2/CFJiR8B75gQCOx...</td>\n",
       "      <td>-34.340253</td>\n",
       "      <td>...</td>\n",
       "      <td>1038.461538</td>\n",
       "      <td>1038.461538</td>\n",
       "      <td>http://www.properati.com.ar/1dwz6_venta_depart...</td>\n",
       "      <td>apartment</td>\n",
       "      <td>1.0</td>\n",
       "      <td>Bs.As. G.B.A. Zona Norte</td>\n",
       "      <td>130.0</td>\n",
       "      <td>130.0</td>\n",
       "      <td>Country San Matías - Escobar - Bs.As. G.B.A. Z...</td>\n",
       "      <td>False</td>\n",
       "    </tr>\n",
       "    <tr>\n",
       "      <th>3098</th>\n",
       "      <td>Argentina</td>\n",
       "      <td>2017-08-27</td>\n",
       "      <td>USD</td>\n",
       "      <td>CONTACTO: ANDREA -INGRID 155411117701     MUY...</td>\n",
       "      <td>NaN</td>\n",
       "      <td>NaN</td>\n",
       "      <td>NaN</td>\n",
       "      <td>bbc8b9c63e1f9a4087a732eadea9816f0b19d3d5</td>\n",
       "      <td>https://thumbs4.properati.com/1/7haWu2XNsEASY1...</td>\n",
       "      <td>-34.340253</td>\n",
       "      <td>...</td>\n",
       "      <td>1038.461538</td>\n",
       "      <td>1038.461538</td>\n",
       "      <td>http://www.properati.com.ar/1dwz7_venta_depart...</td>\n",
       "      <td>apartment</td>\n",
       "      <td>1.0</td>\n",
       "      <td>Bs.As. G.B.A. Zona Norte</td>\n",
       "      <td>130.0</td>\n",
       "      <td>130.0</td>\n",
       "      <td>Country San Matías - Escobar - Bs.As. G.B.A. Z...</td>\n",
       "      <td>False</td>\n",
       "    </tr>\n",
       "    <tr>\n",
       "      <th>3100</th>\n",
       "      <td>Argentina</td>\n",
       "      <td>2017-09-14</td>\n",
       "      <td>USD</td>\n",
       "      <td>*** APTO CREDITO (consultar) | LOTE INTERNO | ...</td>\n",
       "      <td>NaN</td>\n",
       "      <td>NaN</td>\n",
       "      <td>NaN</td>\n",
       "      <td>b410ba802e379bccd8cfbc0b5c6a2537a9bc48dc</td>\n",
       "      <td>https://thumbs4.properati.com/6/328-gyoWiaUfX9...</td>\n",
       "      <td>-34.340253</td>\n",
       "      <td>...</td>\n",
       "      <td>1180.000000</td>\n",
       "      <td>951.612903</td>\n",
       "      <td>http://www.properati.com.ar/1erhf_venta_casa_h...</td>\n",
       "      <td>house</td>\n",
       "      <td>NaN</td>\n",
       "      <td>Bs.As. G.B.A. Zona Norte</td>\n",
       "      <td>250.0</td>\n",
       "      <td>310.0</td>\n",
       "      <td>Bustamante Prop - Haras Santa Maria Venta Casa</td>\n",
       "      <td>False</td>\n",
       "    </tr>\n",
       "    <tr>\n",
       "      <th>3102</th>\n",
       "      <td>Argentina</td>\n",
       "      <td>2017-07-05</td>\n",
       "      <td>USD</td>\n",
       "      <td>***FIN DE OBRA DICIEMBRE 2017 | LOTE INTERNO |...</td>\n",
       "      <td>NaN</td>\n",
       "      <td>NaN</td>\n",
       "      <td>3434130.0</td>\n",
       "      <td>a24982df1ea6a6521560bfffe139c803cfdb8677</td>\n",
       "      <td>NaN</td>\n",
       "      <td>-34.340253</td>\n",
       "      <td>...</td>\n",
       "      <td>1304.347826</td>\n",
       "      <td>1257.485030</td>\n",
       "      <td>NaN</td>\n",
       "      <td>house</td>\n",
       "      <td>NaN</td>\n",
       "      <td>Bs.As. G.B.A. Zona Norte</td>\n",
       "      <td>161.0</td>\n",
       "      <td>167.0</td>\n",
       "      <td>Bustamante Propiedades - Venta Casa en El Cantón</td>\n",
       "      <td>False</td>\n",
       "    </tr>\n",
       "    <tr>\n",
       "      <th>3104</th>\n",
       "      <td>Argentina</td>\n",
       "      <td>2017-07-04</td>\n",
       "      <td>USD</td>\n",
       "      <td>***FIN DE OBRA diciembre 2017 | LOTE INTERNO |...</td>\n",
       "      <td>NaN</td>\n",
       "      <td>NaN</td>\n",
       "      <td>3434130.0</td>\n",
       "      <td>99b7fd402a9d18337890931c329423a0399717b7</td>\n",
       "      <td>NaN</td>\n",
       "      <td>-34.340253</td>\n",
       "      <td>...</td>\n",
       "      <td>1419.753086</td>\n",
       "      <td>1419.753086</td>\n",
       "      <td>NaN</td>\n",
       "      <td>house</td>\n",
       "      <td>NaN</td>\n",
       "      <td>Bs.As. G.B.A. Zona Norte</td>\n",
       "      <td>162.0</td>\n",
       "      <td>162.0</td>\n",
       "      <td>Bustamante Propiedades - Venta Casa en El Cantón</td>\n",
       "      <td>False</td>\n",
       "    </tr>\n",
       "    <tr>\n",
       "      <th>3106</th>\n",
       "      <td>Argentina</td>\n",
       "      <td>2017-07-04</td>\n",
       "      <td>USD</td>\n",
       "      <td>***FIN DE OBRA diciembre 2017 | LOTE INTERNO |...</td>\n",
       "      <td>NaN</td>\n",
       "      <td>NaN</td>\n",
       "      <td>3434130.0</td>\n",
       "      <td>f6c407283789e0e58a59b661ad189bfe73248779</td>\n",
       "      <td>NaN</td>\n",
       "      <td>-34.340253</td>\n",
       "      <td>...</td>\n",
       "      <td>1419.753086</td>\n",
       "      <td>1419.753086</td>\n",
       "      <td>NaN</td>\n",
       "      <td>house</td>\n",
       "      <td>NaN</td>\n",
       "      <td>Bs.As. G.B.A. Zona Norte</td>\n",
       "      <td>162.0</td>\n",
       "      <td>162.0</td>\n",
       "      <td>Bustamante Propiedades - Venta Casa en El Cantón</td>\n",
       "      <td>False</td>\n",
       "    </tr>\n",
       "    <tr>\n",
       "      <th>3108</th>\n",
       "      <td>Argentina</td>\n",
       "      <td>2017-04-06</td>\n",
       "      <td>USD</td>\n",
       "      <td>- Casa de 190 m² cub. P.ALTA.: 3 dorm (1 ste. ...</td>\n",
       "      <td>NaN</td>\n",
       "      <td>NaN</td>\n",
       "      <td>3434130.0</td>\n",
       "      <td>0a093f4accd6015216183d85e2d383674954573a</td>\n",
       "      <td>NaN</td>\n",
       "      <td>-34.340253</td>\n",
       "      <td>...</td>\n",
       "      <td>1105.263158</td>\n",
       "      <td>1105.263158</td>\n",
       "      <td>NaN</td>\n",
       "      <td>house</td>\n",
       "      <td>NaN</td>\n",
       "      <td>Bs.As. G.B.A. Zona Norte</td>\n",
       "      <td>190.0</td>\n",
       "      <td>190.0</td>\n",
       "      <td>CUBE - Barrio Privado Nautico</td>\n",
       "      <td>False</td>\n",
       "    </tr>\n",
       "    <tr>\n",
       "      <th>3114</th>\n",
       "      <td>Argentina</td>\n",
       "      <td>2016-12-17</td>\n",
       "      <td>USD</td>\n",
       "      <td>8 unidades de 3 ambientes y 63m2 cubiertos dis...</td>\n",
       "      <td>NaN</td>\n",
       "      <td>NaN</td>\n",
       "      <td>3434130.0</td>\n",
       "      <td>c4d44cfc0a5e815a78e3a6bbea73705319a626f0</td>\n",
       "      <td>NaN</td>\n",
       "      <td>-34.340253</td>\n",
       "      <td>...</td>\n",
       "      <td>1190.476190</td>\n",
       "      <td>1190.476190</td>\n",
       "      <td>NaN</td>\n",
       "      <td>apartment</td>\n",
       "      <td>3.0</td>\n",
       "      <td>Bs.As. G.B.A. Zona Norte</td>\n",
       "      <td>63.0</td>\n",
       "      <td>63.0</td>\n",
       "      <td>venta de departamentos a estrenar</td>\n",
       "      <td>False</td>\n",
       "    </tr>\n",
       "    <tr>\n",
       "      <th>3123</th>\n",
       "      <td>Argentina</td>\n",
       "      <td>2016-07-27</td>\n",
       "      <td>USD</td>\n",
       "      <td>A metros de toda la parte comercial. Unidades ...</td>\n",
       "      <td>NaN</td>\n",
       "      <td>NaN</td>\n",
       "      <td>NaN</td>\n",
       "      <td>87400fa129cb454d678203f86122996e3e500a4f</td>\n",
       "      <td>NaN</td>\n",
       "      <td>-34.340253</td>\n",
       "      <td>...</td>\n",
       "      <td>1100.000000</td>\n",
       "      <td>1100.000000</td>\n",
       "      <td>NaN</td>\n",
       "      <td>house</td>\n",
       "      <td>NaN</td>\n",
       "      <td>Bs.As. G.B.A. Zona Norte</td>\n",
       "      <td>80.0</td>\n",
       "      <td>80.0</td>\n",
       "      <td>Excelentes duplex a estrenar</td>\n",
       "      <td>False</td>\n",
       "    </tr>\n",
       "    <tr>\n",
       "      <th>...</th>\n",
       "      <td>...</td>\n",
       "      <td>...</td>\n",
       "      <td>...</td>\n",
       "      <td>...</td>\n",
       "      <td>...</td>\n",
       "      <td>...</td>\n",
       "      <td>...</td>\n",
       "      <td>...</td>\n",
       "      <td>...</td>\n",
       "      <td>...</td>\n",
       "      <td>...</td>\n",
       "      <td>...</td>\n",
       "      <td>...</td>\n",
       "      <td>...</td>\n",
       "      <td>...</td>\n",
       "      <td>...</td>\n",
       "      <td>...</td>\n",
       "      <td>...</td>\n",
       "      <td>...</td>\n",
       "      <td>...</td>\n",
       "      <td>...</td>\n",
       "    </tr>\n",
       "    <tr>\n",
       "      <th>3335</th>\n",
       "      <td>Argentina</td>\n",
       "      <td>2017-09-20</td>\n",
       "      <td>USD</td>\n",
       "      <td>GUSTAVO VER DATOS MUY BUENA CASA DE ESTILO --S...</td>\n",
       "      <td>NaN</td>\n",
       "      <td>NaN</td>\n",
       "      <td>NaN</td>\n",
       "      <td>5f729fc62ebf29e605c05894f0eec72f08e1c8ba</td>\n",
       "      <td>https://thumbs4.properati.com/5/tuuCCo4PHcyexv...</td>\n",
       "      <td>-34.340253</td>\n",
       "      <td>...</td>\n",
       "      <td>1466.666667</td>\n",
       "      <td>1189.189189</td>\n",
       "      <td>http://www.properati.com.ar/1f725_venta_casa_b...</td>\n",
       "      <td>house</td>\n",
       "      <td>NaN</td>\n",
       "      <td>Bs.As. G.B.A. Zona Norte</td>\n",
       "      <td>150.0</td>\n",
       "      <td>185.0</td>\n",
       "      <td>MUY BUENA CASA ESTILO -SAN MATIAS 1551811313</td>\n",
       "      <td>False</td>\n",
       "    </tr>\n",
       "    <tr>\n",
       "      <th>3337</th>\n",
       "      <td>Argentina</td>\n",
       "      <td>2017-08-27</td>\n",
       "      <td>USD</td>\n",
       "      <td>HERMOSA CASA A ESTRENAR, DESARROLLADA EN 2 PLA...</td>\n",
       "      <td>NaN</td>\n",
       "      <td>NaN</td>\n",
       "      <td>NaN</td>\n",
       "      <td>f80e4487c13df115459a563d871d63384b4d4e7b</td>\n",
       "      <td>https://thumbs4.properati.com/1/8VMhndYhK9f7wa...</td>\n",
       "      <td>-34.340253</td>\n",
       "      <td>...</td>\n",
       "      <td>909.090909</td>\n",
       "      <td>909.090909</td>\n",
       "      <td>http://www.properati.com.ar/1dwus_venta_depart...</td>\n",
       "      <td>apartment</td>\n",
       "      <td>1.0</td>\n",
       "      <td>Bs.As. G.B.A. Zona Norte</td>\n",
       "      <td>220.0</td>\n",
       "      <td>220.0</td>\n",
       "      <td>Barrio Cerrado Haras Santa María - Escobar - B...</td>\n",
       "      <td>False</td>\n",
       "    </tr>\n",
       "    <tr>\n",
       "      <th>3339</th>\n",
       "      <td>Argentina</td>\n",
       "      <td>2017-08-27</td>\n",
       "      <td>USD</td>\n",
       "      <td>HERMOSA CASA A ESTRENAR, DESARROLLADA EN 2 PLA...</td>\n",
       "      <td>NaN</td>\n",
       "      <td>NaN</td>\n",
       "      <td>NaN</td>\n",
       "      <td>224a0a52c7a10180b4eac4cbaa04bd01216a57b3</td>\n",
       "      <td>https://thumbs4.properati.com/9/GpxvsGIeY3emfh...</td>\n",
       "      <td>-34.340253</td>\n",
       "      <td>...</td>\n",
       "      <td>1081.081081</td>\n",
       "      <td>1081.081081</td>\n",
       "      <td>http://www.properati.com.ar/1dwut_venta_depart...</td>\n",
       "      <td>apartment</td>\n",
       "      <td>1.0</td>\n",
       "      <td>Bs.As. G.B.A. Zona Norte</td>\n",
       "      <td>185.0</td>\n",
       "      <td>185.0</td>\n",
       "      <td>Barrio Cerrado Haras Santa María - Escobar - B...</td>\n",
       "      <td>False</td>\n",
       "    </tr>\n",
       "    <tr>\n",
       "      <th>3341</th>\n",
       "      <td>Argentina</td>\n",
       "      <td>2016-12-17</td>\n",
       "      <td>USD</td>\n",
       "      <td>Hermosa casa  de líneas modernas desarrollada ...</td>\n",
       "      <td>NaN</td>\n",
       "      <td>NaN</td>\n",
       "      <td>NaN</td>\n",
       "      <td>6773dbf1164dccefc8ddd30c790f56a353a0106d</td>\n",
       "      <td>NaN</td>\n",
       "      <td>-34.340253</td>\n",
       "      <td>...</td>\n",
       "      <td>1568.627451</td>\n",
       "      <td>394.088670</td>\n",
       "      <td>NaN</td>\n",
       "      <td>house</td>\n",
       "      <td>NaN</td>\n",
       "      <td>Bs.As. G.B.A. Zona Norte</td>\n",
       "      <td>204.0</td>\n",
       "      <td>812.0</td>\n",
       "      <td>Casa en Venta - USD 320.000 - El Cantón Norte</td>\n",
       "      <td>False</td>\n",
       "    </tr>\n",
       "    <tr>\n",
       "      <th>3351</th>\n",
       "      <td>Argentina</td>\n",
       "      <td>2017-08-27</td>\n",
       "      <td>USD</td>\n",
       "      <td>Hermosa casa a estrenar desarrollada en una pl...</td>\n",
       "      <td>NaN</td>\n",
       "      <td>NaN</td>\n",
       "      <td>NaN</td>\n",
       "      <td>b1dc97b0d3629b6726555b5e0bb18e8b3dd30b15</td>\n",
       "      <td>https://thumbs4.properati.com/2/6rX5rPA0fE4NUh...</td>\n",
       "      <td>-34.340253</td>\n",
       "      <td>...</td>\n",
       "      <td>1100.000000</td>\n",
       "      <td>1100.000000</td>\n",
       "      <td>http://www.properati.com.ar/1dwv5_venta_depart...</td>\n",
       "      <td>apartment</td>\n",
       "      <td>1.0</td>\n",
       "      <td>Bs.As. G.B.A. Zona Norte</td>\n",
       "      <td>150.0</td>\n",
       "      <td>150.0</td>\n",
       "      <td>Country San Matías - Escobar - Bs.As. G.B.A. Z...</td>\n",
       "      <td>False</td>\n",
       "    </tr>\n",
       "    <tr>\n",
       "      <th>3358</th>\n",
       "      <td>Argentina</td>\n",
       "      <td>2017-07-29</td>\n",
       "      <td>USD</td>\n",
       "      <td>Hermosa casa en Haras de Santa Maria, Barrio E...</td>\n",
       "      <td>NaN</td>\n",
       "      <td>NaN</td>\n",
       "      <td>NaN</td>\n",
       "      <td>0ba69b541683dd5f55990304e98ba2e62b950a8a</td>\n",
       "      <td>https://thumbs4.properati.com/6/zW1OMXLM9vuQjq...</td>\n",
       "      <td>-34.340253</td>\n",
       "      <td>...</td>\n",
       "      <td>1436.170213</td>\n",
       "      <td>1436.170213</td>\n",
       "      <td>http://www.properati.com.ar/1cghf_venta_casa_h...</td>\n",
       "      <td>house</td>\n",
       "      <td>NaN</td>\n",
       "      <td>Bs.As. G.B.A. Zona Norte</td>\n",
       "      <td>188.0</td>\n",
       "      <td>188.0</td>\n",
       "      <td>Casa a la venta Haras de Santa Maria - USD270000</td>\n",
       "      <td>False</td>\n",
       "    </tr>\n",
       "    <tr>\n",
       "      <th>3360</th>\n",
       "      <td>Argentina</td>\n",
       "      <td>2017-02-22</td>\n",
       "      <td>USD</td>\n",
       "      <td>Imponente casa a estrenar en uno de los mejore...</td>\n",
       "      <td>NaN</td>\n",
       "      <td>NaN</td>\n",
       "      <td>NaN</td>\n",
       "      <td>eabd30a2d8dd597b62cff1c5048fd320c1a38c57</td>\n",
       "      <td>NaN</td>\n",
       "      <td>-34.340253</td>\n",
       "      <td>...</td>\n",
       "      <td>1172.413793</td>\n",
       "      <td>971.428571</td>\n",
       "      <td>NaN</td>\n",
       "      <td>house</td>\n",
       "      <td>NaN</td>\n",
       "      <td>Bs.As. G.B.A. Zona Norte</td>\n",
       "      <td>290.0</td>\n",
       "      <td>350.0</td>\n",
       "      <td>Imponente casa a estrenar en venta en Escobar</td>\n",
       "      <td>False</td>\n",
       "    </tr>\n",
       "    <tr>\n",
       "      <th>3366</th>\n",
       "      <td>Argentina</td>\n",
       "      <td>2016-12-20</td>\n",
       "      <td>USD</td>\n",
       "      <td>JMF Espectacular lote en San Matias a la Lagun...</td>\n",
       "      <td>NaN</td>\n",
       "      <td>NaN</td>\n",
       "      <td>NaN</td>\n",
       "      <td>0b4604489bd56fecf7806db45a1b49ceecf2a11a</td>\n",
       "      <td>NaN</td>\n",
       "      <td>-34.340253</td>\n",
       "      <td>...</td>\n",
       "      <td>1428.571429</td>\n",
       "      <td>208.768267</td>\n",
       "      <td>NaN</td>\n",
       "      <td>house</td>\n",
       "      <td>NaN</td>\n",
       "      <td>Bs.As. G.B.A. Zona Norte</td>\n",
       "      <td>140.0</td>\n",
       "      <td>958.0</td>\n",
       "      <td>JMF casa a construir en Lote al Agua en San Ma...</td>\n",
       "      <td>False</td>\n",
       "    </tr>\n",
       "    <tr>\n",
       "      <th>3367</th>\n",
       "      <td>Argentina</td>\n",
       "      <td>2017-07-08</td>\n",
       "      <td>USD</td>\n",
       "      <td>JMF. Casa en barrio privado Loma Verde, Escoba...</td>\n",
       "      <td>NaN</td>\n",
       "      <td>NaN</td>\n",
       "      <td>3431266.0</td>\n",
       "      <td>c9bcebc0eb87540d0f2d253feb0327513f4aff6a</td>\n",
       "      <td>https://thumbs4.properati.com/8/Np_AiopH0GzRP4...</td>\n",
       "      <td>-34.340253</td>\n",
       "      <td>...</td>\n",
       "      <td>970.588235</td>\n",
       "      <td>970.588235</td>\n",
       "      <td>http://www.properati.com.ar/19x7r_venta_casa_l...</td>\n",
       "      <td>house</td>\n",
       "      <td>NaN</td>\n",
       "      <td>Bs.As. G.B.A. Zona Norte</td>\n",
       "      <td>170.0</td>\n",
       "      <td>170.0</td>\n",
       "      <td>JMF. Casa en barrio privado Loma Verde, Escobar</td>\n",
       "      <td>False</td>\n",
       "    </tr>\n",
       "    <tr>\n",
       "      <th>3369</th>\n",
       "      <td>Argentina</td>\n",
       "      <td>2017-04-11</td>\n",
       "      <td>USD</td>\n",
       "      <td>JMF: OPORTUNIDAD! Casa 4 dormitorios en Countr...</td>\n",
       "      <td>NaN</td>\n",
       "      <td>NaN</td>\n",
       "      <td>3431266.0</td>\n",
       "      <td>dce9ef1c1fdafdb19c263fdaae07c7e32b2bdeb5</td>\n",
       "      <td>NaN</td>\n",
       "      <td>-34.340253</td>\n",
       "      <td>...</td>\n",
       "      <td>970.588235</td>\n",
       "      <td>825.000000</td>\n",
       "      <td>NaN</td>\n",
       "      <td>house</td>\n",
       "      <td>NaN</td>\n",
       "      <td>Bs.As. G.B.A. Zona Norte</td>\n",
       "      <td>170.0</td>\n",
       "      <td>200.0</td>\n",
       "      <td>Casa 4 dormitorios en Country Loma Verde Apta ...</td>\n",
       "      <td>False</td>\n",
       "    </tr>\n",
       "    <tr>\n",
       "      <th>3370</th>\n",
       "      <td>Argentina</td>\n",
       "      <td>2016-01-21</td>\n",
       "      <td>USD</td>\n",
       "      <td>LOMA VERDE-OPORTUNIDAD Ãºnica- Impecable casa ...</td>\n",
       "      <td>NaN</td>\n",
       "      <td>NaN</td>\n",
       "      <td>3431266.0</td>\n",
       "      <td>3fa358c9bc46eca8126fef3f6441bf2287abae6c</td>\n",
       "      <td>NaN</td>\n",
       "      <td>-34.340253</td>\n",
       "      <td>...</td>\n",
       "      <td>1241.379310</td>\n",
       "      <td>205.714286</td>\n",
       "      <td>NaN</td>\n",
       "      <td>house</td>\n",
       "      <td>NaN</td>\n",
       "      <td>Bs.As. G.B.A. Zona Norte</td>\n",
       "      <td>145.0</td>\n",
       "      <td>875.0</td>\n",
       "      <td>CASA EN VENTA</td>\n",
       "      <td>False</td>\n",
       "    </tr>\n",
       "    <tr>\n",
       "      <th>3373</th>\n",
       "      <td>Argentina</td>\n",
       "      <td>2017-09-18</td>\n",
       "      <td>USD</td>\n",
       "      <td>Lindisima Casa a estrenar desarrollada en una ...</td>\n",
       "      <td>NaN</td>\n",
       "      <td>NaN</td>\n",
       "      <td>NaN</td>\n",
       "      <td>a9e0599549fa298a28bdb08cb7e95515b54e8b68</td>\n",
       "      <td>https://thumbs4.properati.com/2/XfcliGeh8LBiEB...</td>\n",
       "      <td>-34.340253</td>\n",
       "      <td>...</td>\n",
       "      <td>1294.117647</td>\n",
       "      <td>1157.894737</td>\n",
       "      <td>http://www.properati.com.ar/1ezbg_venta_casa_e...</td>\n",
       "      <td>house</td>\n",
       "      <td>NaN</td>\n",
       "      <td>Bs.As. G.B.A. Zona Norte</td>\n",
       "      <td>170.0</td>\n",
       "      <td>190.0</td>\n",
       "      <td>LINDISIMA CASA A ESTRENAR- EN BARRIO SAN MATIAS</td>\n",
       "      <td>False</td>\n",
       "    </tr>\n",
       "    <tr>\n",
       "      <th>3375</th>\n",
       "      <td>Argentina</td>\n",
       "      <td>2016-01-21</td>\n",
       "      <td>USD</td>\n",
       "      <td>Loma Verde, Escobar  - OPORTUNIDAD- Escriturad...</td>\n",
       "      <td>NaN</td>\n",
       "      <td>NaN</td>\n",
       "      <td>3431266.0</td>\n",
       "      <td>3257a64b11bec19f27c23ffd32f6a1ad3c3eca4c</td>\n",
       "      <td>NaN</td>\n",
       "      <td>-34.340253</td>\n",
       "      <td>...</td>\n",
       "      <td>863.309353</td>\n",
       "      <td>318.725100</td>\n",
       "      <td>NaN</td>\n",
       "      <td>house</td>\n",
       "      <td>NaN</td>\n",
       "      <td>Bs.As. G.B.A. Zona Norte</td>\n",
       "      <td>278.0</td>\n",
       "      <td>753.0</td>\n",
       "      <td>CASA EN VENTA</td>\n",
       "      <td>False</td>\n",
       "    </tr>\n",
       "    <tr>\n",
       "      <th>3378</th>\n",
       "      <td>Argentina</td>\n",
       "      <td>2017-05-27</td>\n",
       "      <td>USD</td>\n",
       "      <td>MAO. Muy linda casa de estilo clásico moderno....</td>\n",
       "      <td>NaN</td>\n",
       "      <td>NaN</td>\n",
       "      <td>NaN</td>\n",
       "      <td>74c419b3dca1fa2e95825c20424982def01f3706</td>\n",
       "      <td>NaN</td>\n",
       "      <td>-34.340253</td>\n",
       "      <td>...</td>\n",
       "      <td>1400.000000</td>\n",
       "      <td>1184.615385</td>\n",
       "      <td>NaN</td>\n",
       "      <td>house</td>\n",
       "      <td>NaN</td>\n",
       "      <td>Bs.As. G.B.A. Zona Norte</td>\n",
       "      <td>275.0</td>\n",
       "      <td>325.0</td>\n",
       "      <td>MAO. Espectacular casa  de dos plantas a la la...</td>\n",
       "      <td>False</td>\n",
       "    </tr>\n",
       "    <tr>\n",
       "      <th>3381</th>\n",
       "      <td>Argentina</td>\n",
       "      <td>2016-12-07</td>\n",
       "      <td>USD</td>\n",
       "      <td>MUY LINDA CASA  DESARROLLADA EN LOTE INTERNO!L...</td>\n",
       "      <td>NaN</td>\n",
       "      <td>NaN</td>\n",
       "      <td>NaN</td>\n",
       "      <td>27764f9c93461e0af3934adb49ee24b4db7827c4</td>\n",
       "      <td>NaN</td>\n",
       "      <td>-34.340253</td>\n",
       "      <td>...</td>\n",
       "      <td>1344.827586</td>\n",
       "      <td>1344.827586</td>\n",
       "      <td>NaN</td>\n",
       "      <td>house</td>\n",
       "      <td>NaN</td>\n",
       "      <td>Bs.As. G.B.A. Zona Norte</td>\n",
       "      <td>145.0</td>\n",
       "      <td>145.0</td>\n",
       "      <td>El Canton - Norte - Casa en Venta USD 195.000</td>\n",
       "      <td>False</td>\n",
       "    </tr>\n",
       "    <tr>\n",
       "      <th>3391</th>\n",
       "      <td>Argentina</td>\n",
       "      <td>2017-02-04</td>\n",
       "      <td>USD</td>\n",
       "      <td>MUY LINDA CASA EN VENTA CON RENTA HASTA OCTUBR...</td>\n",
       "      <td>NaN</td>\n",
       "      <td>NaN</td>\n",
       "      <td>NaN</td>\n",
       "      <td>5c391061c3ceab9e2c2caa5a13f0851dd59aff4c</td>\n",
       "      <td>NaN</td>\n",
       "      <td>-34.340253</td>\n",
       "      <td>...</td>\n",
       "      <td>1150.000000</td>\n",
       "      <td>1150.000000</td>\n",
       "      <td>NaN</td>\n",
       "      <td>house</td>\n",
       "      <td>NaN</td>\n",
       "      <td>Bs.As. G.B.A. Zona Norte</td>\n",
       "      <td>200.0</td>\n",
       "      <td>200.0</td>\n",
       "      <td>CASA EN VENTA EN EL BARRIO SAN MATIAS ESCOBAR</td>\n",
       "      <td>False</td>\n",
       "    </tr>\n",
       "    <tr>\n",
       "      <th>3393</th>\n",
       "      <td>Argentina</td>\n",
       "      <td>2016-01-21</td>\n",
       "      <td>USD</td>\n",
       "      <td>Muy buena casa moderna a estrenar contemplando...</td>\n",
       "      <td>NaN</td>\n",
       "      <td>NaN</td>\n",
       "      <td>NaN</td>\n",
       "      <td>f4011b04f9b359e6aec0d7bf35ff2e5aa19b84ca</td>\n",
       "      <td>NaN</td>\n",
       "      <td>-34.340253</td>\n",
       "      <td>...</td>\n",
       "      <td>1384.615385</td>\n",
       "      <td>370.370370</td>\n",
       "      <td>NaN</td>\n",
       "      <td>house</td>\n",
       "      <td>NaN</td>\n",
       "      <td>Bs.As. G.B.A. Zona Norte</td>\n",
       "      <td>260.0</td>\n",
       "      <td>972.0</td>\n",
       "      <td>CASA EN VENTA</td>\n",
       "      <td>False</td>\n",
       "    </tr>\n",
       "    <tr>\n",
       "      <th>3396</th>\n",
       "      <td>Argentina</td>\n",
       "      <td>2016-12-06</td>\n",
       "      <td>USD</td>\n",
       "      <td>Muy linda casa de diseño moderno desarrollada ...</td>\n",
       "      <td>NaN</td>\n",
       "      <td>NaN</td>\n",
       "      <td>NaN</td>\n",
       "      <td>088a782b34729ec21e5d38ce161997726d66dc10</td>\n",
       "      <td>NaN</td>\n",
       "      <td>-34.340253</td>\n",
       "      <td>...</td>\n",
       "      <td>1209.150327</td>\n",
       "      <td>1209.150327</td>\n",
       "      <td>NaN</td>\n",
       "      <td>house</td>\n",
       "      <td>NaN</td>\n",
       "      <td>Bs.As. G.B.A. Zona Norte</td>\n",
       "      <td>153.0</td>\n",
       "      <td>153.0</td>\n",
       "      <td>El Canton - Islas - Casa en Venta USD 185.000</td>\n",
       "      <td>False</td>\n",
       "    </tr>\n",
       "    <tr>\n",
       "      <th>3406</th>\n",
       "      <td>Argentina</td>\n",
       "      <td>2017-08-19</td>\n",
       "      <td>USD</td>\n",
       "      <td>Muy linda casa desarrollada en dos plantas con...</td>\n",
       "      <td>NaN</td>\n",
       "      <td>NaN</td>\n",
       "      <td>3434130.0</td>\n",
       "      <td>a50fdc8e1c706bce6cd4af4405654251c8f38a37</td>\n",
       "      <td>https://thumbs4.properati.com/0/V7j2_wZHWZ1cwg...</td>\n",
       "      <td>-34.340253</td>\n",
       "      <td>...</td>\n",
       "      <td>1798.941799</td>\n",
       "      <td>1497.797357</td>\n",
       "      <td>http://www.properati.com.ar/1djx7_venta_casa_e...</td>\n",
       "      <td>house</td>\n",
       "      <td>NaN</td>\n",
       "      <td>Bs.As. G.B.A. Zona Norte</td>\n",
       "      <td>189.0</td>\n",
       "      <td>227.0</td>\n",
       "      <td>Venta de casa en Barrio El Canton Norte  - Esc...</td>\n",
       "      <td>False</td>\n",
       "    </tr>\n",
       "    <tr>\n",
       "      <th>3407</th>\n",
       "      <td>Argentina</td>\n",
       "      <td>2017-08-19</td>\n",
       "      <td>USD</td>\n",
       "      <td>Muy linda casa desarrollada en una planta con ...</td>\n",
       "      <td>NaN</td>\n",
       "      <td>NaN</td>\n",
       "      <td>3434130.0</td>\n",
       "      <td>d7a3f6510275a6b112282be671dde24c6062506f</td>\n",
       "      <td>https://thumbs4.properati.com/1/nuiG0oND3LYy1g...</td>\n",
       "      <td>-34.340253</td>\n",
       "      <td>...</td>\n",
       "      <td>1385.281385</td>\n",
       "      <td>1212.121212</td>\n",
       "      <td>http://www.properati.com.ar/1djws_venta_casa_e...</td>\n",
       "      <td>house</td>\n",
       "      <td>NaN</td>\n",
       "      <td>Bs.As. G.B.A. Zona Norte</td>\n",
       "      <td>231.0</td>\n",
       "      <td>264.0</td>\n",
       "      <td>Venta de Casa en Barrio El Cantón - Escobar</td>\n",
       "      <td>False</td>\n",
       "    </tr>\n",
       "    <tr>\n",
       "      <th>3408</th>\n",
       "      <td>Argentina</td>\n",
       "      <td>2017-05-17</td>\n",
       "      <td>USD</td>\n",
       "      <td>Muy linda casa en venta en el Barrio San Matia...</td>\n",
       "      <td>NaN</td>\n",
       "      <td>NaN</td>\n",
       "      <td>NaN</td>\n",
       "      <td>c3b85194266bbd43df7e54bb2a351a97731937c5</td>\n",
       "      <td>NaN</td>\n",
       "      <td>-34.340253</td>\n",
       "      <td>...</td>\n",
       "      <td>1210.526316</td>\n",
       "      <td>306.666667</td>\n",
       "      <td>NaN</td>\n",
       "      <td>house</td>\n",
       "      <td>NaN</td>\n",
       "      <td>Bs.As. G.B.A. Zona Norte</td>\n",
       "      <td>190.0</td>\n",
       "      <td>750.0</td>\n",
       "      <td>Muy linda casa y practica en venta en el barri...</td>\n",
       "      <td>False</td>\n",
       "    </tr>\n",
       "    <tr>\n",
       "      <th>3411</th>\n",
       "      <td>Argentina</td>\n",
       "      <td>2016-12-20</td>\n",
       "      <td>USD</td>\n",
       "      <td>NOE. Excelente casa en barrio privado Los Cara...</td>\n",
       "      <td>NaN</td>\n",
       "      <td>NaN</td>\n",
       "      <td>NaN</td>\n",
       "      <td>5f3bc0b897f23bbf7fb8251d9344ecb0123903e7</td>\n",
       "      <td>NaN</td>\n",
       "      <td>-34.340253</td>\n",
       "      <td>...</td>\n",
       "      <td>1302.083333</td>\n",
       "      <td>781.250000</td>\n",
       "      <td>NaN</td>\n",
       "      <td>house</td>\n",
       "      <td>NaN</td>\n",
       "      <td>Bs.As. G.B.A. Zona Norte</td>\n",
       "      <td>96.0</td>\n",
       "      <td>160.0</td>\n",
       "      <td>NOE. Barrio privado Los Caracoles. Casa 2 domi...</td>\n",
       "      <td>False</td>\n",
       "    </tr>\n",
       "    <tr>\n",
       "      <th>3412</th>\n",
       "      <td>Argentina</td>\n",
       "      <td>2017-04-27</td>\n",
       "      <td>USD</td>\n",
       "      <td>Optimo mantenimiento general Chatel de 230 m² ...</td>\n",
       "      <td>NaN</td>\n",
       "      <td>NaN</td>\n",
       "      <td>NaN</td>\n",
       "      <td>19a65e1058ab52b1548a54a392a7bc3f46d1e2a8</td>\n",
       "      <td>NaN</td>\n",
       "      <td>-34.340253</td>\n",
       "      <td>...</td>\n",
       "      <td>860.869565</td>\n",
       "      <td>194.117647</td>\n",
       "      <td>NaN</td>\n",
       "      <td>house</td>\n",
       "      <td>NaN</td>\n",
       "      <td>Bs.As. G.B.A. Zona Norte</td>\n",
       "      <td>230.0</td>\n",
       "      <td>1020.0</td>\n",
       "      <td>Impecable !!!</td>\n",
       "      <td>False</td>\n",
       "    </tr>\n",
       "    <tr>\n",
       "      <th>3418</th>\n",
       "      <td>Argentina</td>\n",
       "      <td>2017-04-06</td>\n",
       "      <td>USD</td>\n",
       "      <td>P.LANTA BAJA : 3 dorm., (1 en suite) los otros...</td>\n",
       "      <td>NaN</td>\n",
       "      <td>NaN</td>\n",
       "      <td>3434130.0</td>\n",
       "      <td>0b69356d4f36984e4e9b7ede0a6f97f12ae29bd3</td>\n",
       "      <td>NaN</td>\n",
       "      <td>-34.340253</td>\n",
       "      <td>...</td>\n",
       "      <td>1069.364162</td>\n",
       "      <td>958.549223</td>\n",
       "      <td>NaN</td>\n",
       "      <td>house</td>\n",
       "      <td>NaN</td>\n",
       "      <td>Bs.As. G.B.A. Zona Norte</td>\n",
       "      <td>173.0</td>\n",
       "      <td>193.0</td>\n",
       "      <td>Oportunidad...!! Original Diseño en TERCERA IS...</td>\n",
       "      <td>False</td>\n",
       "    </tr>\n",
       "    <tr>\n",
       "      <th>3424</th>\n",
       "      <td>Argentina</td>\n",
       "      <td>2017-04-06</td>\n",
       "      <td>USD</td>\n",
       "      <td>SEGUNDA ISLA Calel Del Lujan entre Las Araucar...</td>\n",
       "      <td>NaN</td>\n",
       "      <td>NaN</td>\n",
       "      <td>3434130.0</td>\n",
       "      <td>ffca74b59b3c93b15fb0ab29c27cfd2736b7674e</td>\n",
       "      <td>NaN</td>\n",
       "      <td>-34.340253</td>\n",
       "      <td>...</td>\n",
       "      <td>782.608696</td>\n",
       "      <td>782.608696</td>\n",
       "      <td>NaN</td>\n",
       "      <td>house</td>\n",
       "      <td>NaN</td>\n",
       "      <td>Bs.As. G.B.A. Zona Norte</td>\n",
       "      <td>230.0</td>\n",
       "      <td>230.0</td>\n",
       "      <td>CUBE - Centro Urbanistico Barrancas de Escobar</td>\n",
       "      <td>False</td>\n",
       "    </tr>\n",
       "    <tr>\n",
       "      <th>3430</th>\n",
       "      <td>Argentina</td>\n",
       "      <td>2017-07-04</td>\n",
       "      <td>USD</td>\n",
       "      <td>Se vende en la zona de Escobar una casa divina...</td>\n",
       "      <td>NaN</td>\n",
       "      <td>NaN</td>\n",
       "      <td>3434130.0</td>\n",
       "      <td>5a9ee97f209aa61b47b56fb8c437d8e686552509</td>\n",
       "      <td>NaN</td>\n",
       "      <td>-34.340253</td>\n",
       "      <td>...</td>\n",
       "      <td>1071.428571</td>\n",
       "      <td>375.000000</td>\n",
       "      <td>NaN</td>\n",
       "      <td>house</td>\n",
       "      <td>NaN</td>\n",
       "      <td>Bs.As. G.B.A. Zona Norte</td>\n",
       "      <td>420.0</td>\n",
       "      <td>1200.0</td>\n",
       "      <td>Majestuosa casa en venta en el Barrio Cube, de...</td>\n",
       "      <td>False</td>\n",
       "    </tr>\n",
       "    <tr>\n",
       "      <th>3431</th>\n",
       "      <td>Argentina</td>\n",
       "      <td>2017-01-19</td>\n",
       "      <td>USD</td>\n",
       "      <td>VIVIENDA A ESTRENAR EN HARAS STA MARIA. U$S 25...</td>\n",
       "      <td>NaN</td>\n",
       "      <td>NaN</td>\n",
       "      <td>NaN</td>\n",
       "      <td>b3717c7f3e2a37e38a7ce8eea9a30a0e133468c8</td>\n",
       "      <td>NaN</td>\n",
       "      <td>-34.340253</td>\n",
       "      <td>...</td>\n",
       "      <td>1191.588785</td>\n",
       "      <td>313.267813</td>\n",
       "      <td>NaN</td>\n",
       "      <td>house</td>\n",
       "      <td>NaN</td>\n",
       "      <td>Bs.As. G.B.A. Zona Norte</td>\n",
       "      <td>214.0</td>\n",
       "      <td>814.0</td>\n",
       "      <td>CASA A ESTRENAR EN VENTA EN HARAS STA. MARIA, ...</td>\n",
       "      <td>False</td>\n",
       "    </tr>\n",
       "    <tr>\n",
       "      <th>3439</th>\n",
       "      <td>Argentina</td>\n",
       "      <td>2017-07-11</td>\n",
       "      <td>USD</td>\n",
       "      <td>Venta Casa Loma Verde Country Club – Escobar| ...</td>\n",
       "      <td>NaN</td>\n",
       "      <td>NaN</td>\n",
       "      <td>3431266.0</td>\n",
       "      <td>958f01587dca2734b6c25bb94b8e6f79183d5bbf</td>\n",
       "      <td>https://thumbs4.properati.com/0/YNMMy6xYl_CGzB...</td>\n",
       "      <td>-34.340253</td>\n",
       "      <td>...</td>\n",
       "      <td>1060.606061</td>\n",
       "      <td>1060.606061</td>\n",
       "      <td>http://www.properati.com.ar/19yjs_venta_casa_l...</td>\n",
       "      <td>house</td>\n",
       "      <td>NaN</td>\n",
       "      <td>Bs.As. G.B.A. Zona Norte</td>\n",
       "      <td>165.0</td>\n",
       "      <td>165.0</td>\n",
       "      <td>Bustamante Propiedades - Venta Casa Loma Verde</td>\n",
       "      <td>False</td>\n",
       "    </tr>\n",
       "    <tr>\n",
       "      <th>3441</th>\n",
       "      <td>Argentina</td>\n",
       "      <td>2016-01-21</td>\n",
       "      <td>USD</td>\n",
       "      <td>Venta casas en Aranjuez. : CÃ³moda casa con 3 ...</td>\n",
       "      <td>NaN</td>\n",
       "      <td>NaN</td>\n",
       "      <td>3434130.0</td>\n",
       "      <td>1ab0898993151f5672a8d3ba40cdd2b5ce20c1cb</td>\n",
       "      <td>NaN</td>\n",
       "      <td>-34.340253</td>\n",
       "      <td>...</td>\n",
       "      <td>1233.333333</td>\n",
       "      <td>308.333333</td>\n",
       "      <td>NaN</td>\n",
       "      <td>house</td>\n",
       "      <td>NaN</td>\n",
       "      <td>Bs.As. G.B.A. Zona Norte</td>\n",
       "      <td>150.0</td>\n",
       "      <td>600.0</td>\n",
       "      <td>CASA EN VENTA</td>\n",
       "      <td>False</td>\n",
       "    </tr>\n",
       "    <tr>\n",
       "      <th>3452</th>\n",
       "      <td>Argentina</td>\n",
       "      <td>2016-12-20</td>\n",
       "      <td>USD</td>\n",
       "      <td>Venta con renta. Excelente propiedad en Las Lo...</td>\n",
       "      <td>NaN</td>\n",
       "      <td>NaN</td>\n",
       "      <td>NaN</td>\n",
       "      <td>38a2624b01ea885e1207ab36e7bba1076e3bb79f</td>\n",
       "      <td>https://thumbs4.properati.com/0/KnnGRXIgAUf5qv...</td>\n",
       "      <td>-34.340253</td>\n",
       "      <td>...</td>\n",
       "      <td>1153.846154</td>\n",
       "      <td>1153.846154</td>\n",
       "      <td>http://www.properati.com.ar/14drz_venta_casa_h...</td>\n",
       "      <td>house</td>\n",
       "      <td>NaN</td>\n",
       "      <td>Bs.As. G.B.A. Zona Norte</td>\n",
       "      <td>260.0</td>\n",
       "      <td>260.0</td>\n",
       "      <td>VENTA DE CASA EN HARAS SANTA MARÍA - ESCOBAR</td>\n",
       "      <td>False</td>\n",
       "    </tr>\n",
       "  </tbody>\n",
       "</table>\n",
       "<p>115 rows × 28 columns</p>\n",
       "</div>"
      ],
      "text/plain": [
       "     country_name  created_on currency  \\\n",
       "3048    Argentina  2017-08-27      USD   \n",
       "3049    Argentina  2017-08-27      USD   \n",
       "3051    Argentina  2017-08-27      USD   \n",
       "3052    Argentina  2017-08-27      USD   \n",
       "3056    Argentina  2017-08-27      USD   \n",
       "3057    Argentina  2017-08-27      USD   \n",
       "3058    Argentina  2017-08-27      USD   \n",
       "3059    Argentina  2017-08-26      USD   \n",
       "3062    Argentina  2017-08-27      USD   \n",
       "3063    Argentina  2017-08-27      USD   \n",
       "3064    Argentina  2017-08-27      USD   \n",
       "3068    Argentina  2017-08-26      USD   \n",
       "3070    Argentina  2017-08-27      USD   \n",
       "3072    Argentina  2017-08-27      USD   \n",
       "3074    Argentina  2017-08-27      USD   \n",
       "3075    Argentina  2017-08-27      USD   \n",
       "3079    Argentina  2017-08-26      USD   \n",
       "3085    Argentina  2017-08-26      USD   \n",
       "3087    Argentina  2017-08-27      USD   \n",
       "3091    Argentina  2017-08-27      USD   \n",
       "3092    Argentina  2017-08-27      USD   \n",
       "3096    Argentina  2017-08-27      USD   \n",
       "3098    Argentina  2017-08-27      USD   \n",
       "3100    Argentina  2017-09-14      USD   \n",
       "3102    Argentina  2017-07-05      USD   \n",
       "3104    Argentina  2017-07-04      USD   \n",
       "3106    Argentina  2017-07-04      USD   \n",
       "3108    Argentina  2017-04-06      USD   \n",
       "3114    Argentina  2016-12-17      USD   \n",
       "3123    Argentina  2016-07-27      USD   \n",
       "...           ...         ...      ...   \n",
       "3335    Argentina  2017-09-20      USD   \n",
       "3337    Argentina  2017-08-27      USD   \n",
       "3339    Argentina  2017-08-27      USD   \n",
       "3341    Argentina  2016-12-17      USD   \n",
       "3351    Argentina  2017-08-27      USD   \n",
       "3358    Argentina  2017-07-29      USD   \n",
       "3360    Argentina  2017-02-22      USD   \n",
       "3366    Argentina  2016-12-20      USD   \n",
       "3367    Argentina  2017-07-08      USD   \n",
       "3369    Argentina  2017-04-11      USD   \n",
       "3370    Argentina  2016-01-21      USD   \n",
       "3373    Argentina  2017-09-18      USD   \n",
       "3375    Argentina  2016-01-21      USD   \n",
       "3378    Argentina  2017-05-27      USD   \n",
       "3381    Argentina  2016-12-07      USD   \n",
       "3391    Argentina  2017-02-04      USD   \n",
       "3393    Argentina  2016-01-21      USD   \n",
       "3396    Argentina  2016-12-06      USD   \n",
       "3406    Argentina  2017-08-19      USD   \n",
       "3407    Argentina  2017-08-19      USD   \n",
       "3408    Argentina  2017-05-17      USD   \n",
       "3411    Argentina  2016-12-20      USD   \n",
       "3412    Argentina  2017-04-27      USD   \n",
       "3418    Argentina  2017-04-06      USD   \n",
       "3424    Argentina  2017-04-06      USD   \n",
       "3430    Argentina  2017-07-04      USD   \n",
       "3431    Argentina  2017-01-19      USD   \n",
       "3439    Argentina  2017-07-11      USD   \n",
       "3441    Argentina  2016-01-21      USD   \n",
       "3452    Argentina  2016-12-20      USD   \n",
       "\n",
       "                                            description  expenses  floor  \\\n",
       "3048                        EXCELENTE CASA DESARROLL...       NaN    NaN   \n",
       "3049                       CONTACTO 155411811313    ...       NaN    NaN   \n",
       "3051                     MUY BUENA CASA EN CONSTRUCC...       NaN    NaN   \n",
       "3052                    CONTACTO 155411117701       ...       NaN    NaN   \n",
       "3056                 MUY BUENA CASA DESARROLLADA EN ...       NaN    NaN   \n",
       "3057                EXCELENTE CASA DESARROLLADA EN D...       NaN    NaN   \n",
       "3058                EXCELENTE CASA SOBRE LOTE AL AGU...       NaN    NaN   \n",
       "3059               CLAUDIA: 034815431117705         ...       NaN    NaN   \n",
       "3062               MUY BUENA CASA DESARROLLADA EN UN...       NaN    NaN   \n",
       "3063               MUY BUENA CASA SOBRE LOTE AL AGUA...       NaN    NaN   \n",
       "3064            CONTACTO : GUSTAVO 1551811313- 15541...       NaN    NaN   \n",
       "3068         CLAUDIA: 034815431117705/28            ...       NaN    NaN   \n",
       "3070        CONTACTO 155411811313                MUY...       NaN    NaN   \n",
       "3072      CONTACTO : 155181117728              MUY B...       NaN    NaN   \n",
       "3074      CONTACTO : GUSTAVO 155181117728 MUY BUENA ...       NaN    NaN   \n",
       "3075     CONTACTO 155411154312955 Claudia     Muy bu...       NaN    NaN   \n",
       "3079     CONTACTO 155523117728   MUY BUENA CASA DESA...       NaN    NaN   \n",
       "3085     CONTACTO : Claudia 034815431117728         ...       NaN    NaN   \n",
       "3087   CONTACTO : CLAUDIA 034815431117728    MUY BUE...       NaN    NaN   \n",
       "3091   CONTACTO : Gustavo 155181117728 MUY BUENA CAS...       NaN    NaN   \n",
       "3092   CONTACTO: ANDREA -INGRID 155411117701     MUY...       NaN    NaN   \n",
       "3096   CONTACTO: ANDREA -INGRID 155411117701     MUY...       NaN    NaN   \n",
       "3098   CONTACTO: ANDREA -INGRID 155411117701     MUY...       NaN    NaN   \n",
       "3100  *** APTO CREDITO (consultar) | LOTE INTERNO | ...       NaN    NaN   \n",
       "3102  ***FIN DE OBRA DICIEMBRE 2017 | LOTE INTERNO |...       NaN    NaN   \n",
       "3104  ***FIN DE OBRA diciembre 2017 | LOTE INTERNO |...       NaN    NaN   \n",
       "3106  ***FIN DE OBRA diciembre 2017 | LOTE INTERNO |...       NaN    NaN   \n",
       "3108  - Casa de 190 m² cub. P.ALTA.: 3 dorm (1 ste. ...       NaN    NaN   \n",
       "3114  8 unidades de 3 ambientes y 63m2 cubiertos dis...       NaN    NaN   \n",
       "3123  A metros de toda la parte comercial. Unidades ...       NaN    NaN   \n",
       "...                                                 ...       ...    ...   \n",
       "3335  GUSTAVO VER DATOS MUY BUENA CASA DE ESTILO --S...       NaN    NaN   \n",
       "3337  HERMOSA CASA A ESTRENAR, DESARROLLADA EN 2 PLA...       NaN    NaN   \n",
       "3339  HERMOSA CASA A ESTRENAR, DESARROLLADA EN 2 PLA...       NaN    NaN   \n",
       "3341  Hermosa casa  de líneas modernas desarrollada ...       NaN    NaN   \n",
       "3351  Hermosa casa a estrenar desarrollada en una pl...       NaN    NaN   \n",
       "3358  Hermosa casa en Haras de Santa Maria, Barrio E...       NaN    NaN   \n",
       "3360  Imponente casa a estrenar en uno de los mejore...       NaN    NaN   \n",
       "3366  JMF Espectacular lote en San Matias a la Lagun...       NaN    NaN   \n",
       "3367  JMF. Casa en barrio privado Loma Verde, Escoba...       NaN    NaN   \n",
       "3369  JMF: OPORTUNIDAD! Casa 4 dormitorios en Countr...       NaN    NaN   \n",
       "3370  LOMA VERDE-OPORTUNIDAD Ãºnica- Impecable casa ...       NaN    NaN   \n",
       "3373  Lindisima Casa a estrenar desarrollada en una ...       NaN    NaN   \n",
       "3375  Loma Verde, Escobar  - OPORTUNIDAD- Escriturad...       NaN    NaN   \n",
       "3378  MAO. Muy linda casa de estilo clásico moderno....       NaN    NaN   \n",
       "3381  MUY LINDA CASA  DESARROLLADA EN LOTE INTERNO!L...       NaN    NaN   \n",
       "3391  MUY LINDA CASA EN VENTA CON RENTA HASTA OCTUBR...       NaN    NaN   \n",
       "3393  Muy buena casa moderna a estrenar contemplando...       NaN    NaN   \n",
       "3396  Muy linda casa de diseño moderno desarrollada ...       NaN    NaN   \n",
       "3406  Muy linda casa desarrollada en dos plantas con...       NaN    NaN   \n",
       "3407  Muy linda casa desarrollada en una planta con ...       NaN    NaN   \n",
       "3408  Muy linda casa en venta en el Barrio San Matia...       NaN    NaN   \n",
       "3411  NOE. Excelente casa en barrio privado Los Cara...       NaN    NaN   \n",
       "3412  Optimo mantenimiento general Chatel de 230 m² ...       NaN    NaN   \n",
       "3418  P.LANTA BAJA : 3 dorm., (1 en suite) los otros...       NaN    NaN   \n",
       "3424  SEGUNDA ISLA Calel Del Lujan entre Las Araucar...       NaN    NaN   \n",
       "3430  Se vende en la zona de Escobar una casa divina...       NaN    NaN   \n",
       "3431  VIVIENDA A ESTRENAR EN HARAS STA MARIA. U$S 25...       NaN    NaN   \n",
       "3439  Venta Casa Loma Verde Country Club – Escobar| ...       NaN    NaN   \n",
       "3441  Venta casas en Aranjuez. : CÃ³moda casa con 3 ...       NaN    NaN   \n",
       "3452  Venta con renta. Excelente propiedad en Las Lo...       NaN    NaN   \n",
       "\n",
       "      geonames_id                                        id  \\\n",
       "3048    3434130.0  f60bd2e07f7a54b9c4909b41379e2e0588f5f011   \n",
       "3049          NaN  ce2b63f1ab2931d49bcb9d68910cebd39c470bd3   \n",
       "3051    3434130.0  99800c7ceb8090ca8cde2ee4711fc6fa97d301ee   \n",
       "3052          NaN  988704da493999ff7999f03f4913b2478a706eb1   \n",
       "3056    3434130.0  acf10d95a0119cf4b2a239f46620433bea621bbe   \n",
       "3057    3434130.0  7dd775031b1199e4f8f334206421554059086951   \n",
       "3058    3434130.0  19300c7eb1d155a9ef0406cc256a373a65be1e32   \n",
       "3059    3434130.0  25d30cbe1f71932904e42018b213741299fbc059   \n",
       "3062    3434130.0  ab0005918d42411c91ed4cfc599c6f35a68d1b86   \n",
       "3063    3434130.0  eea376cb576d6ab82fe7a8e2746491b06198733e   \n",
       "3064          NaN  9146e1cc2724d8079623246f0a96c34bbe21ffbc   \n",
       "3068    3434130.0  ef02a51f90ada4bf4227c67bba855c4d93b5ca15   \n",
       "3070          NaN  bff722e3976db324573e97c2bbac39fb094101ce   \n",
       "3072          NaN  f7698eafa29f9842007b783ed17deda173285e6a   \n",
       "3074    3434130.0  76e9f2581b6906180186a9baedb157987e1e9e28   \n",
       "3075          NaN  0a090ead22ed6f04eb332f8e56da63ac751c0587   \n",
       "3079          NaN  baf5e3719ff5c677f7ba1c9e04114ceaec885220   \n",
       "3085    3434130.0  fbad1ef8ae780dfe2264f6dd3c507ff930d0fbd9   \n",
       "3087          NaN  088d765e8694ae895e945e022e08a176fc5b1ff3   \n",
       "3091    3434130.0  603e6f438fb73cc5d1ce1abd224e991ab2f2c1c1   \n",
       "3092          NaN  f93b25a82e78a2a06b85e162f70197e5a820a154   \n",
       "3096          NaN  feba70937e2997aac32f81f0060f8101822654cf   \n",
       "3098          NaN  bbc8b9c63e1f9a4087a732eadea9816f0b19d3d5   \n",
       "3100          NaN  b410ba802e379bccd8cfbc0b5c6a2537a9bc48dc   \n",
       "3102    3434130.0  a24982df1ea6a6521560bfffe139c803cfdb8677   \n",
       "3104    3434130.0  99b7fd402a9d18337890931c329423a0399717b7   \n",
       "3106    3434130.0  f6c407283789e0e58a59b661ad189bfe73248779   \n",
       "3108    3434130.0  0a093f4accd6015216183d85e2d383674954573a   \n",
       "3114    3434130.0  c4d44cfc0a5e815a78e3a6bbea73705319a626f0   \n",
       "3123          NaN  87400fa129cb454d678203f86122996e3e500a4f   \n",
       "...           ...                                       ...   \n",
       "3335          NaN  5f729fc62ebf29e605c05894f0eec72f08e1c8ba   \n",
       "3337          NaN  f80e4487c13df115459a563d871d63384b4d4e7b   \n",
       "3339          NaN  224a0a52c7a10180b4eac4cbaa04bd01216a57b3   \n",
       "3341          NaN  6773dbf1164dccefc8ddd30c790f56a353a0106d   \n",
       "3351          NaN  b1dc97b0d3629b6726555b5e0bb18e8b3dd30b15   \n",
       "3358          NaN  0ba69b541683dd5f55990304e98ba2e62b950a8a   \n",
       "3360          NaN  eabd30a2d8dd597b62cff1c5048fd320c1a38c57   \n",
       "3366          NaN  0b4604489bd56fecf7806db45a1b49ceecf2a11a   \n",
       "3367    3431266.0  c9bcebc0eb87540d0f2d253feb0327513f4aff6a   \n",
       "3369    3431266.0  dce9ef1c1fdafdb19c263fdaae07c7e32b2bdeb5   \n",
       "3370    3431266.0  3fa358c9bc46eca8126fef3f6441bf2287abae6c   \n",
       "3373          NaN  a9e0599549fa298a28bdb08cb7e95515b54e8b68   \n",
       "3375    3431266.0  3257a64b11bec19f27c23ffd32f6a1ad3c3eca4c   \n",
       "3378          NaN  74c419b3dca1fa2e95825c20424982def01f3706   \n",
       "3381          NaN  27764f9c93461e0af3934adb49ee24b4db7827c4   \n",
       "3391          NaN  5c391061c3ceab9e2c2caa5a13f0851dd59aff4c   \n",
       "3393          NaN  f4011b04f9b359e6aec0d7bf35ff2e5aa19b84ca   \n",
       "3396          NaN  088a782b34729ec21e5d38ce161997726d66dc10   \n",
       "3406    3434130.0  a50fdc8e1c706bce6cd4af4405654251c8f38a37   \n",
       "3407    3434130.0  d7a3f6510275a6b112282be671dde24c6062506f   \n",
       "3408          NaN  c3b85194266bbd43df7e54bb2a351a97731937c5   \n",
       "3411          NaN  5f3bc0b897f23bbf7fb8251d9344ecb0123903e7   \n",
       "3412          NaN  19a65e1058ab52b1548a54a392a7bc3f46d1e2a8   \n",
       "3418    3434130.0  0b69356d4f36984e4e9b7ede0a6f97f12ae29bd3   \n",
       "3424    3434130.0  ffca74b59b3c93b15fb0ab29c27cfd2736b7674e   \n",
       "3430    3434130.0  5a9ee97f209aa61b47b56fb8c437d8e686552509   \n",
       "3431          NaN  b3717c7f3e2a37e38a7ce8eea9a30a0e133468c8   \n",
       "3439    3431266.0  958f01587dca2734b6c25bb94b8e6f79183d5bbf   \n",
       "3441    3434130.0  1ab0898993151f5672a8d3ba40cdd2b5ce20c1cb   \n",
       "3452          NaN  38a2624b01ea885e1207ab36e7bba1076e3bb79f   \n",
       "\n",
       "                                        image_thumbnail        lat    ...      \\\n",
       "3048  https://thumbs4.properati.com/4/oD59x_ZhYo-7ZB... -34.340253    ...       \n",
       "3049  https://thumbs4.properati.com/6/Vj2f_Onb7LPyb8... -34.340253    ...       \n",
       "3051  https://thumbs4.properati.com/2/3ZIieJnZg1jIqb... -34.340253    ...       \n",
       "3052  https://thumbs4.properati.com/0/QBPERFZagD28hc... -34.340253    ...       \n",
       "3056  https://thumbs4.properati.com/6/GCvm9oAlH32d97... -34.340253    ...       \n",
       "3057  https://thumbs4.properati.com/0/DzWlZshD5Ma53Z... -34.340253    ...       \n",
       "3058  https://thumbs4.properati.com/3/b1Lk71i5y2wsVs... -34.340253    ...       \n",
       "3059  https://thumbs4.properati.com/0/28YUhFh7U386cD... -34.340253    ...       \n",
       "3062  https://thumbs4.properati.com/3/jdk220i93KP2CH... -34.340253    ...       \n",
       "3063  https://thumbs4.properati.com/4/4udqByg7CHCU6Y... -34.340253    ...       \n",
       "3064  https://thumbs4.properati.com/7/FANhZv5cBoB33a... -34.340253    ...       \n",
       "3068  https://thumbs4.properati.com/3/CGtxU61UHpfn7Y... -34.340253    ...       \n",
       "3070  https://thumbs4.properati.com/8/FiHmL85-XR4A1J... -34.340253    ...       \n",
       "3072  https://thumbs4.properati.com/7/ofHQ2_Id_rvLCQ... -34.340253    ...       \n",
       "3074  https://thumbs4.properati.com/5/yVVvOGOc3I2erb... -34.340253    ...       \n",
       "3075  https://thumbs4.properati.com/8/N6ue8azW8bJ8jA... -34.340253    ...       \n",
       "3079  https://thumbs4.properati.com/8/g_iDjgKe7Vd3IL... -34.340253    ...       \n",
       "3085  https://thumbs4.properati.com/6/HNyLdgJH_BXcnH... -34.340253    ...       \n",
       "3087  https://thumbs4.properati.com/0/bxAr1SBw_0jiQn... -34.340253    ...       \n",
       "3091  https://thumbs4.properati.com/9/tT2X-3wyQrCEC7... -34.340253    ...       \n",
       "3092  https://thumbs4.properati.com/8/pM-qPkr3BfnAze... -34.340253    ...       \n",
       "3096  https://thumbs4.properati.com/2/CFJiR8B75gQCOx... -34.340253    ...       \n",
       "3098  https://thumbs4.properati.com/1/7haWu2XNsEASY1... -34.340253    ...       \n",
       "3100  https://thumbs4.properati.com/6/328-gyoWiaUfX9... -34.340253    ...       \n",
       "3102                                                NaN -34.340253    ...       \n",
       "3104                                                NaN -34.340253    ...       \n",
       "3106                                                NaN -34.340253    ...       \n",
       "3108                                                NaN -34.340253    ...       \n",
       "3114                                                NaN -34.340253    ...       \n",
       "3123                                                NaN -34.340253    ...       \n",
       "...                                                 ...        ...    ...       \n",
       "3335  https://thumbs4.properati.com/5/tuuCCo4PHcyexv... -34.340253    ...       \n",
       "3337  https://thumbs4.properati.com/1/8VMhndYhK9f7wa... -34.340253    ...       \n",
       "3339  https://thumbs4.properati.com/9/GpxvsGIeY3emfh... -34.340253    ...       \n",
       "3341                                                NaN -34.340253    ...       \n",
       "3351  https://thumbs4.properati.com/2/6rX5rPA0fE4NUh... -34.340253    ...       \n",
       "3358  https://thumbs4.properati.com/6/zW1OMXLM9vuQjq... -34.340253    ...       \n",
       "3360                                                NaN -34.340253    ...       \n",
       "3366                                                NaN -34.340253    ...       \n",
       "3367  https://thumbs4.properati.com/8/Np_AiopH0GzRP4... -34.340253    ...       \n",
       "3369                                                NaN -34.340253    ...       \n",
       "3370                                                NaN -34.340253    ...       \n",
       "3373  https://thumbs4.properati.com/2/XfcliGeh8LBiEB... -34.340253    ...       \n",
       "3375                                                NaN -34.340253    ...       \n",
       "3378                                                NaN -34.340253    ...       \n",
       "3381                                                NaN -34.340253    ...       \n",
       "3391                                                NaN -34.340253    ...       \n",
       "3393                                                NaN -34.340253    ...       \n",
       "3396                                                NaN -34.340253    ...       \n",
       "3406  https://thumbs4.properati.com/0/V7j2_wZHWZ1cwg... -34.340253    ...       \n",
       "3407  https://thumbs4.properati.com/1/nuiG0oND3LYy1g... -34.340253    ...       \n",
       "3408                                                NaN -34.340253    ...       \n",
       "3411                                                NaN -34.340253    ...       \n",
       "3412                                                NaN -34.340253    ...       \n",
       "3418                                                NaN -34.340253    ...       \n",
       "3424                                                NaN -34.340253    ...       \n",
       "3430                                                NaN -34.340253    ...       \n",
       "3431                                                NaN -34.340253    ...       \n",
       "3439  https://thumbs4.properati.com/0/YNMMy6xYl_CGzB... -34.340253    ...       \n",
       "3441                                                NaN -34.340253    ...       \n",
       "3452  https://thumbs4.properati.com/0/KnnGRXIgAUf5qv... -34.340253    ...       \n",
       "\n",
       "     price_per_m2  price_usd_per_m2  \\\n",
       "3048  1516.587678       1516.587678   \n",
       "3049  1350.000000       1350.000000   \n",
       "3051  1121.951220       1121.951220   \n",
       "3052  1187.500000       1187.500000   \n",
       "3056  1118.012422       1118.012422   \n",
       "3057  1222.222222       1222.222222   \n",
       "3058  1272.000000       1272.000000   \n",
       "3059  1196.319018       1196.319018   \n",
       "3062  1235.294118       1235.294118   \n",
       "3063  1277.777778       1277.777778   \n",
       "3064  1335.616438       1335.616438   \n",
       "3068  1357.142857       1357.142857   \n",
       "3070  1258.278146       1258.278146   \n",
       "3072  1500.000000       1500.000000   \n",
       "3074  1194.444444       1194.444444   \n",
       "3075  1100.000000       1100.000000   \n",
       "3079  1178.343949       1178.343949   \n",
       "3085  1303.030303       1303.030303   \n",
       "3087  1161.971831       1161.971831   \n",
       "3091  1451.612903       1451.612903   \n",
       "3092  1035.714286       1035.714286   \n",
       "3096  1038.461538       1038.461538   \n",
       "3098  1038.461538       1038.461538   \n",
       "3100  1180.000000        951.612903   \n",
       "3102  1304.347826       1257.485030   \n",
       "3104  1419.753086       1419.753086   \n",
       "3106  1419.753086       1419.753086   \n",
       "3108  1105.263158       1105.263158   \n",
       "3114  1190.476190       1190.476190   \n",
       "3123  1100.000000       1100.000000   \n",
       "...           ...               ...   \n",
       "3335  1466.666667       1189.189189   \n",
       "3337   909.090909        909.090909   \n",
       "3339  1081.081081       1081.081081   \n",
       "3341  1568.627451        394.088670   \n",
       "3351  1100.000000       1100.000000   \n",
       "3358  1436.170213       1436.170213   \n",
       "3360  1172.413793        971.428571   \n",
       "3366  1428.571429        208.768267   \n",
       "3367   970.588235        970.588235   \n",
       "3369   970.588235        825.000000   \n",
       "3370  1241.379310        205.714286   \n",
       "3373  1294.117647       1157.894737   \n",
       "3375   863.309353        318.725100   \n",
       "3378  1400.000000       1184.615385   \n",
       "3381  1344.827586       1344.827586   \n",
       "3391  1150.000000       1150.000000   \n",
       "3393  1384.615385        370.370370   \n",
       "3396  1209.150327       1209.150327   \n",
       "3406  1798.941799       1497.797357   \n",
       "3407  1385.281385       1212.121212   \n",
       "3408  1210.526316        306.666667   \n",
       "3411  1302.083333        781.250000   \n",
       "3412   860.869565        194.117647   \n",
       "3418  1069.364162        958.549223   \n",
       "3424   782.608696        782.608696   \n",
       "3430  1071.428571        375.000000   \n",
       "3431  1191.588785        313.267813   \n",
       "3439  1060.606061       1060.606061   \n",
       "3441  1233.333333        308.333333   \n",
       "3452  1153.846154       1153.846154   \n",
       "\n",
       "                                          properati_url property_type rooms  \\\n",
       "3048  http://www.properati.com.ar/1dx7w_venta_depart...         house   1.0   \n",
       "3049  http://www.properati.com.ar/1dx7e_venta_depart...         house   1.0   \n",
       "3051  http://www.properati.com.ar/1dx7q_venta_depart...         house   1.0   \n",
       "3052  http://www.properati.com.ar/1dwz8_venta_depart...         house   1.0   \n",
       "3056  http://www.properati.com.ar/1dx7u_venta_depart...         house   1.0   \n",
       "3057  http://www.properati.com.ar/1dx7t_venta_depart...         house   NaN   \n",
       "3058  http://www.properati.com.ar/1dx7j_venta_depart...         house   1.0   \n",
       "3059  http://www.properati.com.ar/1dvj7_venta_depart...         house   1.0   \n",
       "3062  http://www.properati.com.ar/1dx8e_venta_depart...         house   NaN   \n",
       "3063  http://www.properati.com.ar/1dx86_venta_depart...         house   1.0   \n",
       "3064  http://www.properati.com.ar/1dx6z_venta_depart...         house   1.0   \n",
       "3068  http://www.properati.com.ar/1dvj9_venta_depart...         house   1.0   \n",
       "3070  http://www.properati.com.ar/1dx7c_venta_depart...         house   1.0   \n",
       "3072  http://www.properati.com.ar/1dx6i_venta_depart...     apartment   1.0   \n",
       "3074  http://www.properati.com.ar/1dx8m_venta_depart...     apartment   1.0   \n",
       "3075  http://www.properati.com.ar/1dx2v_venta_depart...         house   1.0   \n",
       "3079  http://www.properati.com.ar/1dv5o_venta_depart...     apartment   1.0   \n",
       "3085  http://www.properati.com.ar/1dvka_venta_depart...         house   1.0   \n",
       "3087  http://www.properati.com.ar/1dx4v_venta_depart...     apartment   1.0   \n",
       "3091  http://www.properati.com.ar/1dx88_venta_depart...         house   1.0   \n",
       "3092  http://www.properati.com.ar/1dwza_venta_depart...     apartment   1.0   \n",
       "3096  http://www.properati.com.ar/1dwz6_venta_depart...     apartment   1.0   \n",
       "3098  http://www.properati.com.ar/1dwz7_venta_depart...     apartment   1.0   \n",
       "3100  http://www.properati.com.ar/1erhf_venta_casa_h...         house   NaN   \n",
       "3102                                                NaN         house   NaN   \n",
       "3104                                                NaN         house   NaN   \n",
       "3106                                                NaN         house   NaN   \n",
       "3108                                                NaN         house   NaN   \n",
       "3114                                                NaN     apartment   3.0   \n",
       "3123                                                NaN         house   NaN   \n",
       "...                                                 ...           ...   ...   \n",
       "3335  http://www.properati.com.ar/1f725_venta_casa_b...         house   NaN   \n",
       "3337  http://www.properati.com.ar/1dwus_venta_depart...     apartment   1.0   \n",
       "3339  http://www.properati.com.ar/1dwut_venta_depart...     apartment   1.0   \n",
       "3341                                                NaN         house   NaN   \n",
       "3351  http://www.properati.com.ar/1dwv5_venta_depart...     apartment   1.0   \n",
       "3358  http://www.properati.com.ar/1cghf_venta_casa_h...         house   NaN   \n",
       "3360                                                NaN         house   NaN   \n",
       "3366                                                NaN         house   NaN   \n",
       "3367  http://www.properati.com.ar/19x7r_venta_casa_l...         house   NaN   \n",
       "3369                                                NaN         house   NaN   \n",
       "3370                                                NaN         house   NaN   \n",
       "3373  http://www.properati.com.ar/1ezbg_venta_casa_e...         house   NaN   \n",
       "3375                                                NaN         house   NaN   \n",
       "3378                                                NaN         house   NaN   \n",
       "3381                                                NaN         house   NaN   \n",
       "3391                                                NaN         house   NaN   \n",
       "3393                                                NaN         house   NaN   \n",
       "3396                                                NaN         house   NaN   \n",
       "3406  http://www.properati.com.ar/1djx7_venta_casa_e...         house   NaN   \n",
       "3407  http://www.properati.com.ar/1djws_venta_casa_e...         house   NaN   \n",
       "3408                                                NaN         house   NaN   \n",
       "3411                                                NaN         house   NaN   \n",
       "3412                                                NaN         house   NaN   \n",
       "3418                                                NaN         house   NaN   \n",
       "3424                                                NaN         house   NaN   \n",
       "3430                                                NaN         house   NaN   \n",
       "3431                                                NaN         house   NaN   \n",
       "3439  http://www.properati.com.ar/19yjs_venta_casa_l...         house   NaN   \n",
       "3441                                                NaN         house   NaN   \n",
       "3452  http://www.properati.com.ar/14drz_venta_casa_h...         house   NaN   \n",
       "\n",
       "                    state_name  surface_covered_in_m2  surface_total_in_m2  \\\n",
       "3048  Bs.As. G.B.A. Zona Norte                  211.0                211.0   \n",
       "3049  Bs.As. G.B.A. Zona Norte                  200.0                200.0   \n",
       "3051  Bs.As. G.B.A. Zona Norte                  205.0                205.0   \n",
       "3052  Bs.As. G.B.A. Zona Norte                  160.0                160.0   \n",
       "3056  Bs.As. G.B.A. Zona Norte                  161.0                161.0   \n",
       "3057  Bs.As. G.B.A. Zona Norte                  180.0                180.0   \n",
       "3058  Bs.As. G.B.A. Zona Norte                  250.0                250.0   \n",
       "3059  Bs.As. G.B.A. Zona Norte                  163.0                163.0   \n",
       "3062  Bs.As. G.B.A. Zona Norte                  170.0                170.0   \n",
       "3063  Bs.As. G.B.A. Zona Norte                  180.0                180.0   \n",
       "3064  Bs.As. G.B.A. Zona Norte                  146.0                146.0   \n",
       "3068  Bs.As. G.B.A. Zona Norte                  140.0                140.0   \n",
       "3070  Bs.As. G.B.A. Zona Norte                  151.0                151.0   \n",
       "3072  Bs.As. G.B.A. Zona Norte                  140.0                140.0   \n",
       "3074  Bs.As. G.B.A. Zona Norte                  180.0                180.0   \n",
       "3075  Bs.As. G.B.A. Zona Norte                  180.0                180.0   \n",
       "3079  Bs.As. G.B.A. Zona Norte                  157.0                157.0   \n",
       "3085  Bs.As. G.B.A. Zona Norte                  165.0                165.0   \n",
       "3087  Bs.As. G.B.A. Zona Norte                  142.0                142.0   \n",
       "3091  Bs.As. G.B.A. Zona Norte                  155.0                155.0   \n",
       "3092  Bs.As. G.B.A. Zona Norte                  140.0                140.0   \n",
       "3096  Bs.As. G.B.A. Zona Norte                  130.0                130.0   \n",
       "3098  Bs.As. G.B.A. Zona Norte                  130.0                130.0   \n",
       "3100  Bs.As. G.B.A. Zona Norte                  250.0                310.0   \n",
       "3102  Bs.As. G.B.A. Zona Norte                  161.0                167.0   \n",
       "3104  Bs.As. G.B.A. Zona Norte                  162.0                162.0   \n",
       "3106  Bs.As. G.B.A. Zona Norte                  162.0                162.0   \n",
       "3108  Bs.As. G.B.A. Zona Norte                  190.0                190.0   \n",
       "3114  Bs.As. G.B.A. Zona Norte                   63.0                 63.0   \n",
       "3123  Bs.As. G.B.A. Zona Norte                   80.0                 80.0   \n",
       "...                        ...                    ...                  ...   \n",
       "3335  Bs.As. G.B.A. Zona Norte                  150.0                185.0   \n",
       "3337  Bs.As. G.B.A. Zona Norte                  220.0                220.0   \n",
       "3339  Bs.As. G.B.A. Zona Norte                  185.0                185.0   \n",
       "3341  Bs.As. G.B.A. Zona Norte                  204.0                812.0   \n",
       "3351  Bs.As. G.B.A. Zona Norte                  150.0                150.0   \n",
       "3358  Bs.As. G.B.A. Zona Norte                  188.0                188.0   \n",
       "3360  Bs.As. G.B.A. Zona Norte                  290.0                350.0   \n",
       "3366  Bs.As. G.B.A. Zona Norte                  140.0                958.0   \n",
       "3367  Bs.As. G.B.A. Zona Norte                  170.0                170.0   \n",
       "3369  Bs.As. G.B.A. Zona Norte                  170.0                200.0   \n",
       "3370  Bs.As. G.B.A. Zona Norte                  145.0                875.0   \n",
       "3373  Bs.As. G.B.A. Zona Norte                  170.0                190.0   \n",
       "3375  Bs.As. G.B.A. Zona Norte                  278.0                753.0   \n",
       "3378  Bs.As. G.B.A. Zona Norte                  275.0                325.0   \n",
       "3381  Bs.As. G.B.A. Zona Norte                  145.0                145.0   \n",
       "3391  Bs.As. G.B.A. Zona Norte                  200.0                200.0   \n",
       "3393  Bs.As. G.B.A. Zona Norte                  260.0                972.0   \n",
       "3396  Bs.As. G.B.A. Zona Norte                  153.0                153.0   \n",
       "3406  Bs.As. G.B.A. Zona Norte                  189.0                227.0   \n",
       "3407  Bs.As. G.B.A. Zona Norte                  231.0                264.0   \n",
       "3408  Bs.As. G.B.A. Zona Norte                  190.0                750.0   \n",
       "3411  Bs.As. G.B.A. Zona Norte                   96.0                160.0   \n",
       "3412  Bs.As. G.B.A. Zona Norte                  230.0               1020.0   \n",
       "3418  Bs.As. G.B.A. Zona Norte                  173.0                193.0   \n",
       "3424  Bs.As. G.B.A. Zona Norte                  230.0                230.0   \n",
       "3430  Bs.As. G.B.A. Zona Norte                  420.0               1200.0   \n",
       "3431  Bs.As. G.B.A. Zona Norte                  214.0                814.0   \n",
       "3439  Bs.As. G.B.A. Zona Norte                  165.0                165.0   \n",
       "3441  Bs.As. G.B.A. Zona Norte                  150.0                600.0   \n",
       "3452  Bs.As. G.B.A. Zona Norte                  260.0                260.0   \n",
       "\n",
       "                                                  title  duplicado  \n",
       "3048  Country El Cantón - Escobar - Bs.As. G.B.A. Zo...      False  \n",
       "3049  Country San Matías - Escobar - Bs.As. G.B.A. Z...      False  \n",
       "3051  Country El Cantón - Escobar - Bs.As. G.B.A. Zo...      False  \n",
       "3052  Country San Matías - Escobar - Bs.As. G.B.A. Z...      False  \n",
       "3056  Country El Cantón - Escobar - Bs.As. G.B.A. Zo...      False  \n",
       "3057  Country El Cantón - Escobar - Bs.As. G.B.A. Zo...      False  \n",
       "3058  Country El Cantón - Escobar - Bs.As. G.B.A. Zo...      False  \n",
       "3059  Country El Cantón - Escobar - Bs.As. G.B.A. Zo...      False  \n",
       "3062  Country El Cantón - Escobar - Bs.As. G.B.A. Zo...      False  \n",
       "3063  Country El Cantón - Escobar - Bs.As. G.B.A. Zo...      False  \n",
       "3064  Country San Matías - Escobar - Bs.As. G.B.A. Z...      False  \n",
       "3068  Country El Cantón - Escobar - Bs.As. G.B.A. Zo...      False  \n",
       "3070  Country San Matías - Escobar - Bs.As. G.B.A. Z...      False  \n",
       "3072  Country San Matías - Escobar - Bs.As. G.B.A. Z...      False  \n",
       "3074  Country El Cantón - Escobar - Bs.As. G.B.A. Zo...      False  \n",
       "3075  Country San Matías - Escobar - Bs.As. G.B.A. Z...      False  \n",
       "3079  Barrio Cerrado Haras Santa María - Escobar - B...      False  \n",
       "3085  Country El Cantón - Escobar - Bs.As. G.B.A. Zo...      False  \n",
       "3087  Country San Matías - Escobar - Bs.As. G.B.A. Z...      False  \n",
       "3091  Country El Cantón - Escobar - Bs.As. G.B.A. Zo...      False  \n",
       "3092  Country San Matías - Escobar - Bs.As. G.B.A. Z...      False  \n",
       "3096  Country San Matías - Escobar - Bs.As. G.B.A. Z...      False  \n",
       "3098  Country San Matías - Escobar - Bs.As. G.B.A. Z...      False  \n",
       "3100     Bustamante Prop - Haras Santa Maria Venta Casa      False  \n",
       "3102  Bustamante Propiedades - Venta Casa en El Cantón       False  \n",
       "3104  Bustamante Propiedades - Venta Casa en El Cantón       False  \n",
       "3106  Bustamante Propiedades - Venta Casa en El Cantón       False  \n",
       "3108                      CUBE - Barrio Privado Nautico      False  \n",
       "3114                  venta de departamentos a estrenar      False  \n",
       "3123                       Excelentes duplex a estrenar      False  \n",
       "...                                                 ...        ...  \n",
       "3335       MUY BUENA CASA ESTILO -SAN MATIAS 1551811313      False  \n",
       "3337  Barrio Cerrado Haras Santa María - Escobar - B...      False  \n",
       "3339  Barrio Cerrado Haras Santa María - Escobar - B...      False  \n",
       "3341      Casa en Venta - USD 320.000 - El Cantón Norte      False  \n",
       "3351  Country San Matías - Escobar - Bs.As. G.B.A. Z...      False  \n",
       "3358   Casa a la venta Haras de Santa Maria - USD270000      False  \n",
       "3360      Imponente casa a estrenar en venta en Escobar      False  \n",
       "3366  JMF casa a construir en Lote al Agua en San Ma...      False  \n",
       "3367    JMF. Casa en barrio privado Loma Verde, Escobar      False  \n",
       "3369  Casa 4 dormitorios en Country Loma Verde Apta ...      False  \n",
       "3370                                      CASA EN VENTA      False  \n",
       "3373   LINDISIMA CASA A ESTRENAR- EN BARRIO SAN MATIAS       False  \n",
       "3375                                      CASA EN VENTA      False  \n",
       "3378  MAO. Espectacular casa  de dos plantas a la la...      False  \n",
       "3381      El Canton - Norte - Casa en Venta USD 195.000      False  \n",
       "3391      CASA EN VENTA EN EL BARRIO SAN MATIAS ESCOBAR      False  \n",
       "3393                                      CASA EN VENTA      False  \n",
       "3396      El Canton - Islas - Casa en Venta USD 185.000      False  \n",
       "3406  Venta de casa en Barrio El Canton Norte  - Esc...      False  \n",
       "3407        Venta de Casa en Barrio El Cantón - Escobar      False  \n",
       "3408  Muy linda casa y practica en venta en el barri...      False  \n",
       "3411  NOE. Barrio privado Los Caracoles. Casa 2 domi...      False  \n",
       "3412                                     Impecable !!!       False  \n",
       "3418  Oportunidad...!! Original Diseño en TERCERA IS...      False  \n",
       "3424     CUBE - Centro Urbanistico Barrancas de Escobar      False  \n",
       "3430  Majestuosa casa en venta en el Barrio Cube, de...      False  \n",
       "3431  CASA A ESTRENAR EN VENTA EN HARAS STA. MARIA, ...      False  \n",
       "3439     Bustamante Propiedades - Venta Casa Loma Verde      False  \n",
       "3441                                      CASA EN VENTA      False  \n",
       "3452       VENTA DE CASA EN HARAS SANTA MARÍA - ESCOBAR      False  \n",
       "\n",
       "[115 rows x 28 columns]"
      ]
     },
     "execution_count": 15,
     "metadata": {},
     "output_type": "execute_result"
    }
   ],
   "source": [
    "data[data['lat-lon'] == '-34.3402525,-58.7849434']"
   ]
  },
  {
   "cell_type": "code",
   "execution_count": 12,
   "metadata": {},
   "outputs": [
    {
     "name": "stdout",
     "output_type": "stream",
     "text": [
      "<class 'pandas.core.frame.DataFrame'>\n",
      "Int64Index: 182407 entries, 0 to 781399\n",
      "Data columns (total 28 columns):\n",
      "country_name                  182407 non-null object\n",
      "created_on                    182407 non-null object\n",
      "currency                      178752 non-null object\n",
      "description                   182407 non-null object\n",
      "expenses                      25400 non-null float64\n",
      "floor                         22438 non-null float64\n",
      "geonames_id                   145856 non-null float64\n",
      "id                            182407 non-null object\n",
      "image_thumbnail               34078 non-null object\n",
      "lat                           182407 non-null float64\n",
      "lat-lon                       182407 non-null object\n",
      "lon                           182407 non-null float64\n",
      "operation                     34078 non-null object\n",
      "place_name                    182343 non-null object\n",
      "place_with_parent_names       182407 non-null object\n",
      "price                         182407 non-null float64\n",
      "price_aprox_local_currency    182407 non-null float64\n",
      "price_aprox_usd               182407 non-null float64\n",
      "price_per_m2                  158759 non-null float64\n",
      "price_usd_per_m2              126164 non-null float64\n",
      "properati_url                 34078 non-null object\n",
      "property_type                 182407 non-null object\n",
      "rooms                         112645 non-null float64\n",
      "state_name                    182407 non-null object\n",
      "surface_covered_in_m2         162848 non-null float64\n",
      "surface_total_in_m2           134937 non-null float64\n",
      "title                         182407 non-null object\n",
      "duplicado                     182407 non-null bool\n",
      "dtypes: bool(1), float64(13), object(14)\n",
      "memory usage: 39.1+ MB\n"
     ]
    }
   ],
   "source": [
    "data.info()"
   ]
  },
  {
   "cell_type": "code",
   "execution_count": 13,
   "metadata": {},
   "outputs": [],
   "source": [
    "data.to_csv(\"csvs/datosSinDuplicados.csv\", index = False)"
   ]
  },
  {
   "cell_type": "markdown",
   "metadata": {},
   "source": [
    "## Filtrando anomalos\n",
    "En este notebook lo que hicimos fue identificar los datos anomalos, por ejemplo no tiene sentido que una propiedad del tipo 'casa' este el el floor 250. Lo que elegimos hacer fue reemplazar esos datos anomalos por NaNs para no perder todo el registro solo por un dato incorrecto."
   ]
  },
  {
   "cell_type": "code",
   "execution_count": 1,
   "metadata": {},
   "outputs": [],
   "source": [
    "import pandas as pd\n",
    "import numpy as np\n",
    "import matplotlib.pyplot as plt\n",
    "%matplotlib inline"
   ]
  },
  {
   "cell_type": "code",
   "execution_count": 2,
   "metadata": {},
   "outputs": [],
   "source": [
    "data = pd.read_csv('csvs/datosSinDuplicados.csv', low_memory=False)"
   ]
  },
  {
   "cell_type": "code",
   "execution_count": 3,
   "metadata": {},
   "outputs": [],
   "source": [
    "data.drop_duplicates('id', keep = 'last', inplace = True)"
   ]
  },
  {
   "cell_type": "code",
   "execution_count": 4,
   "metadata": {},
   "outputs": [
    {
     "name": "stdout",
     "output_type": "stream",
     "text": [
      "<class 'pandas.core.frame.DataFrame'>\n",
      "Int64Index: 163260 entries, 0 to 182406\n",
      "Data columns (total 28 columns):\n",
      "country_name                  163260 non-null object\n",
      "created_on                    163260 non-null object\n",
      "currency                      159636 non-null object\n",
      "description                   163260 non-null object\n",
      "expenses                      23131 non-null float64\n",
      "floor                         19585 non-null float64\n",
      "geonames_id                   130373 non-null float64\n",
      "id                            163260 non-null object\n",
      "image_thumbnail               30237 non-null object\n",
      "lat                           163260 non-null float64\n",
      "lat-lon                       163260 non-null object\n",
      "lon                           163260 non-null float64\n",
      "operation                     30237 non-null object\n",
      "place_name                    163206 non-null object\n",
      "place_with_parent_names       163260 non-null object\n",
      "price                         163260 non-null float64\n",
      "price_aprox_local_currency    163260 non-null float64\n",
      "price_aprox_usd               163260 non-null float64\n",
      "price_per_m2                  141503 non-null float64\n",
      "price_usd_per_m2              113089 non-null float64\n",
      "properati_url                 30237 non-null object\n",
      "property_type                 163260 non-null object\n",
      "rooms                         100416 non-null float64\n",
      "state_name                    163260 non-null object\n",
      "surface_covered_in_m2         145505 non-null float64\n",
      "surface_total_in_m2           121590 non-null float64\n",
      "title                         163260 non-null object\n",
      "duplicado                     163260 non-null bool\n",
      "dtypes: bool(1), float64(13), object(14)\n",
      "memory usage: 35.0+ MB\n"
     ]
    }
   ],
   "source": [
    "data.info()"
   ]
  },
  {
   "cell_type": "code",
   "execution_count": 5,
   "metadata": {},
   "outputs": [
    {
     "name": "stdout",
     "output_type": "stream",
     "text": [
      "<class 'pandas.core.frame.DataFrame'>\n",
      "Int64Index: 163260 entries, 0 to 182406\n",
      "Data columns (total 12 columns):\n",
      "created_on                 163260 non-null object\n",
      "description                163260 non-null object\n",
      "expenses                   23131 non-null float64\n",
      "floor                      19585 non-null float64\n",
      "lat                        163260 non-null float64\n",
      "lon                        163260 non-null float64\n",
      "place_with_parent_names    163260 non-null object\n",
      "price_aprox_usd            163260 non-null float64\n",
      "property_type              163260 non-null object\n",
      "rooms                      100416 non-null float64\n",
      "surface_covered_in_m2      145505 non-null float64\n",
      "surface_total_in_m2        121590 non-null float64\n",
      "dtypes: float64(8), object(4)\n",
      "memory usage: 16.2+ MB\n"
     ]
    }
   ],
   "source": [
    "del data['country_name']\n",
    "del data['geonames_id']\n",
    "del data['image_thumbnail']\n",
    "del data['id']\n",
    "del data['lat-lon']\n",
    "del data['operation']\n",
    "del data['place_name']\n",
    "del data['properati_url']\n",
    "del data['state_name']\n",
    "del data['duplicado']\n",
    "del data['title']\n",
    "del data['price']\n",
    "del data['currency']\n",
    "del data['price_per_m2']\n",
    "del data['price_aprox_local_currency']\n",
    "del data['price_usd_per_m2']\n",
    "data.info()"
   ]
  },
  {
   "cell_type": "code",
   "execution_count": 6,
   "metadata": {},
   "outputs": [],
   "source": [
    "data.loc[data.floor > 70, 'floor'] = np.NaN"
   ]
  },
  {
   "cell_type": "code",
   "execution_count": 7,
   "metadata": {},
   "outputs": [],
   "source": [
    "data.loc[data.rooms > 12, 'rooms'] = np.NaN"
   ]
  },
  {
   "cell_type": "code",
   "execution_count": 8,
   "metadata": {},
   "outputs": [],
   "source": [
    "data.loc[data.surface_total_in_m2 < 1, 'surface_total_in_m2'] = np.NaN"
   ]
  },
  {
   "cell_type": "code",
   "execution_count": 9,
   "metadata": {},
   "outputs": [],
   "source": [
    "data.loc[((data.surface_total_in_m2 > 70000) & (data.property_type == \"apartment\")), 'surface_total_in_m2'] = np.NaN"
   ]
  },
  {
   "cell_type": "code",
   "execution_count": 10,
   "metadata": {},
   "outputs": [],
   "source": [
    "data.loc[data.surface_covered_in_m2 < 1, 'surface_covered_in_m2'] = np.NaN"
   ]
  },
  {
   "cell_type": "code",
   "execution_count": 11,
   "metadata": {},
   "outputs": [],
   "source": [
    "data.loc[data.surface_covered_in_m2 > data.surface_total_in_m2, 'surface_covered_in_m2'] = np.NaN"
   ]
  },
  {
   "cell_type": "code",
   "execution_count": 12,
   "metadata": {},
   "outputs": [],
   "source": [
    "data.loc[data.expenses < 150, 'expenses'] = np.NaN"
   ]
  },
  {
   "cell_type": "code",
   "execution_count": 13,
   "metadata": {},
   "outputs": [],
   "source": [
    "data.loc[data.expenses > 150000, 'expenses'] = np.NaN"
   ]
  },
  {
   "cell_type": "code",
   "execution_count": 14,
   "metadata": {},
   "outputs": [],
   "source": [
    "data = data.loc[(data.lat<-34) & (data.lat>-35) & (data.lon>-60) & (data.lon<-57.5)]"
   ]
  },
  {
   "cell_type": "code",
   "execution_count": 15,
   "metadata": {},
   "outputs": [],
   "source": [
    "data = data[data.price_aprox_usd!=0]"
   ]
  },
  {
   "cell_type": "markdown",
   "metadata": {},
   "source": [
    "Esto ultimo es muy importante, eliminar todo registro cuyo precio sea igual a 0, ya que si estuvieran se usarian para predecir y afectaria mucho los resultados."
   ]
  },
  {
   "cell_type": "code",
   "execution_count": 16,
   "metadata": {},
   "outputs": [],
   "source": [
    "data = data.reset_index(drop = True)"
   ]
  },
  {
   "cell_type": "code",
   "execution_count": 17,
   "metadata": {},
   "outputs": [
    {
     "name": "stdout",
     "output_type": "stream",
     "text": [
      "<class 'pandas.core.frame.DataFrame'>\n",
      "RangeIndex: 158352 entries, 0 to 158351\n",
      "Data columns (total 12 columns):\n",
      "created_on                 158352 non-null object\n",
      "description                158352 non-null object\n",
      "expenses                   21572 non-null float64\n",
      "floor                      18702 non-null float64\n",
      "lat                        158352 non-null float64\n",
      "lon                        158352 non-null float64\n",
      "place_with_parent_names    158352 non-null object\n",
      "price_aprox_usd            158352 non-null float64\n",
      "property_type              158352 non-null object\n",
      "rooms                      97155 non-null float64\n",
      "surface_covered_in_m2      139468 non-null float64\n",
      "surface_total_in_m2        112609 non-null float64\n",
      "dtypes: float64(8), object(4)\n",
      "memory usage: 14.5+ MB\n"
     ]
    }
   ],
   "source": [
    "data.info()"
   ]
  },
  {
   "cell_type": "code",
   "execution_count": 18,
   "metadata": {},
   "outputs": [],
   "source": [
    "data.to_csv(\"csvs/datosFiltrados.csv\", index = False)"
   ]
  },
  {
   "cell_type": "markdown",
   "metadata": {},
   "source": [
    "## Reemplazando NaNs\n",
    "Para poder correr algoritmos es necesario tener todos los campos completos en nuestro dataset. Por esto en este notebook nos ocupamos de estimar los campos que no estan para luego poder entrenar nuestros estimadores."
   ]
  },
  {
   "cell_type": "code",
   "execution_count": 113,
   "metadata": {},
   "outputs": [],
   "source": [
    "import pandas as pd\n",
    "import numpy as np"
   ]
  },
  {
   "cell_type": "code",
   "execution_count": 114,
   "metadata": {},
   "outputs": [],
   "source": [
    "data = pd.read_csv('csvs/datosFiltrados.csv', low_memory=False)"
   ]
  },
  {
   "cell_type": "code",
   "execution_count": 115,
   "metadata": {},
   "outputs": [
    {
     "name": "stdout",
     "output_type": "stream",
     "text": [
      "<class 'pandas.core.frame.DataFrame'>\n",
      "RangeIndex: 158352 entries, 0 to 158351\n",
      "Data columns (total 12 columns):\n",
      "created_on                 158352 non-null object\n",
      "description                158352 non-null object\n",
      "expenses                   21572 non-null float64\n",
      "floor                      18702 non-null float64\n",
      "lat                        158352 non-null float64\n",
      "lon                        158352 non-null float64\n",
      "place_with_parent_names    158352 non-null object\n",
      "price_aprox_usd            158352 non-null float64\n",
      "property_type              158352 non-null object\n",
      "rooms                      97155 non-null float64\n",
      "surface_covered_in_m2      139468 non-null float64\n",
      "surface_total_in_m2        112609 non-null float64\n",
      "dtypes: float64(8), object(4)\n",
      "memory usage: 14.5+ MB\n"
     ]
    }
   ],
   "source": [
    "data.info()"
   ]
  },
  {
   "cell_type": "code",
   "execution_count": 116,
   "metadata": {},
   "outputs": [],
   "source": [
    "data.loc[data.expenses.notnull(), 'expenses/price'] = data['expenses']/data['price_aprox_usd']"
   ]
  },
  {
   "cell_type": "code",
   "execution_count": 117,
   "metadata": {},
   "outputs": [],
   "source": [
    "meanHouse = data[data['property_type'] == 'house']['expenses/price'].mean()\n",
    "meanApart = data[data['property_type'] == 'apartment']['expenses/price'].mean()\n",
    "meanPH = data[data['property_type'] == 'PH']['expenses/price'].mean()\n",
    "meanStore = data[data['property_type'] == 'store']['expenses/price'].mean()\n",
    "\n",
    "data.loc[data['property_type'] == \"apartment\",'expenses/price'] = data['expenses/price'].apply(lambda x: meanApart if np.isnan(x) else x)\n",
    "data.loc[data['property_type'] == \"house\",'expenses/price'] = data['expenses/price'].apply(lambda x: meanHouse if np.isnan(x) else x)\n",
    "data.loc[data['property_type'] == \"PH\",'expenses/price'] = data['expenses/price'].apply(lambda x: meanPH if np.isnan(x) else x)\n",
    "data.loc[data['property_type'] == \"store\",'expenses/price'] = data['expenses/price'].apply(lambda x: meanStore if np.isnan(x) else x)\n"
   ]
  },
  {
   "cell_type": "code",
   "execution_count": 118,
   "metadata": {},
   "outputs": [],
   "source": [
    "data.loc[data.expenses.isnull(), 'expenses'] = data['expenses/price']*data['price_aprox_usd']\n",
    "del data['expenses/price']"
   ]
  },
  {
   "cell_type": "code",
   "execution_count": 119,
   "metadata": {},
   "outputs": [],
   "source": [
    "data.loc[data.surface_total_in_m2.notnull(), 'surface/price'] = data['surface_total_in_m2']/data['price_aprox_usd']"
   ]
  },
  {
   "cell_type": "code",
   "execution_count": 120,
   "metadata": {},
   "outputs": [],
   "source": [
    "meanHouse = data[data['property_type'] == 'house']['surface/price'].mean()\n",
    "meanApart = data[data['property_type'] == 'apartment']['surface/price'].mean()\n",
    "meanPH = data[data['property_type'] == 'PH']['surface/price'].mean()\n",
    "meanStore = data[data['property_type'] == 'store']['surface/price'].mean()\n",
    "\n",
    "data.loc[data['property_type'] == \"apartment\",'surface/price'] = data['surface/price'].apply(lambda x: meanApart if np.isnan(x) else x)\n",
    "data.loc[data['property_type'] == \"house\",'surface/price'] = data['surface/price'].apply(lambda x: meanHouse if np.isnan(x) else x)\n",
    "data.loc[data['property_type'] == \"PH\",'surface/price'] = data['surface/price'].apply(lambda x: meanPH if np.isnan(x) else x)\n",
    "data.loc[data['property_type'] == \"store\",'surface/price'] = data['surface/price'].apply(lambda x: meanStore if np.isnan(x) else x)\n"
   ]
  },
  {
   "cell_type": "code",
   "execution_count": 122,
   "metadata": {},
   "outputs": [],
   "source": [
    "data.loc[data.surface_total_in_m2.isnull(), 'surface_total_in_m2'] = data['surface/price']*data['price_aprox_usd']\n",
    "del data['surface/price']"
   ]
  },
  {
   "cell_type": "code",
   "execution_count": 123,
   "metadata": {},
   "outputs": [],
   "source": [
    "data.loc[data.surface_covered_in_m2.notnull(), 'surface/price'] = data['surface_covered_in_m2']*data['price_aprox_usd']/data['surface_total_in_m2']"
   ]
  },
  {
   "cell_type": "code",
   "execution_count": 124,
   "metadata": {},
   "outputs": [],
   "source": [
    "meanHouse = data[data['property_type'] == 'house']['surface/price'].mean()\n",
    "meanApart = data[data['property_type'] == 'apartment']['surface/price'].mean()\n",
    "meanPH = data[data['property_type'] == 'PH']['surface/price'].mean()\n",
    "meanStore = data[data['property_type'] == 'store']['surface/price'].mean()\n",
    "\n",
    "data.loc[data['property_type'] == \"apartment\",'surface/price'] = data['surface/price'].apply(lambda x: meanApart if np.isnan(x) else x)\n",
    "data.loc[data['property_type'] == \"house\",'surface/price'] = data['surface/price'].apply(lambda x: meanHouse if np.isnan(x) else x)\n",
    "data.loc[data['property_type'] == \"PH\",'surface/price'] = data['surface/price'].apply(lambda x: meanPH if np.isnan(x) else x)\n",
    "data.loc[data['property_type'] == \"store\",'surface/price'] = data['surface/price'].apply(lambda x: meanStore if np.isnan(x) else x)\n"
   ]
  },
  {
   "cell_type": "code",
   "execution_count": 125,
   "metadata": {},
   "outputs": [],
   "source": [
    "data.loc[data.surface_covered_in_m2.isnull(),'surface_covered_in_m2'] = data['surface/price']*data['surface_total_in_m2']/data['price_aprox_usd']\n",
    "del data['surface/price']"
   ]
  },
  {
   "cell_type": "code",
   "execution_count": 126,
   "metadata": {},
   "outputs": [],
   "source": [
    "data.loc[data.rooms.notnull(), 'rooms*price'] = data['rooms']*data['price_aprox_usd']"
   ]
  },
  {
   "cell_type": "code",
   "execution_count": 127,
   "metadata": {},
   "outputs": [],
   "source": [
    "meanHouse = data[data['property_type'] == 'house']['rooms*price'].mean()\n",
    "meanApart = data[data['property_type'] == 'apartment']['rooms*price'].mean()\n",
    "meanPH = data[data['property_type'] == 'PH']['rooms*price'].mean()\n",
    "meanStore = data[data['property_type'] == 'store']['rooms*price'].mean()\n",
    "\n",
    "data.loc[data['property_type'] == \"apartment\",'rooms*price'] = data['rooms*price'].apply(lambda x: meanApart if np.isnan(x) else x)\n",
    "data.loc[data['property_type'] == \"house\",'rooms*price'] = data['rooms*price'].apply(lambda x: meanHouse if np.isnan(x) else x)\n",
    "data.loc[data['property_type'] == \"PH\",'rooms*price'] = data['rooms*price'].apply(lambda x: meanPH if np.isnan(x) else x)\n",
    "data.loc[data['property_type'] == \"store\",'rooms*price'] = data['rooms*price'].apply(lambda x: meanStore if np.isnan(x) else x)\n"
   ]
  },
  {
   "cell_type": "code",
   "execution_count": 128,
   "metadata": {},
   "outputs": [],
   "source": [
    "data.loc[data.rooms.isnull(),'rooms'] = data['rooms*price']/data['price_aprox_usd']\n",
    "del data['rooms*price']"
   ]
  },
  {
   "cell_type": "code",
   "execution_count": 129,
   "metadata": {},
   "outputs": [],
   "source": [
    "data['rooms'] = data['rooms'].apply(lambda x: (float)((int)(x)))"
   ]
  },
  {
   "cell_type": "code",
   "execution_count": 130,
   "metadata": {},
   "outputs": [],
   "source": [
    "data.loc[data.floor.notnull(), 'floor*price'] = data['floor']*data['price_aprox_usd']"
   ]
  },
  {
   "cell_type": "code",
   "execution_count": 131,
   "metadata": {},
   "outputs": [],
   "source": [
    "meanHouse = data[data['property_type'] == 'house']['floor*price'].mean()\n",
    "meanApart = data[data['property_type'] == 'apartment']['floor*price'].mean()\n",
    "meanPH = data[data['property_type'] == 'PH']['floor*price'].mean()\n",
    "meanStore = data[data['property_type'] == 'store']['floor*price'].mean()\n",
    "\n",
    "data.loc[data['property_type'] == \"apartment\",'floor*price'] = data['floor*price'].apply(lambda x: meanApart if np.isnan(x) else x)\n",
    "data.loc[data['property_type'] == \"house\",'floor*price'] = data['floor*price'].apply(lambda x: meanHouse if np.isnan(x) else x)\n",
    "data.loc[data['property_type'] == \"PH\",'floor*price'] = data['floor*price'].apply(lambda x: meanPH if np.isnan(x) else x)\n",
    "data.loc[data['property_type'] == \"store\",'floor*price'] = data['floor*price'].apply(lambda x: meanStore if np.isnan(x) else x)\n"
   ]
  },
  {
   "cell_type": "code",
   "execution_count": 132,
   "metadata": {},
   "outputs": [],
   "source": [
    "data.loc[data.floor.isnull(),'floor'] = data['floor*price']/data['price_aprox_usd']\n",
    "del data['floor*price']"
   ]
  },
  {
   "cell_type": "code",
   "execution_count": 133,
   "metadata": {},
   "outputs": [],
   "source": [
    "data['floor'] = data['floor'].apply(lambda x: (float)((int)(x)))"
   ]
  },
  {
   "cell_type": "code",
   "execution_count": 141,
   "metadata": {},
   "outputs": [
    {
     "name": "stdout",
     "output_type": "stream",
     "text": [
      "<class 'pandas.core.frame.DataFrame'>\n",
      "RangeIndex: 158352 entries, 0 to 158351\n",
      "Data columns (total 12 columns):\n",
      "created_on                 158352 non-null object\n",
      "description                158352 non-null object\n",
      "expenses                   158352 non-null float64\n",
      "floor                      158352 non-null float64\n",
      "lat                        158352 non-null float64\n",
      "lon                        158352 non-null float64\n",
      "place_with_parent_names    158352 non-null object\n",
      "price_aprox_usd            158352 non-null float64\n",
      "property_type              158352 non-null object\n",
      "rooms                      158352 non-null float64\n",
      "surface_covered_in_m2      158352 non-null float64\n",
      "surface_total_in_m2        158352 non-null float64\n",
      "dtypes: float64(8), object(4)\n",
      "memory usage: 14.5+ MB\n"
     ]
    }
   ],
   "source": [
    "data.info()"
   ]
  },
  {
   "cell_type": "code",
   "execution_count": 135,
   "metadata": {},
   "outputs": [],
   "source": [
    "data.to_csv(\"csvs/datosSinNan.csv\", index = False)"
   ]
  },
  {
   "cell_type": "markdown",
   "metadata": {},
   "source": [
    "## Agregando distancias\n",
    "Tambien probamos agregar campos como distancia minima a una estacion de subte, metrobus y ferrocarril. Pero empeoraron nuestros resultados asi que dejamos de lado esos campos. "
   ]
  },
  {
   "cell_type": "code",
   "execution_count": 26,
   "metadata": {},
   "outputs": [],
   "source": [
    "import pandas as pd\n",
    "import numpy as np"
   ]
  },
  {
   "cell_type": "code",
   "execution_count": 27,
   "metadata": {},
   "outputs": [],
   "source": [
    "data = pd.read_csv('csvs/datosFiltrados.csv', low_memory=False)"
   ]
  },
  {
   "cell_type": "code",
   "execution_count": 28,
   "metadata": {},
   "outputs": [],
   "source": [
    "subte = pd.read_csv('../Datos Capital/estaciones-de-subte.csv',low_memory=False)"
   ]
  },
  {
   "cell_type": "code",
   "execution_count": 29,
   "metadata": {},
   "outputs": [],
   "source": [
    "metrobus = pd.read_csv('../Datos Capital/estaciones-de-metrobus.csv',low_memory=False)"
   ]
  },
  {
   "cell_type": "code",
   "execution_count": 30,
   "metadata": {},
   "outputs": [],
   "source": [
    "tren = pd.read_csv('../Datos Capital/estaciones-de-ferrocarril.csv',low_memory=False)"
   ]
  },
  {
   "cell_type": "code",
   "execution_count": 31,
   "metadata": {},
   "outputs": [],
   "source": [
    "for i in range(len(data.index)):\n",
    "    data.loc[i,'dist_subte'] = 99999999999\n",
    "    for j in range(len(subte.index)):\n",
    "            aux = abs(data.loc[i,'lat'] - subte.loc[j,'lat']) + abs(data.loc[i,'lon'] - subte.loc[j,'lon'])\n",
    "            if aux < data.loc[i,'dist_subte']:\n",
    "                data.loc[i,'dist_subte'] = aux\n",
    "    data.loc[i,'dist_tren'] = 99999999999\n",
    "    for j in range(len(tren.index)):\n",
    "            aux = abs(data.loc[i,'lat'] - tren.loc[j,'lat']) + abs(data.loc[i,'lon'] - tren.loc[j,'lon'])\n",
    "            if aux < data.loc[i,'dist_tren']:\n",
    "                data.loc[i,'dist_tren'] = aux\n",
    "    data.loc[i,'dist_metrobus'] = 99999999999\n",
    "    for j in range(len(metrobus.index)):\n",
    "            aux = abs(data.loc[i,'lat'] - metrobus.loc[j,'lat']) + abs(data.loc[i,'lon'] - metrobus.loc[j,'lon'])\n",
    "            if aux < data.loc[i,'dist_metrobus']:\n",
    "                data.loc[i,'dist_metrobus'] = aux"
   ]
  },
  {
   "cell_type": "code",
   "execution_count": 33,
   "metadata": {},
   "outputs": [],
   "source": [
    "data.to_csv(\"csvs/datosAgregados.csv\", index = False)"
   ]
  },
  {
   "cell_type": "markdown",
   "metadata": {},
   "source": [
    "## Arreglando el set de pruebas\n",
    "En este notebook nos ocupamos de completar todos los campos nulos del set de pruebas."
   ]
  },
  {
   "cell_type": "code",
   "execution_count": 268,
   "metadata": {},
   "outputs": [],
   "source": [
    "import pandas as pd\n",
    "import numpy as np\n",
    "import matplotlib.pyplot as plt\n",
    "%matplotlib inline\n",
    "from sklearn.neighbors import KNeighborsRegressor"
   ]
  },
  {
   "cell_type": "code",
   "execution_count": 270,
   "metadata": {},
   "outputs": [],
   "source": [
    "datatest = pd.read_csv('csvs/properati_dataset_testing_noprice.csv', low_memory=False)"
   ]
  },
  {
   "cell_type": "code",
   "execution_count": 271,
   "metadata": {},
   "outputs": [
    {
     "name": "stdout",
     "output_type": "stream",
     "text": [
      "<class 'pandas.core.frame.DataFrame'>\n",
      "RangeIndex: 14166 entries, 0 to 14165\n",
      "Data columns (total 17 columns):\n",
      "id                         14166 non-null int64\n",
      "created_on                 14166 non-null object\n",
      "property_type              14166 non-null object\n",
      "operation                  14166 non-null object\n",
      "place_name                 14166 non-null object\n",
      "place_with_parent_names    14166 non-null object\n",
      "country_name               14166 non-null object\n",
      "state_name                 14166 non-null object\n",
      "lat-lon                    10487 non-null object\n",
      "lat                        10487 non-null float64\n",
      "lon                        10487 non-null float64\n",
      "surface_total_in_m2        11853 non-null float64\n",
      "surface_covered_in_m2      13005 non-null float64\n",
      "floor                      1368 non-null float64\n",
      "rooms                      7500 non-null float64\n",
      "expenses                   2543 non-null object\n",
      "description                14166 non-null object\n",
      "dtypes: float64(6), int64(1), object(10)\n",
      "memory usage: 1.8+ MB\n"
     ]
    }
   ],
   "source": [
    "datatest.info()"
   ]
  },
  {
   "cell_type": "code",
   "execution_count": 272,
   "metadata": {},
   "outputs": [],
   "source": [
    "meanLat = datatest[['place_name','lat']].groupby('place_name').agg(np.mean)\n",
    "meanLon = datatest[['place_name','lon']].groupby('place_name').agg(np.mean)\n"
   ]
  },
  {
   "cell_type": "code",
   "execution_count": 273,
   "metadata": {},
   "outputs": [],
   "source": [
    "for place in meanLon.index:\n",
    "    datatest.loc[((datatest.lon.isnull()) & (datatest.place_name == place)), 'lon'] = meanLon.loc[place]['lon']\n",
    "    datatest.loc[((datatest.lat.isnull()) & (datatest.place_name == place)), 'lat'] = meanLat.loc[place]['lat']"
   ]
  },
  {
   "cell_type": "markdown",
   "metadata": {},
   "source": [
    "Para los campos que no tienen ubicacion geografica, nos fijamos en que barrio estaban y le asignamos una ubicacion que sea coherente con el barrio en que estan."
   ]
  },
  {
   "cell_type": "code",
   "execution_count": 274,
   "metadata": {},
   "outputs": [
    {
     "data": {
      "text/html": [
       "<div>\n",
       "<style>\n",
       "    .dataframe thead tr:only-child th {\n",
       "        text-align: right;\n",
       "    }\n",
       "\n",
       "    .dataframe thead th {\n",
       "        text-align: left;\n",
       "    }\n",
       "\n",
       "    .dataframe tbody tr th {\n",
       "        vertical-align: top;\n",
       "    }\n",
       "</style>\n",
       "<table border=\"1\" class=\"dataframe\">\n",
       "  <thead>\n",
       "    <tr style=\"text-align: right;\">\n",
       "      <th></th>\n",
       "      <th>id</th>\n",
       "      <th>created_on</th>\n",
       "      <th>property_type</th>\n",
       "      <th>operation</th>\n",
       "      <th>place_with_parent_names</th>\n",
       "      <th>country_name</th>\n",
       "      <th>state_name</th>\n",
       "      <th>lat-lon</th>\n",
       "      <th>lat</th>\n",
       "      <th>lon</th>\n",
       "      <th>surface_total_in_m2</th>\n",
       "      <th>surface_covered_in_m2</th>\n",
       "      <th>floor</th>\n",
       "      <th>rooms</th>\n",
       "      <th>expenses</th>\n",
       "      <th>description</th>\n",
       "    </tr>\n",
       "    <tr>\n",
       "      <th>place_name</th>\n",
       "      <th></th>\n",
       "      <th></th>\n",
       "      <th></th>\n",
       "      <th></th>\n",
       "      <th></th>\n",
       "      <th></th>\n",
       "      <th></th>\n",
       "      <th></th>\n",
       "      <th></th>\n",
       "      <th></th>\n",
       "      <th></th>\n",
       "      <th></th>\n",
       "      <th></th>\n",
       "      <th></th>\n",
       "      <th></th>\n",
       "      <th></th>\n",
       "    </tr>\n",
       "  </thead>\n",
       "  <tbody>\n",
       "    <tr>\n",
       "      <th>Abril Club de Campo</th>\n",
       "      <td>1</td>\n",
       "      <td>1</td>\n",
       "      <td>1</td>\n",
       "      <td>1</td>\n",
       "      <td>1</td>\n",
       "      <td>1</td>\n",
       "      <td>1</td>\n",
       "      <td>1</td>\n",
       "      <td>1.0</td>\n",
       "      <td>1.0</td>\n",
       "      <td>1.0</td>\n",
       "      <td>1.0</td>\n",
       "      <td>1.0</td>\n",
       "      <td>1.0</td>\n",
       "      <td>1</td>\n",
       "      <td>1</td>\n",
       "    </tr>\n",
       "    <tr>\n",
       "      <th>Altos de Hudson I</th>\n",
       "      <td>1</td>\n",
       "      <td>1</td>\n",
       "      <td>1</td>\n",
       "      <td>1</td>\n",
       "      <td>1</td>\n",
       "      <td>1</td>\n",
       "      <td>1</td>\n",
       "      <td>1</td>\n",
       "      <td>1.0</td>\n",
       "      <td>1.0</td>\n",
       "      <td>1.0</td>\n",
       "      <td>1.0</td>\n",
       "      <td>1.0</td>\n",
       "      <td>1.0</td>\n",
       "      <td>1</td>\n",
       "      <td>1</td>\n",
       "    </tr>\n",
       "    <tr>\n",
       "      <th>Bs.As. G.B.A. Zona Oeste</th>\n",
       "      <td>13</td>\n",
       "      <td>13</td>\n",
       "      <td>13</td>\n",
       "      <td>13</td>\n",
       "      <td>13</td>\n",
       "      <td>13</td>\n",
       "      <td>13</td>\n",
       "      <td>13</td>\n",
       "      <td>13.0</td>\n",
       "      <td>13.0</td>\n",
       "      <td>13.0</td>\n",
       "      <td>13.0</td>\n",
       "      <td>13.0</td>\n",
       "      <td>13.0</td>\n",
       "      <td>13</td>\n",
       "      <td>13</td>\n",
       "    </tr>\n",
       "    <tr>\n",
       "      <th>Buenos Aires Interior</th>\n",
       "      <td>1</td>\n",
       "      <td>1</td>\n",
       "      <td>1</td>\n",
       "      <td>1</td>\n",
       "      <td>1</td>\n",
       "      <td>1</td>\n",
       "      <td>1</td>\n",
       "      <td>1</td>\n",
       "      <td>1.0</td>\n",
       "      <td>1.0</td>\n",
       "      <td>1.0</td>\n",
       "      <td>1.0</td>\n",
       "      <td>1.0</td>\n",
       "      <td>1.0</td>\n",
       "      <td>1</td>\n",
       "      <td>1</td>\n",
       "    </tr>\n",
       "    <tr>\n",
       "      <th>El Rocío</th>\n",
       "      <td>1</td>\n",
       "      <td>1</td>\n",
       "      <td>1</td>\n",
       "      <td>1</td>\n",
       "      <td>1</td>\n",
       "      <td>1</td>\n",
       "      <td>1</td>\n",
       "      <td>1</td>\n",
       "      <td>1.0</td>\n",
       "      <td>1.0</td>\n",
       "      <td>1.0</td>\n",
       "      <td>1.0</td>\n",
       "      <td>1.0</td>\n",
       "      <td>1.0</td>\n",
       "      <td>1</td>\n",
       "      <td>1</td>\n",
       "    </tr>\n",
       "    <tr>\n",
       "      <th>González Catán</th>\n",
       "      <td>1</td>\n",
       "      <td>1</td>\n",
       "      <td>1</td>\n",
       "      <td>1</td>\n",
       "      <td>1</td>\n",
       "      <td>1</td>\n",
       "      <td>1</td>\n",
       "      <td>1</td>\n",
       "      <td>1.0</td>\n",
       "      <td>1.0</td>\n",
       "      <td>1.0</td>\n",
       "      <td>1.0</td>\n",
       "      <td>1.0</td>\n",
       "      <td>1.0</td>\n",
       "      <td>1</td>\n",
       "      <td>1</td>\n",
       "    </tr>\n",
       "    <tr>\n",
       "      <th>Gregorio de Laferrere</th>\n",
       "      <td>5</td>\n",
       "      <td>5</td>\n",
       "      <td>5</td>\n",
       "      <td>5</td>\n",
       "      <td>5</td>\n",
       "      <td>5</td>\n",
       "      <td>5</td>\n",
       "      <td>5</td>\n",
       "      <td>5.0</td>\n",
       "      <td>5.0</td>\n",
       "      <td>5.0</td>\n",
       "      <td>5.0</td>\n",
       "      <td>5.0</td>\n",
       "      <td>5.0</td>\n",
       "      <td>5</td>\n",
       "      <td>5</td>\n",
       "    </tr>\n",
       "    <tr>\n",
       "      <th>Haras San Pablo</th>\n",
       "      <td>2</td>\n",
       "      <td>2</td>\n",
       "      <td>2</td>\n",
       "      <td>2</td>\n",
       "      <td>2</td>\n",
       "      <td>2</td>\n",
       "      <td>2</td>\n",
       "      <td>2</td>\n",
       "      <td>2.0</td>\n",
       "      <td>2.0</td>\n",
       "      <td>2.0</td>\n",
       "      <td>2.0</td>\n",
       "      <td>2.0</td>\n",
       "      <td>2.0</td>\n",
       "      <td>2</td>\n",
       "      <td>2</td>\n",
       "    </tr>\n",
       "    <tr>\n",
       "      <th>La horqueta de Echeverría</th>\n",
       "      <td>3</td>\n",
       "      <td>3</td>\n",
       "      <td>3</td>\n",
       "      <td>3</td>\n",
       "      <td>3</td>\n",
       "      <td>3</td>\n",
       "      <td>3</td>\n",
       "      <td>3</td>\n",
       "      <td>3.0</td>\n",
       "      <td>3.0</td>\n",
       "      <td>3.0</td>\n",
       "      <td>3.0</td>\n",
       "      <td>3.0</td>\n",
       "      <td>3.0</td>\n",
       "      <td>3</td>\n",
       "      <td>3</td>\n",
       "    </tr>\n",
       "    <tr>\n",
       "      <th>Malvinas Argentinas</th>\n",
       "      <td>1</td>\n",
       "      <td>1</td>\n",
       "      <td>1</td>\n",
       "      <td>1</td>\n",
       "      <td>1</td>\n",
       "      <td>1</td>\n",
       "      <td>1</td>\n",
       "      <td>1</td>\n",
       "      <td>1.0</td>\n",
       "      <td>1.0</td>\n",
       "      <td>1.0</td>\n",
       "      <td>1.0</td>\n",
       "      <td>1.0</td>\n",
       "      <td>1.0</td>\n",
       "      <td>1</td>\n",
       "      <td>1</td>\n",
       "    </tr>\n",
       "    <tr>\n",
       "      <th>Prados del Oeste</th>\n",
       "      <td>1</td>\n",
       "      <td>1</td>\n",
       "      <td>1</td>\n",
       "      <td>1</td>\n",
       "      <td>1</td>\n",
       "      <td>1</td>\n",
       "      <td>1</td>\n",
       "      <td>1</td>\n",
       "      <td>1.0</td>\n",
       "      <td>1.0</td>\n",
       "      <td>1.0</td>\n",
       "      <td>1.0</td>\n",
       "      <td>1.0</td>\n",
       "      <td>1.0</td>\n",
       "      <td>1</td>\n",
       "      <td>1</td>\n",
       "    </tr>\n",
       "    <tr>\n",
       "      <th>Solar del Bosque</th>\n",
       "      <td>2</td>\n",
       "      <td>2</td>\n",
       "      <td>2</td>\n",
       "      <td>2</td>\n",
       "      <td>2</td>\n",
       "      <td>2</td>\n",
       "      <td>2</td>\n",
       "      <td>2</td>\n",
       "      <td>2.0</td>\n",
       "      <td>2.0</td>\n",
       "      <td>2.0</td>\n",
       "      <td>2.0</td>\n",
       "      <td>2.0</td>\n",
       "      <td>2.0</td>\n",
       "      <td>2</td>\n",
       "      <td>2</td>\n",
       "    </tr>\n",
       "    <tr>\n",
       "      <th>Sourigues</th>\n",
       "      <td>1</td>\n",
       "      <td>1</td>\n",
       "      <td>1</td>\n",
       "      <td>1</td>\n",
       "      <td>1</td>\n",
       "      <td>1</td>\n",
       "      <td>1</td>\n",
       "      <td>1</td>\n",
       "      <td>1.0</td>\n",
       "      <td>1.0</td>\n",
       "      <td>1.0</td>\n",
       "      <td>1.0</td>\n",
       "      <td>1.0</td>\n",
       "      <td>1.0</td>\n",
       "      <td>1</td>\n",
       "      <td>1</td>\n",
       "    </tr>\n",
       "    <tr>\n",
       "      <th>Terralagos</th>\n",
       "      <td>3</td>\n",
       "      <td>3</td>\n",
       "      <td>3</td>\n",
       "      <td>3</td>\n",
       "      <td>3</td>\n",
       "      <td>3</td>\n",
       "      <td>3</td>\n",
       "      <td>3</td>\n",
       "      <td>3.0</td>\n",
       "      <td>3.0</td>\n",
       "      <td>3.0</td>\n",
       "      <td>3.0</td>\n",
       "      <td>3.0</td>\n",
       "      <td>3.0</td>\n",
       "      <td>3</td>\n",
       "      <td>3</td>\n",
       "    </tr>\n",
       "    <tr>\n",
       "      <th>Villa Celina</th>\n",
       "      <td>7</td>\n",
       "      <td>7</td>\n",
       "      <td>7</td>\n",
       "      <td>7</td>\n",
       "      <td>7</td>\n",
       "      <td>7</td>\n",
       "      <td>7</td>\n",
       "      <td>7</td>\n",
       "      <td>7.0</td>\n",
       "      <td>7.0</td>\n",
       "      <td>7.0</td>\n",
       "      <td>7.0</td>\n",
       "      <td>7.0</td>\n",
       "      <td>7.0</td>\n",
       "      <td>7</td>\n",
       "      <td>7</td>\n",
       "    </tr>\n",
       "  </tbody>\n",
       "</table>\n",
       "</div>"
      ],
      "text/plain": [
       "                           id  created_on  property_type  operation  \\\n",
       "place_name                                                            \n",
       "Abril Club de Campo         1           1              1          1   \n",
       "Altos de Hudson I           1           1              1          1   \n",
       "Bs.As. G.B.A. Zona Oeste   13          13             13         13   \n",
       "Buenos Aires Interior       1           1              1          1   \n",
       "El Rocío                    1           1              1          1   \n",
       "González Catán              1           1              1          1   \n",
       "Gregorio de Laferrere       5           5              5          5   \n",
       "Haras San Pablo             2           2              2          2   \n",
       "La horqueta de Echeverría   3           3              3          3   \n",
       "Malvinas Argentinas         1           1              1          1   \n",
       "Prados del Oeste            1           1              1          1   \n",
       "Solar del Bosque            2           2              2          2   \n",
       "Sourigues                   1           1              1          1   \n",
       "Terralagos                  3           3              3          3   \n",
       "Villa Celina                7           7              7          7   \n",
       "\n",
       "                           place_with_parent_names  country_name  state_name  \\\n",
       "place_name                                                                     \n",
       "Abril Club de Campo                              1             1           1   \n",
       "Altos de Hudson I                                1             1           1   \n",
       "Bs.As. G.B.A. Zona Oeste                        13            13          13   \n",
       "Buenos Aires Interior                            1             1           1   \n",
       "El Rocío                                         1             1           1   \n",
       "González Catán                                   1             1           1   \n",
       "Gregorio de Laferrere                            5             5           5   \n",
       "Haras San Pablo                                  2             2           2   \n",
       "La horqueta de Echeverría                        3             3           3   \n",
       "Malvinas Argentinas                              1             1           1   \n",
       "Prados del Oeste                                 1             1           1   \n",
       "Solar del Bosque                                 2             2           2   \n",
       "Sourigues                                        1             1           1   \n",
       "Terralagos                                       3             3           3   \n",
       "Villa Celina                                     7             7           7   \n",
       "\n",
       "                           lat-lon   lat   lon  surface_total_in_m2  \\\n",
       "place_name                                                            \n",
       "Abril Club de Campo              1   1.0   1.0                  1.0   \n",
       "Altos de Hudson I                1   1.0   1.0                  1.0   \n",
       "Bs.As. G.B.A. Zona Oeste        13  13.0  13.0                 13.0   \n",
       "Buenos Aires Interior            1   1.0   1.0                  1.0   \n",
       "El Rocío                         1   1.0   1.0                  1.0   \n",
       "González Catán                   1   1.0   1.0                  1.0   \n",
       "Gregorio de Laferrere            5   5.0   5.0                  5.0   \n",
       "Haras San Pablo                  2   2.0   2.0                  2.0   \n",
       "La horqueta de Echeverría        3   3.0   3.0                  3.0   \n",
       "Malvinas Argentinas              1   1.0   1.0                  1.0   \n",
       "Prados del Oeste                 1   1.0   1.0                  1.0   \n",
       "Solar del Bosque                 2   2.0   2.0                  2.0   \n",
       "Sourigues                        1   1.0   1.0                  1.0   \n",
       "Terralagos                       3   3.0   3.0                  3.0   \n",
       "Villa Celina                     7   7.0   7.0                  7.0   \n",
       "\n",
       "                           surface_covered_in_m2  floor  rooms  expenses  \\\n",
       "place_name                                                                 \n",
       "Abril Club de Campo                          1.0    1.0    1.0         1   \n",
       "Altos de Hudson I                            1.0    1.0    1.0         1   \n",
       "Bs.As. G.B.A. Zona Oeste                    13.0   13.0   13.0        13   \n",
       "Buenos Aires Interior                        1.0    1.0    1.0         1   \n",
       "El Rocío                                     1.0    1.0    1.0         1   \n",
       "González Catán                               1.0    1.0    1.0         1   \n",
       "Gregorio de Laferrere                        5.0    5.0    5.0         5   \n",
       "Haras San Pablo                              2.0    2.0    2.0         2   \n",
       "La horqueta de Echeverría                    3.0    3.0    3.0         3   \n",
       "Malvinas Argentinas                          1.0    1.0    1.0         1   \n",
       "Prados del Oeste                             1.0    1.0    1.0         1   \n",
       "Solar del Bosque                             2.0    2.0    2.0         2   \n",
       "Sourigues                                    1.0    1.0    1.0         1   \n",
       "Terralagos                                   3.0    3.0    3.0         3   \n",
       "Villa Celina                                 7.0    7.0    7.0         7   \n",
       "\n",
       "                           description  \n",
       "place_name                              \n",
       "Abril Club de Campo                  1  \n",
       "Altos de Hudson I                    1  \n",
       "Bs.As. G.B.A. Zona Oeste            13  \n",
       "Buenos Aires Interior                1  \n",
       "El Rocío                             1  \n",
       "González Catán                       1  \n",
       "Gregorio de Laferrere                5  \n",
       "Haras San Pablo                      2  \n",
       "La horqueta de Echeverría            3  \n",
       "Malvinas Argentinas                  1  \n",
       "Prados del Oeste                     1  \n",
       "Solar del Bosque                     2  \n",
       "Sourigues                            1  \n",
       "Terralagos                           3  \n",
       "Villa Celina                         7  "
      ]
     },
     "execution_count": 274,
     "metadata": {},
     "output_type": "execute_result"
    }
   ],
   "source": [
    "noLatLon = datatest[datatest.lat.isnull()].groupby('place_name').agg(np.size)\n",
    "noLatLon"
   ]
  },
  {
   "cell_type": "code",
   "execution_count": 275,
   "metadata": {},
   "outputs": [],
   "source": [
    "datatest.loc[datatest.place_name == 'Abril Club de Campo', 'lat'] = -34.802221\n",
    "datatest.loc[datatest.place_name == 'Abril Club de Campo', 'lon'] = -58.164291"
   ]
  },
  {
   "cell_type": "code",
   "execution_count": 276,
   "metadata": {},
   "outputs": [],
   "source": [
    "datatest.loc[datatest.place_name == 'Bs.As. G.B.A. Zona Oeste', 'lat'] = datatest.loc[datatest.state_name == 'Bs.As. G.B.A. Zona Oeste', 'lat'].mean()\n",
    "datatest.loc[datatest.place_name == 'Bs.As. G.B.A. Zona Oeste', 'lon'] = datatest.loc[datatest.state_name == 'Bs.As. G.B.A. Zona Oeste', 'lon'].mean()"
   ]
  },
  {
   "cell_type": "code",
   "execution_count": 277,
   "metadata": {},
   "outputs": [],
   "source": [
    "datatest.loc[datatest.place_name == 'El Rocío', 'lat'] = -34.867969\n",
    "datatest.loc[datatest.place_name == 'El Rocío', 'lon'] = -58.488543"
   ]
  },
  {
   "cell_type": "code",
   "execution_count": 278,
   "metadata": {},
   "outputs": [],
   "source": [
    "datatest.loc[datatest.place_name == \"Buenos Aires Interior\",'lat'] = -34.708663\n",
    "datatest.loc[datatest.place_name == \"Buenos Aires Interior\",'lon'] = -58.973401"
   ]
  },
  {
   "cell_type": "code",
   "execution_count": 279,
   "metadata": {},
   "outputs": [],
   "source": [
    "datatest.loc[datatest.place_name == \"Altos de Hudson I\",'lat'] = -34.862623\n",
    "datatest.loc[datatest.place_name == \"Altos de Hudson I\",'lon'] = -58.168622"
   ]
  },
  {
   "cell_type": "code",
   "execution_count": 280,
   "metadata": {},
   "outputs": [],
   "source": [
    "datatest.loc[datatest.place_name == \"González Catán\",'lat'] = -34.769133\n",
    "datatest.loc[datatest.place_name == \"González Catán\",'lon'] = -58.628477"
   ]
  },
  {
   "cell_type": "code",
   "execution_count": 281,
   "metadata": {},
   "outputs": [],
   "source": [
    "datatest.loc[datatest.place_name == \"Gregorio de Laferrere\",'lat'] = -34.743953\n",
    "datatest.loc[datatest.place_name == \"Gregorio de Laferrere\",'lon'] = -58.592342"
   ]
  },
  {
   "cell_type": "code",
   "execution_count": 282,
   "metadata": {},
   "outputs": [],
   "source": [
    "datatest.loc[datatest.place_name == \"Haras San Pablo\",'lat'] = -34.606195\n",
    "datatest.loc[datatest.place_name == \"Haras San Pablo\",'lon'] = -59.038684"
   ]
  },
  {
   "cell_type": "code",
   "execution_count": 283,
   "metadata": {},
   "outputs": [],
   "source": [
    "datatest.loc[datatest.place_name == \"La horqueta de Echeverría\",'lat'] = -34.897656\n",
    "datatest.loc[datatest.place_name == \"La horqueta de Echeverría\",'lon'] = -58.484175"
   ]
  },
  {
   "cell_type": "code",
   "execution_count": 284,
   "metadata": {},
   "outputs": [],
   "source": [
    "datatest.loc[datatest.place_name == \"Malvinas Argentinas\",'lat'] = -34.482412\n",
    "datatest.loc[datatest.place_name == \"Malvinas Argentinas\",'lon'] = -58.717893"
   ]
  },
  {
   "cell_type": "code",
   "execution_count": 285,
   "metadata": {},
   "outputs": [],
   "source": [
    "datatest.loc[datatest.place_name == \"Prados del Oeste\",'lat'] = -34.594077\n",
    "datatest.loc[datatest.place_name == \"Prados del Oeste\",'lon'] = -58.829508"
   ]
  },
  {
   "cell_type": "code",
   "execution_count": 286,
   "metadata": {},
   "outputs": [],
   "source": [
    "datatest.loc[datatest.place_name == \"Solar del Bosque\",'lat'] = -34.905555\n",
    "datatest.loc[datatest.place_name == \"Solar del Bosque\",'lon'] = -58.507635"
   ]
  },
  {
   "cell_type": "code",
   "execution_count": 287,
   "metadata": {},
   "outputs": [],
   "source": [
    "datatest.loc[datatest.place_name == \"Sourigues\",'lat'] = -34.800140\n",
    "datatest.loc[datatest.place_name == \"Sourigues\",'lon'] = -58.220011"
   ]
  },
  {
   "cell_type": "code",
   "execution_count": 288,
   "metadata": {},
   "outputs": [],
   "source": [
    "datatest.loc[datatest.place_name == \"Terralagos\",'lat'] = -34.907001\n",
    "datatest.loc[datatest.place_name == \"Terralagos\",'lon'] = -58.514885"
   ]
  },
  {
   "cell_type": "code",
   "execution_count": 289,
   "metadata": {},
   "outputs": [],
   "source": [
    "datatest.loc[datatest.place_name == \"Villa Celina\",'lat'] = -34.706311\n",
    "datatest.loc[datatest.place_name == \"Villa Celina\",'lon'] = -58.483025"
   ]
  },
  {
   "cell_type": "code",
   "execution_count": 290,
   "metadata": {},
   "outputs": [],
   "source": [
    "del datatest['lat-lon']"
   ]
  },
  {
   "cell_type": "code",
   "execution_count": 291,
   "metadata": {},
   "outputs": [
    {
     "name": "stdout",
     "output_type": "stream",
     "text": [
      "<class 'pandas.core.frame.DataFrame'>\n",
      "RangeIndex: 14166 entries, 0 to 14165\n",
      "Data columns (total 16 columns):\n",
      "id                         14166 non-null int64\n",
      "created_on                 14166 non-null object\n",
      "property_type              14166 non-null object\n",
      "operation                  14166 non-null object\n",
      "place_name                 14166 non-null object\n",
      "place_with_parent_names    14166 non-null object\n",
      "country_name               14166 non-null object\n",
      "state_name                 14166 non-null object\n",
      "lat                        14166 non-null float64\n",
      "lon                        14166 non-null float64\n",
      "surface_total_in_m2        11853 non-null float64\n",
      "surface_covered_in_m2      13005 non-null float64\n",
      "floor                      1368 non-null float64\n",
      "rooms                      7500 non-null float64\n",
      "expenses                   2543 non-null object\n",
      "description                14166 non-null object\n",
      "dtypes: float64(6), int64(1), object(9)\n",
      "memory usage: 1.7+ MB\n"
     ]
    }
   ],
   "source": [
    "datatest.info()\n"
   ]
  },
  {
   "cell_type": "code",
   "execution_count": 292,
   "metadata": {},
   "outputs": [],
   "source": [
    "def property_type_to_num(x):\n",
    "    if x == \"departamento\":\n",
    "        return 0\n",
    "    if x == \"casa\":\n",
    "        return 1\n",
    "    return 2"
   ]
  },
  {
   "cell_type": "code",
   "execution_count": 293,
   "metadata": {},
   "outputs": [],
   "source": [
    "datatest['property_type'] = datatest['property_type'].apply(lambda x: property_type_to_num(x))"
   ]
  },
  {
   "cell_type": "code",
   "execution_count": 294,
   "metadata": {},
   "outputs": [],
   "source": [
    "datatest.loc[datatest.surface_covered_in_m2 > datatest.surface_total_in_m2,'aux'] = \\\n",
    "datatest.loc[datatest.surface_covered_in_m2 > datatest.surface_total_in_m2, 'surface_covered_in_m2']\n",
    "\n",
    "datatest.loc[datatest.surface_covered_in_m2 > datatest.surface_total_in_m2, 'surface_covered_in_m2'] = \\\n",
    "datatest.loc[datatest.surface_covered_in_m2 > datatest.surface_total_in_m2, 'surface_total_in_m2']\n",
    "\n",
    "datatest.loc[datatest.aux > datatest.surface_total_in_m2, 'surface_total_in_m2'] = \\\n",
    "datatest.loc[datatest.aux > datatest.surface_total_in_m2, 'aux']"
   ]
  },
  {
   "cell_type": "code",
   "execution_count": 295,
   "metadata": {},
   "outputs": [],
   "source": [
    "del datatest['aux']"
   ]
  },
  {
   "cell_type": "code",
   "execution_count": 296,
   "metadata": {},
   "outputs": [],
   "source": [
    "datatest.loc[datatest.surface_total_in_m2 == 0, 'surface_total_in_m2'] = np.NaN"
   ]
  },
  {
   "cell_type": "markdown",
   "metadata": {},
   "source": [
    "Para el set de pruebas nos ayudamos de knn para predecir los campos nulos."
   ]
  },
  {
   "cell_type": "code",
   "execution_count": 297,
   "metadata": {},
   "outputs": [],
   "source": [
    "from sklearn.neighbors import KNeighborsRegressor\n",
    "\n",
    "knn = KNeighborsRegressor(n_neighbors = 3, p = 1, weights = 'distance')"
   ]
  },
  {
   "cell_type": "code",
   "execution_count": 298,
   "metadata": {},
   "outputs": [],
   "source": [
    "cond = ((datatest.surface_covered_in_m2.isnull()) & (datatest.surface_total_in_m2.isnull()))\n",
    "rest = datatest[cond == False]\n",
    "train = rest[rest.surface_covered_in_m2.notnull()]\n",
    "rest = rest[rest.surface_covered_in_m2.isnull()]\n",
    "test = datatest[cond]"
   ]
  },
  {
   "cell_type": "code",
   "execution_count": 299,
   "metadata": {},
   "outputs": [
    {
     "data": {
      "text/plain": [
       "KNeighborsRegressor(algorithm='auto', leaf_size=30, metric='minkowski',\n",
       "          metric_params=None, n_jobs=1, n_neighbors=3, p=1,\n",
       "          weights='distance')"
      ]
     },
     "execution_count": 299,
     "metadata": {},
     "output_type": "execute_result"
    }
   ],
   "source": [
    "knn.fit(train[['property_type', 'lat', 'lon']], train['surface_covered_in_m2'])"
   ]
  },
  {
   "cell_type": "code",
   "execution_count": 300,
   "metadata": {},
   "outputs": [],
   "source": [
    "predictions = knn.predict(test[['property_type', 'lat', 'lon']])"
   ]
  },
  {
   "cell_type": "code",
   "execution_count": 301,
   "metadata": {},
   "outputs": [],
   "source": [
    "test= test.reset_index(drop = True)\n",
    "test.surface_covered_in_m2 = pd.Series(predictions)"
   ]
  },
  {
   "cell_type": "code",
   "execution_count": 302,
   "metadata": {},
   "outputs": [],
   "source": [
    "datatest = pd.concat([train, test, rest])"
   ]
  },
  {
   "cell_type": "code",
   "execution_count": 303,
   "metadata": {},
   "outputs": [],
   "source": [
    "datatest = datatest.reset_index(drop = True)"
   ]
  },
  {
   "cell_type": "code",
   "execution_count": 304,
   "metadata": {},
   "outputs": [],
   "source": [
    "datatest['covered/total'] = datatest['surface_covered_in_m2']/datatest['surface_total_in_m2']"
   ]
  },
  {
   "cell_type": "code",
   "execution_count": 305,
   "metadata": {},
   "outputs": [],
   "source": [
    "rest = datatest[datatest.surface_total_in_m2.isnull()]\n",
    "train = datatest[datatest.surface_total_in_m2.notnull()]\n",
    "test = train[train['covered/total'].isnull()]\n",
    "train = train[train['covered/total'].notnull()]"
   ]
  },
  {
   "cell_type": "code",
   "execution_count": 306,
   "metadata": {},
   "outputs": [
    {
     "data": {
      "text/plain": [
       "KNeighborsRegressor(algorithm='auto', leaf_size=30, metric='minkowski',\n",
       "          metric_params=None, n_jobs=1, n_neighbors=3, p=1,\n",
       "          weights='distance')"
      ]
     },
     "execution_count": 306,
     "metadata": {},
     "output_type": "execute_result"
    }
   ],
   "source": [
    "knn.fit(train[['property_type', 'lat', 'lon','surface_total_in_m2']], train['covered/total'])"
   ]
  },
  {
   "cell_type": "code",
   "execution_count": 307,
   "metadata": {},
   "outputs": [],
   "source": [
    "predictions = knn.predict(test[['property_type', 'lat', 'lon','surface_total_in_m2']])"
   ]
  },
  {
   "cell_type": "code",
   "execution_count": 308,
   "metadata": {},
   "outputs": [],
   "source": [
    "test= test.reset_index(drop = True)\n",
    "test['covered/total'] = pd.Series(predictions)\n",
    "datatest = pd.concat([train, test, rest])\n",
    "datatest = datatest.reset_index(drop = True)\n",
    "datatest.loc[datatest['surface_covered_in_m2'].isnull(),'surface_covered_in_m2'] = datatest['surface_total_in_m2']*datatest['covered/total']"
   ]
  },
  {
   "cell_type": "code",
   "execution_count": 309,
   "metadata": {},
   "outputs": [],
   "source": [
    "del datatest['covered/total']\n",
    "datatest['covered/total'] = datatest['surface_covered_in_m2']/datatest['surface_total_in_m2']"
   ]
  },
  {
   "cell_type": "code",
   "execution_count": 310,
   "metadata": {},
   "outputs": [],
   "source": [
    "test = datatest[datatest['covered/total'].isnull()]\n",
    "train = datatest[datatest['covered/total'].notnull()]"
   ]
  },
  {
   "cell_type": "code",
   "execution_count": 311,
   "metadata": {},
   "outputs": [
    {
     "data": {
      "text/plain": [
       "KNeighborsRegressor(algorithm='auto', leaf_size=30, metric='minkowski',\n",
       "          metric_params=None, n_jobs=1, n_neighbors=3, p=1,\n",
       "          weights='distance')"
      ]
     },
     "execution_count": 311,
     "metadata": {},
     "output_type": "execute_result"
    }
   ],
   "source": [
    "knn.fit(train[['property_type', 'lat', 'lon','surface_covered_in_m2']], train['covered/total'])"
   ]
  },
  {
   "cell_type": "code",
   "execution_count": 312,
   "metadata": {},
   "outputs": [],
   "source": [
    "predictions = knn.predict(test[['property_type', 'lat', 'lon','surface_covered_in_m2']])"
   ]
  },
  {
   "cell_type": "code",
   "execution_count": 313,
   "metadata": {},
   "outputs": [],
   "source": [
    "test= test.reset_index(drop = True)\n",
    "test['covered/total'] = pd.Series(predictions)\n",
    "datatest = pd.concat([train, test])\n",
    "datatest = datatest.reset_index(drop = True)"
   ]
  },
  {
   "cell_type": "code",
   "execution_count": 314,
   "metadata": {},
   "outputs": [],
   "source": [
    "datatest.loc[datatest.surface_total_in_m2.isnull(),'surface_total_in_m2'] = datatest['surface_covered_in_m2']/datatest['covered/total']\n",
    "del datatest['covered/total']"
   ]
  },
  {
   "cell_type": "code",
   "execution_count": 315,
   "metadata": {},
   "outputs": [],
   "source": [
    "datatest.loc[datatest.floor > 100, 'floor'] = np.NaN"
   ]
  },
  {
   "cell_type": "code",
   "execution_count": 316,
   "metadata": {},
   "outputs": [],
   "source": [
    "test = datatest[datatest['floor'].isnull()]\n",
    "train = datatest[datatest['floor'].notnull()]"
   ]
  },
  {
   "cell_type": "code",
   "execution_count": 317,
   "metadata": {},
   "outputs": [
    {
     "data": {
      "text/plain": [
       "KNeighborsRegressor(algorithm='auto', leaf_size=30, metric='minkowski',\n",
       "          metric_params=None, n_jobs=1, n_neighbors=3, p=1,\n",
       "          weights='distance')"
      ]
     },
     "execution_count": 317,
     "metadata": {},
     "output_type": "execute_result"
    }
   ],
   "source": [
    "knn.fit(train[['property_type', 'lat', 'lon','surface_covered_in_m2','surface_total_in_m2']], train['floor'])"
   ]
  },
  {
   "cell_type": "code",
   "execution_count": 318,
   "metadata": {},
   "outputs": [],
   "source": [
    "predictions = knn.predict(test[['property_type', 'lat', 'lon','surface_covered_in_m2','surface_total_in_m2']])"
   ]
  },
  {
   "cell_type": "code",
   "execution_count": 319,
   "metadata": {},
   "outputs": [],
   "source": [
    "test= test.reset_index(drop = True)\n",
    "test['floor'] = pd.Series(predictions)\n",
    "datatest = pd.concat([train, test])\n",
    "datatest = datatest.reset_index(drop = True)"
   ]
  },
  {
   "cell_type": "code",
   "execution_count": 320,
   "metadata": {},
   "outputs": [],
   "source": [
    "datatest['floor'] = datatest['floor'].apply(lambda x: (float)((int)(x)))"
   ]
  },
  {
   "cell_type": "code",
   "execution_count": 321,
   "metadata": {},
   "outputs": [],
   "source": [
    "datatest.loc[datatest.rooms>16,'rooms'] = np.NaN"
   ]
  },
  {
   "cell_type": "code",
   "execution_count": 322,
   "metadata": {},
   "outputs": [],
   "source": [
    "test = datatest[datatest['rooms'].isnull()]\n",
    "train = datatest[datatest['rooms'].notnull()]"
   ]
  },
  {
   "cell_type": "code",
   "execution_count": 323,
   "metadata": {},
   "outputs": [
    {
     "data": {
      "text/plain": [
       "KNeighborsRegressor(algorithm='auto', leaf_size=30, metric='minkowski',\n",
       "          metric_params=None, n_jobs=1, n_neighbors=3, p=1,\n",
       "          weights='distance')"
      ]
     },
     "execution_count": 323,
     "metadata": {},
     "output_type": "execute_result"
    }
   ],
   "source": [
    "knn.fit(train[['property_type', 'lat', 'lon','surface_covered_in_m2','surface_total_in_m2','floor']], train['rooms'])"
   ]
  },
  {
   "cell_type": "code",
   "execution_count": 324,
   "metadata": {},
   "outputs": [],
   "source": [
    "predictions = knn.predict(test[['property_type', 'lat', 'lon','surface_covered_in_m2','surface_total_in_m2','floor']])"
   ]
  },
  {
   "cell_type": "code",
   "execution_count": 325,
   "metadata": {},
   "outputs": [],
   "source": [
    "test= test.reset_index(drop = True)\n",
    "test['rooms'] = pd.Series(predictions)\n",
    "datatest = pd.concat([train, test])\n",
    "datatest = datatest.reset_index(drop = True)"
   ]
  },
  {
   "cell_type": "code",
   "execution_count": 326,
   "metadata": {},
   "outputs": [],
   "source": [
    "datatest['rooms'] = datatest['rooms'].apply(lambda x: (float)((int)(x)))"
   ]
  },
  {
   "cell_type": "code",
   "execution_count": 327,
   "metadata": {},
   "outputs": [],
   "source": [
    "datatest['rooms'] = datatest['rooms'].apply(lambda x: 1.0 if x<1 else x)"
   ]
  },
  {
   "cell_type": "code",
   "execution_count": 328,
   "metadata": {},
   "outputs": [],
   "source": [
    "datatest.loc[datatest.expenses.str.isdigit() == False,'expenses'] = np.NaN"
   ]
  },
  {
   "cell_type": "code",
   "execution_count": 329,
   "metadata": {},
   "outputs": [],
   "source": [
    "datatest['expenses'] = datatest['expenses'].apply(lambda x : float(x))"
   ]
  },
  {
   "cell_type": "code",
   "execution_count": 330,
   "metadata": {},
   "outputs": [],
   "source": [
    "datatest.loc[datatest.expenses >50000,'expenses'] = np.NaN"
   ]
  },
  {
   "cell_type": "code",
   "execution_count": 331,
   "metadata": {},
   "outputs": [],
   "source": [
    "test = datatest[datatest['expenses'].isnull()]\n",
    "train = datatest[datatest['expenses'].notnull()]"
   ]
  },
  {
   "cell_type": "code",
   "execution_count": 332,
   "metadata": {},
   "outputs": [
    {
     "data": {
      "text/plain": [
       "KNeighborsRegressor(algorithm='auto', leaf_size=30, metric='minkowski',\n",
       "          metric_params=None, n_jobs=1, n_neighbors=3, p=1,\n",
       "          weights='distance')"
      ]
     },
     "execution_count": 332,
     "metadata": {},
     "output_type": "execute_result"
    }
   ],
   "source": [
    "knn.fit(train[['property_type', 'lat', 'lon','surface_covered_in_m2','surface_total_in_m2','floor','rooms']], train['expenses'])"
   ]
  },
  {
   "cell_type": "code",
   "execution_count": 333,
   "metadata": {},
   "outputs": [],
   "source": [
    "predictions = knn.predict(test[['property_type', 'lat', 'lon','surface_covered_in_m2','surface_total_in_m2','floor','rooms']])"
   ]
  },
  {
   "cell_type": "code",
   "execution_count": 334,
   "metadata": {},
   "outputs": [],
   "source": [
    "test= test.reset_index(drop = True)\n",
    "test['expenses'] = pd.Series(predictions)\n",
    "datatest = pd.concat([train, test])\n",
    "datatest = datatest.reset_index(drop = True)"
   ]
  },
  {
   "cell_type": "code",
   "execution_count": 335,
   "metadata": {},
   "outputs": [
    {
     "name": "stdout",
     "output_type": "stream",
     "text": [
      "<class 'pandas.core.frame.DataFrame'>\n",
      "RangeIndex: 14166 entries, 0 to 14165\n",
      "Data columns (total 16 columns):\n",
      "id                         14166 non-null int64\n",
      "created_on                 14166 non-null object\n",
      "property_type              14166 non-null int64\n",
      "operation                  14166 non-null object\n",
      "place_name                 14166 non-null object\n",
      "place_with_parent_names    14166 non-null object\n",
      "country_name               14166 non-null object\n",
      "state_name                 14166 non-null object\n",
      "lat                        14166 non-null float64\n",
      "lon                        14166 non-null float64\n",
      "surface_total_in_m2        14166 non-null float64\n",
      "surface_covered_in_m2      14166 non-null float64\n",
      "floor                      14166 non-null float64\n",
      "rooms                      14166 non-null float64\n",
      "expenses                   14166 non-null float64\n",
      "description                14166 non-null object\n",
      "dtypes: float64(7), int64(2), object(7)\n",
      "memory usage: 1.7+ MB\n"
     ]
    }
   ],
   "source": [
    "datatest.info()"
   ]
  },
  {
   "cell_type": "code",
   "execution_count": 337,
   "metadata": {},
   "outputs": [],
   "source": [
    "datatest.to_csv(\"csvs/datatestSinNan.csv\", index = False)"
   ]
  },
  {
   "cell_type": "markdown",
   "metadata": {},
   "source": [
    "## Algoritmos"
   ]
  },
  {
   "cell_type": "markdown",
   "metadata": {},
   "source": [
    "### Grid Search\n",
    "\n",
    "Para poder hallar los hiperparámetros de cada algoritmo que probamos, usamos Grid Search con valores que se consideraban lógicos. A continuación se muestra el código de Grid Search para KNN, pero se utilizó para todos los algoritmos, cambiando en cada caso, el diccionario con los hiperparámetros."
   ]
  },
  {
   "cell_type": "code",
   "execution_count": 1,
   "metadata": {},
   "outputs": [],
   "source": [
    "import pandas as pd\n",
    "import numpy as np\n",
    "from sklearn.model_selection import train_test_split\n",
    "from sklearn.model_selection import GridSearchCV\n",
    "from sklearn.neighbors import KNeighborsRegressor\n",
    "from sklearn.metrics import mean_squared_error"
   ]
  },
  {
   "cell_type": "code",
   "execution_count": 2,
   "metadata": {},
   "outputs": [],
   "source": [
    "data = pd.read_csv(\"datosSinNan.csv\")"
   ]
  },
  {
   "cell_type": "code",
   "execution_count": 3,
   "metadata": {},
   "outputs": [],
   "source": [
    "X_train, X_test, y_train, y_test = train_test_split(data[['expenses', 'floor', 'lat', 'lon',\\\n",
    "                                                          'rooms', 'surface_covered_in_m2', 'surface_total_in_m2']], \\\n",
    "                                                    data[['price_aprox_usd']], test_size=0.1, random_state=0)"
   ]
  },
  {
   "cell_type": "code",
   "execution_count": 4,
   "metadata": {},
   "outputs": [],
   "source": [
    "parameters = {'n_neighbors':[1,2,3,4,5,6,7,8,9,10], 'weights':['uniform', 'distance'], 'p':[1,2,3,4,5]}"
   ]
  },
  {
   "cell_type": "code",
   "execution_count": 5,
   "metadata": {},
   "outputs": [
    {
     "data": {
      "text/plain": [
       "GridSearchCV(cv=5, error_score='raise',\n",
       "       estimator=KNeighborsRegressor(algorithm='auto', leaf_size=30, metric='minkowski',\n",
       "          metric_params=None, n_jobs=1, n_neighbors=5, p=2,\n",
       "          weights='uniform'),\n",
       "       fit_params=None, iid=True, n_jobs=1,\n",
       "       param_grid={'n_neighbors': [1, 2, 3, 4, 5, 6, 7, 8, 9, 10], 'weights': ['uniform', 'distance'], 'p': [1, 2, 3, 4, 5]},\n",
       "       pre_dispatch='2*n_jobs', refit=True, return_train_score='warn',\n",
       "       scoring='neg_mean_squared_error', verbose=0)"
      ]
     },
     "execution_count": 5,
     "metadata": {},
     "output_type": "execute_result"
    }
   ],
   "source": [
    "gs = GridSearchCV(KNeighborsRegressor(), parameters, cv = 5, scoring = 'neg_mean_squared_error')\n",
    "gs.fit(X_train, y_train)"
   ]
  },
  {
   "cell_type": "code",
   "execution_count": 6,
   "metadata": {},
   "outputs": [
    {
     "data": {
      "text/plain": [
       "{'n_neighbors': 3, 'p': 1, 'weights': 'distance'}"
      ]
     },
     "execution_count": 6,
     "metadata": {},
     "output_type": "execute_result"
    }
   ],
   "source": [
    "gs.best_params_"
   ]
  },
  {
   "cell_type": "code",
   "execution_count": 7,
   "metadata": {},
   "outputs": [],
   "source": [
    "y_true, y_pred = y_test, gs.predict(X_test)"
   ]
  },
  {
   "cell_type": "code",
   "execution_count": 8,
   "metadata": {},
   "outputs": [
    {
     "data": {
      "text/plain": [
       "10270721834.252747"
      ]
     },
     "execution_count": 8,
     "metadata": {},
     "output_type": "execute_result"
    }
   ],
   "source": [
    "mean_squared_error(y_true, y_pred)"
   ]
  },
  {
   "cell_type": "markdown",
   "metadata": {},
   "source": [
    "### KNN\n",
    "\n",
    "El primer algoritmo que probamos fue KNN sin filtrar aquellas propiedades que tenían \"store\" en el campo property_type. El score en Kaggle fue 973339015524.93700"
   ]
  },
  {
   "cell_type": "code",
   "execution_count": 1,
   "metadata": {},
   "outputs": [],
   "source": [
    "import pandas as pd\n",
    "import numpy as np\n",
    "from sklearn.neighbors import KNeighborsRegressor"
   ]
  },
  {
   "cell_type": "code",
   "execution_count": 2,
   "metadata": {},
   "outputs": [],
   "source": [
    "data = pd.read_csv(\"datosSinNan.csv\")\n",
    "test = pd.read_csv(\"datatestSinNan.csv\")"
   ]
  },
  {
   "cell_type": "code",
   "execution_count": 3,
   "metadata": {},
   "outputs": [],
   "source": [
    "def property_type_to_num(x):\n",
    "    if x == \"apartment\":\n",
    "        return 0\n",
    "    if x == \"house\":\n",
    "        return 1\n",
    "    if x == \"PH\":\n",
    "        return 2\n",
    "    return 3"
   ]
  },
  {
   "cell_type": "code",
   "execution_count": 4,
   "metadata": {},
   "outputs": [],
   "source": [
    "data['property_type'] = data['property_type'].apply(lambda x: property_type_to_num(x))"
   ]
  },
  {
   "cell_type": "code",
   "execution_count": 6,
   "metadata": {},
   "outputs": [],
   "source": [
    "knn = KNeighborsRegressor(n_neighbors=3, weights='distance', p=1)"
   ]
  },
  {
   "cell_type": "code",
   "execution_count": 7,
   "metadata": {},
   "outputs": [
    {
     "data": {
      "text/plain": [
       "KNeighborsRegressor(algorithm='auto', leaf_size=30, metric='minkowski',\n",
       "          metric_params=None, n_jobs=1, n_neighbors=3, p=1,\n",
       "          weights='distance')"
      ]
     },
     "execution_count": 7,
     "metadata": {},
     "output_type": "execute_result"
    }
   ],
   "source": [
    "knn.fit(data[['expenses', 'floor', 'lat', 'lon', 'property_type', \\\n",
    "              'rooms', 'surface_covered_in_m2', 'surface_total_in_m2']], \\\n",
    "        data[['price_aprox_usd']])"
   ]
  },
  {
   "cell_type": "code",
   "execution_count": 8,
   "metadata": {},
   "outputs": [],
   "source": [
    "predictions = knn.predict(test[['expenses', 'floor', 'lat', 'lon', 'property_type',\\\n",
    "                                'rooms', 'surface_covered_in_m2', 'surface_total_in_m2']])"
   ]
  },
  {
   "cell_type": "code",
   "execution_count": 9,
   "metadata": {},
   "outputs": [],
   "source": [
    "pr = [predictions[i][0] for i in range(len(predictions))]"
   ]
  },
  {
   "cell_type": "code",
   "execution_count": 10,
   "metadata": {},
   "outputs": [],
   "source": [
    "test['price_usd'] = pd.Series(pr)"
   ]
  },
  {
   "cell_type": "code",
   "execution_count": 11,
   "metadata": {},
   "outputs": [],
   "source": [
    "submit = test[['id', 'price_usd']]"
   ]
  },
  {
   "cell_type": "code",
   "execution_count": 13,
   "metadata": {},
   "outputs": [],
   "source": [
    "submit.to_csv(\"properati_dataset_sample_submision.csv\", index = False)"
   ]
  },
  {
   "cell_type": "markdown",
   "metadata": {},
   "source": [
    "Al filtrar las propiedades de tipo \"store\", el score en Kaggle mejoró (973189725366.30400), por lo que decidimos filtrar estas propiedades en todos los algoritmos que probamos."
   ]
  },
  {
   "cell_type": "markdown",
   "metadata": {},
   "source": [
    "### Decision Tree\n",
    "\n",
    "Con este algoritmo, al momento de hacer el Grid Search, el score que daba con la validación era menor que el que se obtuvo con KNN, sin embargo, al subir las predicciones a Kaggle, el score de este algoritmo fue mucho peor que con KNN (1005876469824.70000). Esto empeoró comparandolo incluso con la predicción utilizando Decision Tree con los valores por defecto (992801565782.56500)."
   ]
  },
  {
   "cell_type": "code",
   "execution_count": 14,
   "metadata": {},
   "outputs": [],
   "source": [
    "import pandas as pd\n",
    "import numpy as np\n",
    "from sklearn.tree import DecisionTreeRegressor"
   ]
  },
  {
   "cell_type": "code",
   "execution_count": 15,
   "metadata": {},
   "outputs": [],
   "source": [
    "data = pd.read_csv(\"datosSinNan.csv\")\n",
    "test = pd.read_csv(\"datatestSinNan.csv\")"
   ]
  },
  {
   "cell_type": "code",
   "execution_count": 16,
   "metadata": {},
   "outputs": [],
   "source": [
    "data = data[data.property_type != \"store\"]"
   ]
  },
  {
   "cell_type": "code",
   "execution_count": 17,
   "metadata": {},
   "outputs": [],
   "source": [
    "def property_type_to_num(x):\n",
    "    if x == \"apartment\":\n",
    "        return 0\n",
    "    if x == \"house\":\n",
    "        return 1\n",
    "    if x == \"PH\":\n",
    "        return 2"
   ]
  },
  {
   "cell_type": "code",
   "execution_count": 18,
   "metadata": {},
   "outputs": [],
   "source": [
    "data['property_type'] = data['property_type'].apply(lambda x: property_type_to_num(x))"
   ]
  },
  {
   "cell_type": "code",
   "execution_count": 19,
   "metadata": {},
   "outputs": [],
   "source": [
    "dt = DecisionTreeRegressor(max_depth = 10, min_samples_split = 3)"
   ]
  },
  {
   "cell_type": "code",
   "execution_count": 20,
   "metadata": {},
   "outputs": [
    {
     "data": {
      "text/plain": [
       "DecisionTreeRegressor(criterion='mse', max_depth=10, max_features=None,\n",
       "           max_leaf_nodes=None, min_impurity_decrease=0.0,\n",
       "           min_impurity_split=None, min_samples_leaf=1,\n",
       "           min_samples_split=3, min_weight_fraction_leaf=0.0,\n",
       "           presort=False, random_state=None, splitter='best')"
      ]
     },
     "execution_count": 20,
     "metadata": {},
     "output_type": "execute_result"
    }
   ],
   "source": [
    "dt.fit(data[['expenses', 'floor', 'lat', 'lon', 'property_type', \\\n",
    "             'rooms', 'surface_covered_in_m2', 'surface_total_in_m2']], \\\n",
    "        data[['price_aprox_usd']])"
   ]
  },
  {
   "cell_type": "code",
   "execution_count": 21,
   "metadata": {},
   "outputs": [],
   "source": [
    "predictions = dt.predict(test[['expenses', 'floor', 'lat', 'lon', 'property_type',\\\n",
    "                                'rooms', 'surface_covered_in_m2', 'surface_total_in_m2']])"
   ]
  },
  {
   "cell_type": "code",
   "execution_count": 22,
   "metadata": {},
   "outputs": [],
   "source": [
    "test['price_usd'] = pd.Series(predictions)"
   ]
  },
  {
   "cell_type": "code",
   "execution_count": 23,
   "metadata": {},
   "outputs": [],
   "source": [
    "submit = test[['id', 'price_usd']]"
   ]
  },
  {
   "cell_type": "code",
   "execution_count": 24,
   "metadata": {},
   "outputs": [],
   "source": [
    "submit.to_csv(\"properati_dataset_sample_submision.csv\", index = False)"
   ]
  },
  {
   "cell_type": "markdown",
   "metadata": {},
   "source": [
    "### Random Forest\n",
    "\n",
    "Utilizando este algoritmo con los hiperparámetros obtenidos con el Grid Search, pudimos mejorar el score obtenido con KNN en Kaggle (967248246642.93500)."
   ]
  },
  {
   "cell_type": "code",
   "execution_count": 1,
   "metadata": {},
   "outputs": [],
   "source": [
    "import pandas as pd\n",
    "import numpy as np\n",
    "from sklearn.ensemble import RandomForestRegressor\n",
    "from sklearn.model_selection import train_test_split"
   ]
  },
  {
   "cell_type": "code",
   "execution_count": 2,
   "metadata": {},
   "outputs": [],
   "source": [
    "data = pd.read_csv(\"datosSinNan.csv\")\n",
    "test = pd.read_csv(\"datatestSinNan.csv\")"
   ]
  },
  {
   "cell_type": "code",
   "execution_count": 3,
   "metadata": {},
   "outputs": [],
   "source": [
    "data = data[data.property_type != \"store\"]"
   ]
  },
  {
   "cell_type": "code",
   "execution_count": 4,
   "metadata": {},
   "outputs": [],
   "source": [
    "def property_type_to_num(x):\n",
    "    if x == \"apartment\":\n",
    "        return 0\n",
    "    if x == \"house\":\n",
    "        return 1\n",
    "    if x == \"PH\":\n",
    "        return 2"
   ]
  },
  {
   "cell_type": "code",
   "execution_count": 5,
   "metadata": {},
   "outputs": [],
   "source": [
    "data['property_type'] = data['property_type'].apply(lambda x: property_type_to_num(x))"
   ]
  },
  {
   "cell_type": "code",
   "execution_count": 6,
   "metadata": {},
   "outputs": [],
   "source": [
    "rfr = RandomForestRegressor(n_estimators=20, min_samples_split=3, random_state=0)"
   ]
  },
  {
   "cell_type": "code",
   "execution_count": 7,
   "metadata": {},
   "outputs": [
    {
     "data": {
      "text/plain": [
       "RandomForestRegressor(bootstrap=True, criterion='mse', max_depth=None,\n",
       "           max_features='auto', max_leaf_nodes=None,\n",
       "           min_impurity_decrease=0.0, min_impurity_split=None,\n",
       "           min_samples_leaf=1, min_samples_split=3,\n",
       "           min_weight_fraction_leaf=0.0, n_estimators=20, n_jobs=1,\n",
       "           oob_score=False, random_state=0, verbose=0, warm_start=False)"
      ]
     },
     "execution_count": 7,
     "metadata": {},
     "output_type": "execute_result"
    }
   ],
   "source": [
    "rfr.fit(data[['expenses', 'floor', 'lat', 'lon', 'property_type', \\\n",
    "              'rooms', 'surface_covered_in_m2', 'surface_total_in_m2']], \\\n",
    "        data[['price_aprox_usd']].values.ravel())"
   ]
  },
  {
   "cell_type": "code",
   "execution_count": 8,
   "metadata": {},
   "outputs": [],
   "source": [
    "predictions = rfr.predict(test[['expenses', 'floor', 'lat', 'lon', 'property_type',\\\n",
    "                                'rooms', 'surface_covered_in_m2', 'surface_total_in_m2']])"
   ]
  },
  {
   "cell_type": "code",
   "execution_count": 9,
   "metadata": {},
   "outputs": [],
   "source": [
    "test['price_usd'] = pd.Series(predictions)"
   ]
  },
  {
   "cell_type": "code",
   "execution_count": 10,
   "metadata": {},
   "outputs": [],
   "source": [
    "submit = test[['id', 'price_usd']]"
   ]
  },
  {
   "cell_type": "code",
   "execution_count": 11,
   "metadata": {},
   "outputs": [],
   "source": [
    "submit.to_csv(\"properati_dataset_sample_submision.csv\", index = False)"
   ]
  },
  {
   "cell_type": "markdown",
   "metadata": {},
   "source": [
    "### AdaBoost\n",
    "\n",
    "Con este algoritmo hicimos varias pruebas cambiando el estimador base. Obtuvimos los siguientes score: \n",
    "\n",
    "1) AdaBoost con KNN: 973395588613.77500 (Empeoró respecto a KNN) \n",
    "\n",
    "2) AdaBoost sin estimador base: 964367202699.85600 (Mejoró en comparación a todos los anteriores)\n",
    "\n",
    "3) AdaBoost con Random Forest: 963314256967.69800 \n",
    "\n",
    "4) AdaBoost con Bagging Regressor cuyo estimador base era Gradient Boosting: 960838188443.48500 \n",
    "\n",
    "5) AdaBoost con Gradient Boosting: 957297203685.38900\n",
    "\n",
    "Este ultimo fue el algoritmo con el que obtuvimos el mejor score. El código que sigue es de este algoritmo.\n",
    "\n"
   ]
  },
  {
   "cell_type": "code",
   "execution_count": 105,
   "metadata": {},
   "outputs": [],
   "source": [
    "import pandas as pd\n",
    "import numpy as np\n",
    "from sklearn.ensemble import AdaBoostRegressor\n",
    "from sklearn.model_selection import train_test_split\n",
    "from sklearn.ensemble import BaggingRegressor\n",
    "from sklearn.ensemble import GradientBoostingRegressor"
   ]
  },
  {
   "cell_type": "code",
   "execution_count": 106,
   "metadata": {},
   "outputs": [],
   "source": [
    "data = pd.read_csv(\"datosSinNan.csv\")\n",
    "test = pd.read_csv(\"datatestSinNan.csv\")"
   ]
  },
  {
   "cell_type": "code",
   "execution_count": 107,
   "metadata": {},
   "outputs": [],
   "source": [
    "data = data[data.property_type != \"store\"]"
   ]
  },
  {
   "cell_type": "code",
   "execution_count": 108,
   "metadata": {},
   "outputs": [],
   "source": [
    "def property_type_to_num(x):\n",
    "    if x == \"apartment\":\n",
    "        return 0\n",
    "    if x == \"house\":\n",
    "        return 1\n",
    "    if x == \"PH\":\n",
    "        return 2"
   ]
  },
  {
   "cell_type": "code",
   "execution_count": 109,
   "metadata": {},
   "outputs": [],
   "source": [
    "data['property_type'] = data['property_type'].apply(lambda x: property_type_to_num(x))"
   ]
  },
  {
   "cell_type": "code",
   "execution_count": 111,
   "metadata": {},
   "outputs": [],
   "source": [
    "ab = AdaBoostRegressor(base_estimator=GradientBoostingRegressor(n_estimators = 2000, \\\n",
    "                                                                max_depth = 5, min_samples_split = 3), \\\n",
    "                        n_estimators=50, learning_rate=0.1, loss='exponential', random_state=3)"
   ]
  },
  {
   "cell_type": "code",
   "execution_count": 112,
   "metadata": {},
   "outputs": [
    {
     "data": {
      "text/plain": [
       "AdaBoostRegressor(base_estimator=GradientBoostingRegressor(alpha=0.9, criterion='friedman_mse', init=None,\n",
       "             learning_rate=0.1, loss='ls', max_depth=5, max_features=None,\n",
       "             max_leaf_nodes=None, min_impurity_decrease=0.0,\n",
       "             min_impurity_split=None, min_samples_leaf=1,\n",
       "             min_samples_split=3, min_weight_fraction_leaf=0.0,\n",
       "             n_estimators=2000, presort='auto', random_state=None,\n",
       "             subsample=1.0, verbose=0, warm_start=False),\n",
       "         learning_rate=0.1, loss='exponential', n_estimators=50,\n",
       "         random_state=3)"
      ]
     },
     "execution_count": 112,
     "metadata": {},
     "output_type": "execute_result"
    }
   ],
   "source": [
    "ab.fit(data[['expenses', 'floor', 'lat', 'lon', 'property_type', \\\n",
    "             'rooms', 'surface_covered_in_m2', 'surface_total_in_m2']], \\\n",
    "        data[['price_aprox_usd']].values.ravel())"
   ]
  },
  {
   "cell_type": "markdown",
   "metadata": {},
   "source": [
    "Esta linea nos permite guardar el estimador ya entrenado para después poder cargarlo y predecir los valores."
   ]
  },
  {
   "cell_type": "code",
   "execution_count": 113,
   "metadata": {},
   "outputs": [
    {
     "data": {
      "text/plain": [
       "['adaboost5000.pkl']"
      ]
     },
     "execution_count": 113,
     "metadata": {},
     "output_type": "execute_result"
    }
   ],
   "source": [
    "from sklearn.externals import joblib\n",
    "\n",
    "joblib.dump(ab, 'adaboost5000.pkl')"
   ]
  },
  {
   "cell_type": "code",
   "execution_count": 114,
   "metadata": {},
   "outputs": [],
   "source": [
    "predictions = ab.predict(test[['expenses', 'floor', 'lat', 'lon', 'property_type',\\\n",
    "                                'rooms', 'surface_covered_in_m2', 'surface_total_in_m2']])"
   ]
  },
  {
   "cell_type": "code",
   "execution_count": 117,
   "metadata": {},
   "outputs": [],
   "source": [
    "test['price_usd'] = pd.Series(predictions)"
   ]
  },
  {
   "cell_type": "code",
   "execution_count": 118,
   "metadata": {},
   "outputs": [],
   "source": [
    "submit = test[['id', 'price_usd']]"
   ]
  },
  {
   "cell_type": "code",
   "execution_count": 119,
   "metadata": {},
   "outputs": [],
   "source": [
    "submit.to_csv(\"properati_dataset_sample_submision2.csv\", index = False)"
   ]
  },
  {
   "cell_type": "markdown",
   "metadata": {},
   "source": [
    "### Código para cargar el estimador\n",
    "\n",
    "Utilizamos la libreria joblib para no tener que entrenar al estimador cada vez que queremos predecir, asi a la hora de presentar el trabajo podemos predecir rapidamente."
   ]
  },
  {
   "cell_type": "code",
   "execution_count": 2,
   "metadata": {},
   "outputs": [],
   "source": [
    "from sklearn.externals import joblib\n",
    "\n",
    "ab = joblib.load('adaboost.pkl') "
   ]
  },
  {
   "cell_type": "code",
   "execution_count": 3,
   "metadata": {},
   "outputs": [],
   "source": [
    "import pandas as pd\n",
    "\n",
    "test = pd.read_csv(\"datatestSinNan.csv\")"
   ]
  },
  {
   "cell_type": "code",
   "execution_count": 4,
   "metadata": {},
   "outputs": [],
   "source": [
    "predictions = ab.predict(test[['expenses', 'floor', 'lat', 'lon', 'property_type',\\\n",
    "                                'rooms', 'surface_covered_in_m2', 'surface_total_in_m2']])"
   ]
  },
  {
   "cell_type": "code",
   "execution_count": 5,
   "metadata": {},
   "outputs": [],
   "source": [
    "test['price_usd'] = pd.Series(predictions)"
   ]
  },
  {
   "cell_type": "code",
   "execution_count": 6,
   "metadata": {},
   "outputs": [],
   "source": [
    "submit = test[['id', 'price_usd']]"
   ]
  },
  {
   "cell_type": "code",
   "execution_count": 7,
   "metadata": {},
   "outputs": [],
   "source": [
    "submit.to_csv(\"properati_dataset_sample_submision3.csv\", index = False)"
   ]
  }
 ],
 "metadata": {
  "kernelspec": {
   "display_name": "Python 3",
   "language": "python",
   "name": "python3"
  },
  "language_info": {
   "codemirror_mode": {
    "name": "ipython",
    "version": 3
   },
   "file_extension": ".py",
   "mimetype": "text/x-python",
   "name": "python",
   "nbconvert_exporter": "python",
   "pygments_lexer": "ipython3",
   "version": "3.5.2"
  }
 },
 "nbformat": 4,
 "nbformat_minor": 2
}
