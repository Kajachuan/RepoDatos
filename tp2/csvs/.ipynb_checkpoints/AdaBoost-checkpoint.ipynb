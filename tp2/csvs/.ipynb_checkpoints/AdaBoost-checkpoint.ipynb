{
 "cells": [
  {
   "cell_type": "code",
   "execution_count": 1,
   "metadata": {},
   "outputs": [],
   "source": [
    "import pandas as pd\n",
    "import numpy as np\n",
    "from sklearn.ensemble import AdaBoostRegressor\n",
    "from sklearn.model_selection import train_test_split\n",
    "from sklearn.ensemble import BaggingRegressor\n",
    "from sklearn.ensemble import GradientBoostingRegressor"
   ]
  },
  {
   "cell_type": "code",
   "execution_count": 2,
   "metadata": {},
   "outputs": [],
   "source": [
    "data = pd.read_csv(\"datosSinNan.csv\")\n",
    "test = pd.read_csv(\"datatestSinNan.csv\")"
   ]
  },
  {
   "cell_type": "code",
   "execution_count": 3,
   "metadata": {},
   "outputs": [],
   "source": [
    "data = data[data.property_type != \"store\"]"
   ]
  },
  {
   "cell_type": "code",
   "execution_count": 4,
   "metadata": {},
   "outputs": [],
   "source": [
    "def property_type_to_num(x):\n",
    "    if x == \"apartment\":\n",
    "        return 0\n",
    "    if x == \"house\":\n",
    "        return 1\n",
    "    if x == \"PH\":\n",
    "        return 2"
   ]
  },
  {
   "cell_type": "code",
   "execution_count": 5,
   "metadata": {},
   "outputs": [],
   "source": [
    "data['property_type'] = data['property_type'].apply(lambda x: property_type_to_num(x))"
   ]
  },
  {
   "cell_type": "code",
   "execution_count": 6,
   "metadata": {},
   "outputs": [],
   "source": [
    "# X_train, X_test, y_train, y_test = train_test_split(data[['expenses', 'floor', 'lat', 'lon', 'property_type', \\\n",
    "#                                                           'rooms', 'surface_covered_in_m2', 'surface_total_in_m2']], \\\n",
    "#                                                     data[['price_aprox_usd']], test_size=0.1, random_state=0)"
   ]
  },
  {
   "cell_type": "code",
   "execution_count": 7,
   "metadata": {},
   "outputs": [],
   "source": [
    "# ab = AdaBoostRegressor(base_estimator=GradientBoostingRegressor(n_estimators = 1000, max_depth = 5, min_samples_split = 3), \\\n",
    "#                        n_estimators=50, learning_rate=0.1, loss='exponential', random_state=3)\n",
    "\n",
    "gb = GradientBoostingRegressor(loss = 'ls', n_estimators = 500, max_depth = 5, min_samples_split = 3, \\\n",
    "                               min_samples_leaf = 2, max_leaf_nodes = 1000000)\n",
    "\n",
    "ab = AdaBoostRegressor(base_estimator=BaggingRegressor(base_estimator=gb), n_estimators=50, \\\n",
    "                       learning_rate=0.1, loss='exponential', random_state=3)"
   ]
  },
  {
   "cell_type": "code",
   "execution_count": 8,
   "metadata": {},
   "outputs": [
    {
     "data": {
      "text/plain": [
       "AdaBoostRegressor(base_estimator=BaggingRegressor(base_estimator=GradientBoostingRegressor(alpha=0.9, criterion='friedman_mse', init=None,\n",
       "             learning_rate=0.1, loss='ls', max_depth=5, max_features=None,\n",
       "             max_leaf_nodes=1000000, min_impurity_decrease=0.0,\n",
       "             min_impurity_split=None, mi...n_estimators=10, n_jobs=1, oob_score=False,\n",
       "         random_state=None, verbose=0, warm_start=False),\n",
       "         learning_rate=0.1, loss='exponential', n_estimators=50,\n",
       "         random_state=3)"
      ]
     },
     "execution_count": 8,
     "metadata": {},
     "output_type": "execute_result"
    }
   ],
   "source": [
    "ab.fit(data[['expenses', 'floor', 'lat', 'lon', 'property_type', 'rooms', 'surface_covered_in_m2', 'surface_total_in_m2']], \\\n",
    "        data[['price_aprox_usd']].values.ravel())\n",
    "# ab.fit(X_train, y_train.values.ravel())"
   ]
  },
  {
   "cell_type": "code",
   "execution_count": 15,
   "metadata": {},
   "outputs": [
    {
     "data": {
      "text/plain": [
       "['adaboost.pkl']"
      ]
     },
     "execution_count": 15,
     "metadata": {},
     "output_type": "execute_result"
    }
   ],
   "source": [
    "from sklearn.externals import joblib\n",
    "\n",
    "joblib.dump(ab, 'adaboost.pkl')"
   ]
  },
  {
   "cell_type": "code",
   "execution_count": 9,
   "metadata": {},
   "outputs": [],
   "source": [
    "predictions = ab.predict(test[['expenses', 'floor', 'lat', 'lon', 'property_type',\\\n",
    "                                'rooms', 'surface_covered_in_m2', 'surface_total_in_m2']])\n",
    "# p = ab.predict(X_test)"
   ]
  },
  {
   "cell_type": "code",
   "execution_count": 16,
   "metadata": {},
   "outputs": [
    {
     "data": {
      "text/plain": [
       "array([ 170944.84193245,   86818.80625369,  102455.57545938, ...,\n",
       "        238812.66839132,  151733.01002658,  143470.94068588])"
      ]
     },
     "execution_count": 16,
     "metadata": {},
     "output_type": "execute_result"
    }
   ],
   "source": [
    "predictions"
   ]
  },
  {
   "cell_type": "code",
   "execution_count": 10,
   "metadata": {},
   "outputs": [],
   "source": [
    "# from sklearn.metrics import mean_squared_error\n",
    "\n",
    "# mean_squared_error(y_test, p)"
   ]
  },
  {
   "cell_type": "code",
   "execution_count": 11,
   "metadata": {},
   "outputs": [],
   "source": [
    "test['price_usd'] = pd.Series(predictions)"
   ]
  },
  {
   "cell_type": "code",
   "execution_count": 12,
   "metadata": {},
   "outputs": [],
   "source": [
    "submit = test[['id', 'price_usd']]"
   ]
  },
  {
   "cell_type": "code",
   "execution_count": 13,
   "metadata": {},
   "outputs": [],
   "source": [
    "submit.to_csv(\"properati_dataset_sample_submision.csv\", index = False)"
   ]
  },
  {
   "cell_type": "code",
   "execution_count": 14,
   "metadata": {},
   "outputs": [
    {
     "name": "stdout",
     "output_type": "stream",
     "text": [
      "<class 'pandas.core.frame.DataFrame'>\n",
      "RangeIndex: 14166 entries, 0 to 14165\n",
      "Data columns (total 2 columns):\n",
      "id           14166 non-null int64\n",
      "price_usd    14166 non-null float64\n",
      "dtypes: float64(1), int64(1)\n",
      "memory usage: 221.4 KB\n"
     ]
    }
   ],
   "source": [
    "submit.info()"
   ]
  }
 ],
 "metadata": {
  "kernelspec": {
   "display_name": "Python 3",
   "language": "python",
   "name": "python3"
  },
  "language_info": {
   "codemirror_mode": {
    "name": "ipython",
    "version": 3
   },
   "file_extension": ".py",
   "mimetype": "text/x-python",
   "name": "python",
   "nbconvert_exporter": "python",
   "pygments_lexer": "ipython3",
   "version": "3.6.3"
  }
 },
 "nbformat": 4,
 "nbformat_minor": 2
}
