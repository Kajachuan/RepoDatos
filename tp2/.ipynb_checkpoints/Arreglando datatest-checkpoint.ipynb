{
 "cells": [
  {
   "cell_type": "code",
   "execution_count": 268,
   "metadata": {},
   "outputs": [],
   "source": [
    "import pandas as pd\n",
    "import numpy as np\n",
    "import matplotlib.pyplot as plt\n",
    "%matplotlib inline\n",
    "from sklearn.neighbors import KNeighborsRegressor"
   ]
  },
  {
   "cell_type": "code",
   "execution_count": 269,
   "metadata": {},
   "outputs": [],
   "source": [
    "#data = pd.read_csv('csvs/datosSinNan.csv', low_memory=False)"
   ]
  },
  {
   "cell_type": "code",
   "execution_count": 270,
   "metadata": {},
   "outputs": [],
   "source": [
    "datatest = pd.read_csv('csvs/properati_dataset_testing_noprice.csv', low_memory=False)"
   ]
  },
  {
   "cell_type": "code",
   "execution_count": 271,
   "metadata": {},
   "outputs": [
    {
     "name": "stdout",
     "output_type": "stream",
     "text": [
      "<class 'pandas.core.frame.DataFrame'>\n",
      "RangeIndex: 14166 entries, 0 to 14165\n",
      "Data columns (total 17 columns):\n",
      "id                         14166 non-null int64\n",
      "created_on                 14166 non-null object\n",
      "property_type              14166 non-null object\n",
      "operation                  14166 non-null object\n",
      "place_name                 14166 non-null object\n",
      "place_with_parent_names    14166 non-null object\n",
      "country_name               14166 non-null object\n",
      "state_name                 14166 non-null object\n",
      "lat-lon                    10487 non-null object\n",
      "lat                        10487 non-null float64\n",
      "lon                        10487 non-null float64\n",
      "surface_total_in_m2        11853 non-null float64\n",
      "surface_covered_in_m2      13005 non-null float64\n",
      "floor                      1368 non-null float64\n",
      "rooms                      7500 non-null float64\n",
      "expenses                   2543 non-null object\n",
      "description                14166 non-null object\n",
      "dtypes: float64(6), int64(1), object(10)\n",
      "memory usage: 1.8+ MB\n"
     ]
    }
   ],
   "source": [
    "datatest.info()"
   ]
  },
  {
   "cell_type": "code",
   "execution_count": 272,
   "metadata": {},
   "outputs": [],
   "source": [
    "meanLat = datatest[['place_name','lat']].groupby('place_name').agg(np.mean)\n",
    "meanLon = datatest[['place_name','lon']].groupby('place_name').agg(np.mean)\n"
   ]
  },
  {
   "cell_type": "code",
   "execution_count": 273,
   "metadata": {},
   "outputs": [],
   "source": [
    "for place in meanLon.index:\n",
    "    datatest.loc[((datatest.lon.isnull()) & (datatest.place_name == place)), 'lon'] = meanLon.loc[place]['lon']\n",
    "    datatest.loc[((datatest.lat.isnull()) & (datatest.place_name == place)), 'lat'] = meanLat.loc[place]['lat']"
   ]
  },
  {
   "cell_type": "code",
   "execution_count": 274,
   "metadata": {},
   "outputs": [
    {
     "data": {
      "text/html": [
       "<div>\n",
       "<style>\n",
       "    .dataframe thead tr:only-child th {\n",
       "        text-align: right;\n",
       "    }\n",
       "\n",
       "    .dataframe thead th {\n",
       "        text-align: left;\n",
       "    }\n",
       "\n",
       "    .dataframe tbody tr th {\n",
       "        vertical-align: top;\n",
       "    }\n",
       "</style>\n",
       "<table border=\"1\" class=\"dataframe\">\n",
       "  <thead>\n",
       "    <tr style=\"text-align: right;\">\n",
       "      <th></th>\n",
       "      <th>id</th>\n",
       "      <th>created_on</th>\n",
       "      <th>property_type</th>\n",
       "      <th>operation</th>\n",
       "      <th>place_with_parent_names</th>\n",
       "      <th>country_name</th>\n",
       "      <th>state_name</th>\n",
       "      <th>lat-lon</th>\n",
       "      <th>lat</th>\n",
       "      <th>lon</th>\n",
       "      <th>surface_total_in_m2</th>\n",
       "      <th>surface_covered_in_m2</th>\n",
       "      <th>floor</th>\n",
       "      <th>rooms</th>\n",
       "      <th>expenses</th>\n",
       "      <th>description</th>\n",
       "    </tr>\n",
       "    <tr>\n",
       "      <th>place_name</th>\n",
       "      <th></th>\n",
       "      <th></th>\n",
       "      <th></th>\n",
       "      <th></th>\n",
       "      <th></th>\n",
       "      <th></th>\n",
       "      <th></th>\n",
       "      <th></th>\n",
       "      <th></th>\n",
       "      <th></th>\n",
       "      <th></th>\n",
       "      <th></th>\n",
       "      <th></th>\n",
       "      <th></th>\n",
       "      <th></th>\n",
       "      <th></th>\n",
       "    </tr>\n",
       "  </thead>\n",
       "  <tbody>\n",
       "    <tr>\n",
       "      <th>Abril Club de Campo</th>\n",
       "      <td>1</td>\n",
       "      <td>1</td>\n",
       "      <td>1</td>\n",
       "      <td>1</td>\n",
       "      <td>1</td>\n",
       "      <td>1</td>\n",
       "      <td>1</td>\n",
       "      <td>1</td>\n",
       "      <td>1.0</td>\n",
       "      <td>1.0</td>\n",
       "      <td>1.0</td>\n",
       "      <td>1.0</td>\n",
       "      <td>1.0</td>\n",
       "      <td>1.0</td>\n",
       "      <td>1</td>\n",
       "      <td>1</td>\n",
       "    </tr>\n",
       "    <tr>\n",
       "      <th>Altos de Hudson I</th>\n",
       "      <td>1</td>\n",
       "      <td>1</td>\n",
       "      <td>1</td>\n",
       "      <td>1</td>\n",
       "      <td>1</td>\n",
       "      <td>1</td>\n",
       "      <td>1</td>\n",
       "      <td>1</td>\n",
       "      <td>1.0</td>\n",
       "      <td>1.0</td>\n",
       "      <td>1.0</td>\n",
       "      <td>1.0</td>\n",
       "      <td>1.0</td>\n",
       "      <td>1.0</td>\n",
       "      <td>1</td>\n",
       "      <td>1</td>\n",
       "    </tr>\n",
       "    <tr>\n",
       "      <th>Bs.As. G.B.A. Zona Oeste</th>\n",
       "      <td>13</td>\n",
       "      <td>13</td>\n",
       "      <td>13</td>\n",
       "      <td>13</td>\n",
       "      <td>13</td>\n",
       "      <td>13</td>\n",
       "      <td>13</td>\n",
       "      <td>13</td>\n",
       "      <td>13.0</td>\n",
       "      <td>13.0</td>\n",
       "      <td>13.0</td>\n",
       "      <td>13.0</td>\n",
       "      <td>13.0</td>\n",
       "      <td>13.0</td>\n",
       "      <td>13</td>\n",
       "      <td>13</td>\n",
       "    </tr>\n",
       "    <tr>\n",
       "      <th>Buenos Aires Interior</th>\n",
       "      <td>1</td>\n",
       "      <td>1</td>\n",
       "      <td>1</td>\n",
       "      <td>1</td>\n",
       "      <td>1</td>\n",
       "      <td>1</td>\n",
       "      <td>1</td>\n",
       "      <td>1</td>\n",
       "      <td>1.0</td>\n",
       "      <td>1.0</td>\n",
       "      <td>1.0</td>\n",
       "      <td>1.0</td>\n",
       "      <td>1.0</td>\n",
       "      <td>1.0</td>\n",
       "      <td>1</td>\n",
       "      <td>1</td>\n",
       "    </tr>\n",
       "    <tr>\n",
       "      <th>El Rocío</th>\n",
       "      <td>1</td>\n",
       "      <td>1</td>\n",
       "      <td>1</td>\n",
       "      <td>1</td>\n",
       "      <td>1</td>\n",
       "      <td>1</td>\n",
       "      <td>1</td>\n",
       "      <td>1</td>\n",
       "      <td>1.0</td>\n",
       "      <td>1.0</td>\n",
       "      <td>1.0</td>\n",
       "      <td>1.0</td>\n",
       "      <td>1.0</td>\n",
       "      <td>1.0</td>\n",
       "      <td>1</td>\n",
       "      <td>1</td>\n",
       "    </tr>\n",
       "    <tr>\n",
       "      <th>González Catán</th>\n",
       "      <td>1</td>\n",
       "      <td>1</td>\n",
       "      <td>1</td>\n",
       "      <td>1</td>\n",
       "      <td>1</td>\n",
       "      <td>1</td>\n",
       "      <td>1</td>\n",
       "      <td>1</td>\n",
       "      <td>1.0</td>\n",
       "      <td>1.0</td>\n",
       "      <td>1.0</td>\n",
       "      <td>1.0</td>\n",
       "      <td>1.0</td>\n",
       "      <td>1.0</td>\n",
       "      <td>1</td>\n",
       "      <td>1</td>\n",
       "    </tr>\n",
       "    <tr>\n",
       "      <th>Gregorio de Laferrere</th>\n",
       "      <td>5</td>\n",
       "      <td>5</td>\n",
       "      <td>5</td>\n",
       "      <td>5</td>\n",
       "      <td>5</td>\n",
       "      <td>5</td>\n",
       "      <td>5</td>\n",
       "      <td>5</td>\n",
       "      <td>5.0</td>\n",
       "      <td>5.0</td>\n",
       "      <td>5.0</td>\n",
       "      <td>5.0</td>\n",
       "      <td>5.0</td>\n",
       "      <td>5.0</td>\n",
       "      <td>5</td>\n",
       "      <td>5</td>\n",
       "    </tr>\n",
       "    <tr>\n",
       "      <th>Haras San Pablo</th>\n",
       "      <td>2</td>\n",
       "      <td>2</td>\n",
       "      <td>2</td>\n",
       "      <td>2</td>\n",
       "      <td>2</td>\n",
       "      <td>2</td>\n",
       "      <td>2</td>\n",
       "      <td>2</td>\n",
       "      <td>2.0</td>\n",
       "      <td>2.0</td>\n",
       "      <td>2.0</td>\n",
       "      <td>2.0</td>\n",
       "      <td>2.0</td>\n",
       "      <td>2.0</td>\n",
       "      <td>2</td>\n",
       "      <td>2</td>\n",
       "    </tr>\n",
       "    <tr>\n",
       "      <th>La horqueta de Echeverría</th>\n",
       "      <td>3</td>\n",
       "      <td>3</td>\n",
       "      <td>3</td>\n",
       "      <td>3</td>\n",
       "      <td>3</td>\n",
       "      <td>3</td>\n",
       "      <td>3</td>\n",
       "      <td>3</td>\n",
       "      <td>3.0</td>\n",
       "      <td>3.0</td>\n",
       "      <td>3.0</td>\n",
       "      <td>3.0</td>\n",
       "      <td>3.0</td>\n",
       "      <td>3.0</td>\n",
       "      <td>3</td>\n",
       "      <td>3</td>\n",
       "    </tr>\n",
       "    <tr>\n",
       "      <th>Malvinas Argentinas</th>\n",
       "      <td>1</td>\n",
       "      <td>1</td>\n",
       "      <td>1</td>\n",
       "      <td>1</td>\n",
       "      <td>1</td>\n",
       "      <td>1</td>\n",
       "      <td>1</td>\n",
       "      <td>1</td>\n",
       "      <td>1.0</td>\n",
       "      <td>1.0</td>\n",
       "      <td>1.0</td>\n",
       "      <td>1.0</td>\n",
       "      <td>1.0</td>\n",
       "      <td>1.0</td>\n",
       "      <td>1</td>\n",
       "      <td>1</td>\n",
       "    </tr>\n",
       "    <tr>\n",
       "      <th>Prados del Oeste</th>\n",
       "      <td>1</td>\n",
       "      <td>1</td>\n",
       "      <td>1</td>\n",
       "      <td>1</td>\n",
       "      <td>1</td>\n",
       "      <td>1</td>\n",
       "      <td>1</td>\n",
       "      <td>1</td>\n",
       "      <td>1.0</td>\n",
       "      <td>1.0</td>\n",
       "      <td>1.0</td>\n",
       "      <td>1.0</td>\n",
       "      <td>1.0</td>\n",
       "      <td>1.0</td>\n",
       "      <td>1</td>\n",
       "      <td>1</td>\n",
       "    </tr>\n",
       "    <tr>\n",
       "      <th>Solar del Bosque</th>\n",
       "      <td>2</td>\n",
       "      <td>2</td>\n",
       "      <td>2</td>\n",
       "      <td>2</td>\n",
       "      <td>2</td>\n",
       "      <td>2</td>\n",
       "      <td>2</td>\n",
       "      <td>2</td>\n",
       "      <td>2.0</td>\n",
       "      <td>2.0</td>\n",
       "      <td>2.0</td>\n",
       "      <td>2.0</td>\n",
       "      <td>2.0</td>\n",
       "      <td>2.0</td>\n",
       "      <td>2</td>\n",
       "      <td>2</td>\n",
       "    </tr>\n",
       "    <tr>\n",
       "      <th>Sourigues</th>\n",
       "      <td>1</td>\n",
       "      <td>1</td>\n",
       "      <td>1</td>\n",
       "      <td>1</td>\n",
       "      <td>1</td>\n",
       "      <td>1</td>\n",
       "      <td>1</td>\n",
       "      <td>1</td>\n",
       "      <td>1.0</td>\n",
       "      <td>1.0</td>\n",
       "      <td>1.0</td>\n",
       "      <td>1.0</td>\n",
       "      <td>1.0</td>\n",
       "      <td>1.0</td>\n",
       "      <td>1</td>\n",
       "      <td>1</td>\n",
       "    </tr>\n",
       "    <tr>\n",
       "      <th>Terralagos</th>\n",
       "      <td>3</td>\n",
       "      <td>3</td>\n",
       "      <td>3</td>\n",
       "      <td>3</td>\n",
       "      <td>3</td>\n",
       "      <td>3</td>\n",
       "      <td>3</td>\n",
       "      <td>3</td>\n",
       "      <td>3.0</td>\n",
       "      <td>3.0</td>\n",
       "      <td>3.0</td>\n",
       "      <td>3.0</td>\n",
       "      <td>3.0</td>\n",
       "      <td>3.0</td>\n",
       "      <td>3</td>\n",
       "      <td>3</td>\n",
       "    </tr>\n",
       "    <tr>\n",
       "      <th>Villa Celina</th>\n",
       "      <td>7</td>\n",
       "      <td>7</td>\n",
       "      <td>7</td>\n",
       "      <td>7</td>\n",
       "      <td>7</td>\n",
       "      <td>7</td>\n",
       "      <td>7</td>\n",
       "      <td>7</td>\n",
       "      <td>7.0</td>\n",
       "      <td>7.0</td>\n",
       "      <td>7.0</td>\n",
       "      <td>7.0</td>\n",
       "      <td>7.0</td>\n",
       "      <td>7.0</td>\n",
       "      <td>7</td>\n",
       "      <td>7</td>\n",
       "    </tr>\n",
       "  </tbody>\n",
       "</table>\n",
       "</div>"
      ],
      "text/plain": [
       "                           id  created_on  property_type  operation  \\\n",
       "place_name                                                            \n",
       "Abril Club de Campo         1           1              1          1   \n",
       "Altos de Hudson I           1           1              1          1   \n",
       "Bs.As. G.B.A. Zona Oeste   13          13             13         13   \n",
       "Buenos Aires Interior       1           1              1          1   \n",
       "El Rocío                    1           1              1          1   \n",
       "González Catán              1           1              1          1   \n",
       "Gregorio de Laferrere       5           5              5          5   \n",
       "Haras San Pablo             2           2              2          2   \n",
       "La horqueta de Echeverría   3           3              3          3   \n",
       "Malvinas Argentinas         1           1              1          1   \n",
       "Prados del Oeste            1           1              1          1   \n",
       "Solar del Bosque            2           2              2          2   \n",
       "Sourigues                   1           1              1          1   \n",
       "Terralagos                  3           3              3          3   \n",
       "Villa Celina                7           7              7          7   \n",
       "\n",
       "                           place_with_parent_names  country_name  state_name  \\\n",
       "place_name                                                                     \n",
       "Abril Club de Campo                              1             1           1   \n",
       "Altos de Hudson I                                1             1           1   \n",
       "Bs.As. G.B.A. Zona Oeste                        13            13          13   \n",
       "Buenos Aires Interior                            1             1           1   \n",
       "El Rocío                                         1             1           1   \n",
       "González Catán                                   1             1           1   \n",
       "Gregorio de Laferrere                            5             5           5   \n",
       "Haras San Pablo                                  2             2           2   \n",
       "La horqueta de Echeverría                        3             3           3   \n",
       "Malvinas Argentinas                              1             1           1   \n",
       "Prados del Oeste                                 1             1           1   \n",
       "Solar del Bosque                                 2             2           2   \n",
       "Sourigues                                        1             1           1   \n",
       "Terralagos                                       3             3           3   \n",
       "Villa Celina                                     7             7           7   \n",
       "\n",
       "                           lat-lon   lat   lon  surface_total_in_m2  \\\n",
       "place_name                                                            \n",
       "Abril Club de Campo              1   1.0   1.0                  1.0   \n",
       "Altos de Hudson I                1   1.0   1.0                  1.0   \n",
       "Bs.As. G.B.A. Zona Oeste        13  13.0  13.0                 13.0   \n",
       "Buenos Aires Interior            1   1.0   1.0                  1.0   \n",
       "El Rocío                         1   1.0   1.0                  1.0   \n",
       "González Catán                   1   1.0   1.0                  1.0   \n",
       "Gregorio de Laferrere            5   5.0   5.0                  5.0   \n",
       "Haras San Pablo                  2   2.0   2.0                  2.0   \n",
       "La horqueta de Echeverría        3   3.0   3.0                  3.0   \n",
       "Malvinas Argentinas              1   1.0   1.0                  1.0   \n",
       "Prados del Oeste                 1   1.0   1.0                  1.0   \n",
       "Solar del Bosque                 2   2.0   2.0                  2.0   \n",
       "Sourigues                        1   1.0   1.0                  1.0   \n",
       "Terralagos                       3   3.0   3.0                  3.0   \n",
       "Villa Celina                     7   7.0   7.0                  7.0   \n",
       "\n",
       "                           surface_covered_in_m2  floor  rooms  expenses  \\\n",
       "place_name                                                                 \n",
       "Abril Club de Campo                          1.0    1.0    1.0         1   \n",
       "Altos de Hudson I                            1.0    1.0    1.0         1   \n",
       "Bs.As. G.B.A. Zona Oeste                    13.0   13.0   13.0        13   \n",
       "Buenos Aires Interior                        1.0    1.0    1.0         1   \n",
       "El Rocío                                     1.0    1.0    1.0         1   \n",
       "González Catán                               1.0    1.0    1.0         1   \n",
       "Gregorio de Laferrere                        5.0    5.0    5.0         5   \n",
       "Haras San Pablo                              2.0    2.0    2.0         2   \n",
       "La horqueta de Echeverría                    3.0    3.0    3.0         3   \n",
       "Malvinas Argentinas                          1.0    1.0    1.0         1   \n",
       "Prados del Oeste                             1.0    1.0    1.0         1   \n",
       "Solar del Bosque                             2.0    2.0    2.0         2   \n",
       "Sourigues                                    1.0    1.0    1.0         1   \n",
       "Terralagos                                   3.0    3.0    3.0         3   \n",
       "Villa Celina                                 7.0    7.0    7.0         7   \n",
       "\n",
       "                           description  \n",
       "place_name                              \n",
       "Abril Club de Campo                  1  \n",
       "Altos de Hudson I                    1  \n",
       "Bs.As. G.B.A. Zona Oeste            13  \n",
       "Buenos Aires Interior                1  \n",
       "El Rocío                             1  \n",
       "González Catán                       1  \n",
       "Gregorio de Laferrere                5  \n",
       "Haras San Pablo                      2  \n",
       "La horqueta de Echeverría            3  \n",
       "Malvinas Argentinas                  1  \n",
       "Prados del Oeste                     1  \n",
       "Solar del Bosque                     2  \n",
       "Sourigues                            1  \n",
       "Terralagos                           3  \n",
       "Villa Celina                         7  "
      ]
     },
     "execution_count": 274,
     "metadata": {},
     "output_type": "execute_result"
    }
   ],
   "source": [
    "noLatLon = datatest[datatest.lat.isnull()].groupby('place_name').agg(np.size)\n",
    "noLatLon"
   ]
  },
  {
   "cell_type": "code",
   "execution_count": 275,
   "metadata": {},
   "outputs": [],
   "source": [
    "datatest.loc[datatest.place_name == 'Abril Club de Campo', 'lat'] = -34.802221\n",
    "datatest.loc[datatest.place_name == 'Abril Club de Campo', 'lon'] = -58.164291"
   ]
  },
  {
   "cell_type": "code",
   "execution_count": 276,
   "metadata": {},
   "outputs": [],
   "source": [
    "datatest.loc[datatest.place_name == 'Bs.As. G.B.A. Zona Oeste', 'lat'] = datatest.loc[datatest.state_name == 'Bs.As. G.B.A. Zona Oeste', 'lat'].mean()\n",
    "datatest.loc[datatest.place_name == 'Bs.As. G.B.A. Zona Oeste', 'lon'] = datatest.loc[datatest.state_name == 'Bs.As. G.B.A. Zona Oeste', 'lon'].mean()"
   ]
  },
  {
   "cell_type": "code",
   "execution_count": 277,
   "metadata": {},
   "outputs": [],
   "source": [
    "datatest.loc[datatest.place_name == 'El Rocío', 'lat'] = -34.867969\n",
    "datatest.loc[datatest.place_name == 'El Rocío', 'lon'] = -58.488543"
   ]
  },
  {
   "cell_type": "code",
   "execution_count": 278,
   "metadata": {},
   "outputs": [],
   "source": [
    "datatest.loc[datatest.place_name == \"Buenos Aires Interior\",'lat'] = -34.708663\n",
    "datatest.loc[datatest.place_name == \"Buenos Aires Interior\",'lon'] = -58.973401"
   ]
  },
  {
   "cell_type": "code",
   "execution_count": 279,
   "metadata": {},
   "outputs": [],
   "source": [
    "datatest.loc[datatest.place_name == \"Altos de Hudson I\",'lat'] = -34.862623\n",
    "datatest.loc[datatest.place_name == \"Altos de Hudson I\",'lon'] = -58.168622"
   ]
  },
  {
   "cell_type": "code",
   "execution_count": 280,
   "metadata": {},
   "outputs": [],
   "source": [
    "datatest.loc[datatest.place_name == \"González Catán\",'lat'] = -34.769133\n",
    "datatest.loc[datatest.place_name == \"González Catán\",'lon'] = -58.628477"
   ]
  },
  {
   "cell_type": "code",
   "execution_count": 281,
   "metadata": {},
   "outputs": [],
   "source": [
    "datatest.loc[datatest.place_name == \"Gregorio de Laferrere\",'lat'] = -34.743953\n",
    "datatest.loc[datatest.place_name == \"Gregorio de Laferrere\",'lon'] = -58.592342"
   ]
  },
  {
   "cell_type": "code",
   "execution_count": 282,
   "metadata": {},
   "outputs": [],
   "source": [
    "datatest.loc[datatest.place_name == \"Haras San Pablo\",'lat'] = -34.606195\n",
    "datatest.loc[datatest.place_name == \"Haras San Pablo\",'lon'] = -59.038684"
   ]
  },
  {
   "cell_type": "code",
   "execution_count": 283,
   "metadata": {},
   "outputs": [],
   "source": [
    "datatest.loc[datatest.place_name == \"La horqueta de Echeverría\",'lat'] = -34.897656\n",
    "datatest.loc[datatest.place_name == \"La horqueta de Echeverría\",'lon'] = -58.484175"
   ]
  },
  {
   "cell_type": "code",
   "execution_count": 284,
   "metadata": {},
   "outputs": [],
   "source": [
    "datatest.loc[datatest.place_name == \"Malvinas Argentinas\",'lat'] = -34.482412\n",
    "datatest.loc[datatest.place_name == \"Malvinas Argentinas\",'lon'] = -58.717893"
   ]
  },
  {
   "cell_type": "code",
   "execution_count": 285,
   "metadata": {},
   "outputs": [],
   "source": [
    "datatest.loc[datatest.place_name == \"Prados del Oeste\",'lat'] = -34.594077\n",
    "datatest.loc[datatest.place_name == \"Prados del Oeste\",'lon'] = -58.829508"
   ]
  },
  {
   "cell_type": "code",
   "execution_count": 286,
   "metadata": {},
   "outputs": [],
   "source": [
    "datatest.loc[datatest.place_name == \"Solar del Bosque\",'lat'] = -34.905555\n",
    "datatest.loc[datatest.place_name == \"Solar del Bosque\",'lon'] = -58.507635"
   ]
  },
  {
   "cell_type": "code",
   "execution_count": 287,
   "metadata": {},
   "outputs": [],
   "source": [
    "datatest.loc[datatest.place_name == \"Sourigues\",'lat'] = -34.800140\n",
    "datatest.loc[datatest.place_name == \"Sourigues\",'lon'] = -58.220011"
   ]
  },
  {
   "cell_type": "code",
   "execution_count": 288,
   "metadata": {},
   "outputs": [],
   "source": [
    "datatest.loc[datatest.place_name == \"Terralagos\",'lat'] = -34.907001\n",
    "datatest.loc[datatest.place_name == \"Terralagos\",'lon'] = -58.514885"
   ]
  },
  {
   "cell_type": "code",
   "execution_count": 289,
   "metadata": {},
   "outputs": [],
   "source": [
    "datatest.loc[datatest.place_name == \"Villa Celina\",'lat'] = -34.706311\n",
    "datatest.loc[datatest.place_name == \"Villa Celina\",'lon'] = -58.483025"
   ]
  },
  {
   "cell_type": "code",
   "execution_count": 290,
   "metadata": {},
   "outputs": [],
   "source": [
    "del datatest['lat-lon']"
   ]
  },
  {
   "cell_type": "code",
   "execution_count": 291,
   "metadata": {},
   "outputs": [
    {
     "name": "stdout",
     "output_type": "stream",
     "text": [
      "<class 'pandas.core.frame.DataFrame'>\n",
      "RangeIndex: 14166 entries, 0 to 14165\n",
      "Data columns (total 16 columns):\n",
      "id                         14166 non-null int64\n",
      "created_on                 14166 non-null object\n",
      "property_type              14166 non-null object\n",
      "operation                  14166 non-null object\n",
      "place_name                 14166 non-null object\n",
      "place_with_parent_names    14166 non-null object\n",
      "country_name               14166 non-null object\n",
      "state_name                 14166 non-null object\n",
      "lat                        14166 non-null float64\n",
      "lon                        14166 non-null float64\n",
      "surface_total_in_m2        11853 non-null float64\n",
      "surface_covered_in_m2      13005 non-null float64\n",
      "floor                      1368 non-null float64\n",
      "rooms                      7500 non-null float64\n",
      "expenses                   2543 non-null object\n",
      "description                14166 non-null object\n",
      "dtypes: float64(6), int64(1), object(9)\n",
      "memory usage: 1.7+ MB\n"
     ]
    }
   ],
   "source": [
    "datatest.info()\n"
   ]
  },
  {
   "cell_type": "code",
   "execution_count": 292,
   "metadata": {},
   "outputs": [],
   "source": [
    "def property_type_to_num(x):\n",
    "    if x == \"departamento\":\n",
    "        return 0\n",
    "    if x == \"casa\":\n",
    "        return 1\n",
    "    return 2"
   ]
  },
  {
   "cell_type": "code",
   "execution_count": 293,
   "metadata": {},
   "outputs": [],
   "source": [
    "datatest['property_type'] = datatest['property_type'].apply(lambda x: property_type_to_num(x))"
   ]
  },
  {
   "cell_type": "code",
   "execution_count": 294,
   "metadata": {},
   "outputs": [],
   "source": [
    "datatest.loc[datatest.surface_covered_in_m2 > datatest.surface_total_in_m2,'aux'] = \\\n",
    "datatest.loc[datatest.surface_covered_in_m2 > datatest.surface_total_in_m2, 'surface_covered_in_m2']\n",
    "\n",
    "datatest.loc[datatest.surface_covered_in_m2 > datatest.surface_total_in_m2, 'surface_covered_in_m2'] = \\\n",
    "datatest.loc[datatest.surface_covered_in_m2 > datatest.surface_total_in_m2, 'surface_total_in_m2']\n",
    "\n",
    "datatest.loc[datatest.aux > datatest.surface_total_in_m2, 'surface_total_in_m2'] = \\\n",
    "datatest.loc[datatest.aux > datatest.surface_total_in_m2, 'aux']"
   ]
  },
  {
   "cell_type": "code",
   "execution_count": 295,
   "metadata": {},
   "outputs": [],
   "source": [
    "del datatest['aux']"
   ]
  },
  {
   "cell_type": "code",
   "execution_count": 296,
   "metadata": {},
   "outputs": [],
   "source": [
    "datatest.loc[datatest.surface_total_in_m2 == 0, 'surface_total_in_m2'] = np.NaN"
   ]
  },
  {
   "cell_type": "code",
   "execution_count": 297,
   "metadata": {},
   "outputs": [],
   "source": [
    "from sklearn.neighbors import KNeighborsRegressor\n",
    "\n",
    "knn = KNeighborsRegressor(n_neighbors = 3, p = 1, weights = 'distance')"
   ]
  },
  {
   "cell_type": "code",
   "execution_count": 298,
   "metadata": {},
   "outputs": [],
   "source": [
    "cond = ((datatest.surface_covered_in_m2.isnull()) & (datatest.surface_total_in_m2.isnull()))\n",
    "rest = datatest[cond == False]\n",
    "train = rest[rest.surface_covered_in_m2.notnull()]\n",
    "rest = rest[rest.surface_covered_in_m2.isnull()]\n",
    "test = datatest[cond]"
   ]
  },
  {
   "cell_type": "code",
   "execution_count": 299,
   "metadata": {},
   "outputs": [
    {
     "data": {
      "text/plain": [
       "KNeighborsRegressor(algorithm='auto', leaf_size=30, metric='minkowski',\n",
       "          metric_params=None, n_jobs=1, n_neighbors=3, p=1,\n",
       "          weights='distance')"
      ]
     },
     "execution_count": 299,
     "metadata": {},
     "output_type": "execute_result"
    }
   ],
   "source": [
    "knn.fit(train[['property_type', 'lat', 'lon']], train['surface_covered_in_m2'])"
   ]
  },
  {
   "cell_type": "code",
   "execution_count": 300,
   "metadata": {},
   "outputs": [],
   "source": [
    "predictions = knn.predict(test[['property_type', 'lat', 'lon']])"
   ]
  },
  {
   "cell_type": "code",
   "execution_count": 301,
   "metadata": {},
   "outputs": [],
   "source": [
    "test= test.reset_index(drop = True)\n",
    "test.surface_covered_in_m2 = pd.Series(predictions)"
   ]
  },
  {
   "cell_type": "code",
   "execution_count": 302,
   "metadata": {},
   "outputs": [],
   "source": [
    "datatest = pd.concat([train, test, rest])"
   ]
  },
  {
   "cell_type": "code",
   "execution_count": 303,
   "metadata": {},
   "outputs": [],
   "source": [
    "datatest = datatest.reset_index(drop = True)"
   ]
  },
  {
   "cell_type": "code",
   "execution_count": 304,
   "metadata": {},
   "outputs": [],
   "source": [
    "datatest['covered/total'] = datatest['surface_covered_in_m2']/datatest['surface_total_in_m2']"
   ]
  },
  {
   "cell_type": "code",
   "execution_count": 305,
   "metadata": {},
   "outputs": [],
   "source": [
    "rest = datatest[datatest.surface_total_in_m2.isnull()]\n",
    "train = datatest[datatest.surface_total_in_m2.notnull()]\n",
    "test = train[train['covered/total'].isnull()]\n",
    "train = train[train['covered/total'].notnull()]"
   ]
  },
  {
   "cell_type": "code",
   "execution_count": 306,
   "metadata": {},
   "outputs": [
    {
     "data": {
      "text/plain": [
       "KNeighborsRegressor(algorithm='auto', leaf_size=30, metric='minkowski',\n",
       "          metric_params=None, n_jobs=1, n_neighbors=3, p=1,\n",
       "          weights='distance')"
      ]
     },
     "execution_count": 306,
     "metadata": {},
     "output_type": "execute_result"
    }
   ],
   "source": [
    "knn.fit(train[['property_type', 'lat', 'lon','surface_total_in_m2']], train['covered/total'])"
   ]
  },
  {
   "cell_type": "code",
   "execution_count": 307,
   "metadata": {},
   "outputs": [],
   "source": [
    "predictions = knn.predict(test[['property_type', 'lat', 'lon','surface_total_in_m2']])"
   ]
  },
  {
   "cell_type": "code",
   "execution_count": 308,
   "metadata": {},
   "outputs": [],
   "source": [
    "test= test.reset_index(drop = True)\n",
    "test['covered/total'] = pd.Series(predictions)\n",
    "datatest = pd.concat([train, test, rest])\n",
    "datatest = datatest.reset_index(drop = True)\n",
    "datatest.loc[datatest['surface_covered_in_m2'].isnull(),'surface_covered_in_m2'] = datatest['surface_total_in_m2']*datatest['covered/total']"
   ]
  },
  {
   "cell_type": "code",
   "execution_count": 309,
   "metadata": {},
   "outputs": [],
   "source": [
    "del datatest['covered/total']\n",
    "datatest['covered/total'] = datatest['surface_covered_in_m2']/datatest['surface_total_in_m2']"
   ]
  },
  {
   "cell_type": "code",
   "execution_count": 310,
   "metadata": {},
   "outputs": [],
   "source": [
    "test = datatest[datatest['covered/total'].isnull()]\n",
    "train = datatest[datatest['covered/total'].notnull()]"
   ]
  },
  {
   "cell_type": "code",
   "execution_count": 311,
   "metadata": {},
   "outputs": [
    {
     "data": {
      "text/plain": [
       "KNeighborsRegressor(algorithm='auto', leaf_size=30, metric='minkowski',\n",
       "          metric_params=None, n_jobs=1, n_neighbors=3, p=1,\n",
       "          weights='distance')"
      ]
     },
     "execution_count": 311,
     "metadata": {},
     "output_type": "execute_result"
    }
   ],
   "source": [
    "knn.fit(train[['property_type', 'lat', 'lon','surface_covered_in_m2']], train['covered/total'])"
   ]
  },
  {
   "cell_type": "code",
   "execution_count": 312,
   "metadata": {},
   "outputs": [],
   "source": [
    "predictions = knn.predict(test[['property_type', 'lat', 'lon','surface_covered_in_m2']])"
   ]
  },
  {
   "cell_type": "code",
   "execution_count": 313,
   "metadata": {},
   "outputs": [],
   "source": [
    "test= test.reset_index(drop = True)\n",
    "test['covered/total'] = pd.Series(predictions)\n",
    "datatest = pd.concat([train, test])\n",
    "datatest = datatest.reset_index(drop = True)"
   ]
  },
  {
   "cell_type": "code",
   "execution_count": 314,
   "metadata": {},
   "outputs": [],
   "source": [
    "datatest.loc[datatest.surface_total_in_m2.isnull(),'surface_total_in_m2'] = datatest['surface_covered_in_m2']/datatest['covered/total']\n",
    "del datatest['covered/total']"
   ]
  },
  {
   "cell_type": "code",
   "execution_count": 315,
   "metadata": {},
   "outputs": [],
   "source": [
    "datatest.loc[datatest.floor > 100, 'floor'] = np.NaN"
   ]
  },
  {
   "cell_type": "code",
   "execution_count": 316,
   "metadata": {},
   "outputs": [],
   "source": [
    "test = datatest[datatest['floor'].isnull()]\n",
    "train = datatest[datatest['floor'].notnull()]"
   ]
  },
  {
   "cell_type": "code",
   "execution_count": 317,
   "metadata": {},
   "outputs": [
    {
     "data": {
      "text/plain": [
       "KNeighborsRegressor(algorithm='auto', leaf_size=30, metric='minkowski',\n",
       "          metric_params=None, n_jobs=1, n_neighbors=3, p=1,\n",
       "          weights='distance')"
      ]
     },
     "execution_count": 317,
     "metadata": {},
     "output_type": "execute_result"
    }
   ],
   "source": [
    "knn.fit(train[['property_type', 'lat', 'lon','surface_covered_in_m2','surface_total_in_m2']], train['floor'])"
   ]
  },
  {
   "cell_type": "code",
   "execution_count": 318,
   "metadata": {},
   "outputs": [],
   "source": [
    "predictions = knn.predict(test[['property_type', 'lat', 'lon','surface_covered_in_m2','surface_total_in_m2']])"
   ]
  },
  {
   "cell_type": "code",
   "execution_count": 319,
   "metadata": {},
   "outputs": [],
   "source": [
    "test= test.reset_index(drop = True)\n",
    "test['floor'] = pd.Series(predictions)\n",
    "datatest = pd.concat([train, test])\n",
    "datatest = datatest.reset_index(drop = True)"
   ]
  },
  {
   "cell_type": "code",
   "execution_count": 320,
   "metadata": {},
   "outputs": [],
   "source": [
    "datatest['floor'] = datatest['floor'].apply(lambda x: (float)((int)(x)))"
   ]
  },
  {
   "cell_type": "code",
   "execution_count": 321,
   "metadata": {},
   "outputs": [],
   "source": [
    "datatest.loc[datatest.rooms>16,'rooms'] = np.NaN"
   ]
  },
  {
   "cell_type": "code",
   "execution_count": 322,
   "metadata": {},
   "outputs": [],
   "source": [
    "test = datatest[datatest['rooms'].isnull()]\n",
    "train = datatest[datatest['rooms'].notnull()]"
   ]
  },
  {
   "cell_type": "code",
   "execution_count": 323,
   "metadata": {},
   "outputs": [
    {
     "data": {
      "text/plain": [
       "KNeighborsRegressor(algorithm='auto', leaf_size=30, metric='minkowski',\n",
       "          metric_params=None, n_jobs=1, n_neighbors=3, p=1,\n",
       "          weights='distance')"
      ]
     },
     "execution_count": 323,
     "metadata": {},
     "output_type": "execute_result"
    }
   ],
   "source": [
    "knn.fit(train[['property_type', 'lat', 'lon','surface_covered_in_m2','surface_total_in_m2','floor']], train['rooms'])"
   ]
  },
  {
   "cell_type": "code",
   "execution_count": 324,
   "metadata": {},
   "outputs": [],
   "source": [
    "predictions = knn.predict(test[['property_type', 'lat', 'lon','surface_covered_in_m2','surface_total_in_m2','floor']])"
   ]
  },
  {
   "cell_type": "code",
   "execution_count": 325,
   "metadata": {},
   "outputs": [],
   "source": [
    "test= test.reset_index(drop = True)\n",
    "test['rooms'] = pd.Series(predictions)\n",
    "datatest = pd.concat([train, test])\n",
    "datatest = datatest.reset_index(drop = True)"
   ]
  },
  {
   "cell_type": "code",
   "execution_count": 326,
   "metadata": {},
   "outputs": [],
   "source": [
    "datatest['rooms'] = datatest['rooms'].apply(lambda x: (float)((int)(x)))"
   ]
  },
  {
   "cell_type": "code",
   "execution_count": 327,
   "metadata": {},
   "outputs": [],
   "source": [
    "datatest['rooms'] = datatest['rooms'].apply(lambda x: 1.0 if x<1 else x)"
   ]
  },
  {
   "cell_type": "code",
   "execution_count": 328,
   "metadata": {},
   "outputs": [],
   "source": [
    "datatest.loc[datatest.expenses.str.isdigit() == False,'expenses'] = np.NaN"
   ]
  },
  {
   "cell_type": "code",
   "execution_count": 329,
   "metadata": {},
   "outputs": [],
   "source": [
    "datatest['expenses'] = datatest['expenses'].apply(lambda x : float(x))"
   ]
  },
  {
   "cell_type": "code",
   "execution_count": 330,
   "metadata": {},
   "outputs": [],
   "source": [
    "datatest.loc[datatest.expenses >50000,'expenses'] = np.NaN"
   ]
  },
  {
   "cell_type": "code",
   "execution_count": 331,
   "metadata": {},
   "outputs": [],
   "source": [
    "test = datatest[datatest['expenses'].isnull()]\n",
    "train = datatest[datatest['expenses'].notnull()]"
   ]
  },
  {
   "cell_type": "code",
   "execution_count": 332,
   "metadata": {},
   "outputs": [
    {
     "data": {
      "text/plain": [
       "KNeighborsRegressor(algorithm='auto', leaf_size=30, metric='minkowski',\n",
       "          metric_params=None, n_jobs=1, n_neighbors=3, p=1,\n",
       "          weights='distance')"
      ]
     },
     "execution_count": 332,
     "metadata": {},
     "output_type": "execute_result"
    }
   ],
   "source": [
    "knn.fit(train[['property_type', 'lat', 'lon','surface_covered_in_m2','surface_total_in_m2','floor','rooms']], train['expenses'])"
   ]
  },
  {
   "cell_type": "code",
   "execution_count": 333,
   "metadata": {},
   "outputs": [],
   "source": [
    "predictions = knn.predict(test[['property_type', 'lat', 'lon','surface_covered_in_m2','surface_total_in_m2','floor','rooms']])"
   ]
  },
  {
   "cell_type": "code",
   "execution_count": 334,
   "metadata": {},
   "outputs": [],
   "source": [
    "test= test.reset_index(drop = True)\n",
    "test['expenses'] = pd.Series(predictions)\n",
    "datatest = pd.concat([train, test])\n",
    "datatest = datatest.reset_index(drop = True)"
   ]
  },
  {
   "cell_type": "code",
   "execution_count": 335,
   "metadata": {},
   "outputs": [
    {
     "name": "stdout",
     "output_type": "stream",
     "text": [
      "<class 'pandas.core.frame.DataFrame'>\n",
      "RangeIndex: 14166 entries, 0 to 14165\n",
      "Data columns (total 16 columns):\n",
      "id                         14166 non-null int64\n",
      "created_on                 14166 non-null object\n",
      "property_type              14166 non-null int64\n",
      "operation                  14166 non-null object\n",
      "place_name                 14166 non-null object\n",
      "place_with_parent_names    14166 non-null object\n",
      "country_name               14166 non-null object\n",
      "state_name                 14166 non-null object\n",
      "lat                        14166 non-null float64\n",
      "lon                        14166 non-null float64\n",
      "surface_total_in_m2        14166 non-null float64\n",
      "surface_covered_in_m2      14166 non-null float64\n",
      "floor                      14166 non-null float64\n",
      "rooms                      14166 non-null float64\n",
      "expenses                   14166 non-null float64\n",
      "description                14166 non-null object\n",
      "dtypes: float64(7), int64(2), object(7)\n",
      "memory usage: 1.7+ MB\n"
     ]
    }
   ],
   "source": [
    "datatest.info()"
   ]
  },
  {
   "cell_type": "code",
   "execution_count": 337,
   "metadata": {},
   "outputs": [],
   "source": [
    "datatest.to_csv(\"csvs/datatestSinNan.csv\", index = False)"
   ]
  },
  {
   "cell_type": "code",
   "execution_count": null,
   "metadata": {},
   "outputs": [],
   "source": []
  }
 ],
 "metadata": {
  "kernelspec": {
   "display_name": "Python 3",
   "language": "python",
   "name": "python3"
  },
  "language_info": {
   "codemirror_mode": {
    "name": "ipython",
    "version": 3
   },
   "file_extension": ".py",
   "mimetype": "text/x-python",
   "name": "python",
   "nbconvert_exporter": "python",
   "pygments_lexer": "ipython3",
   "version": "3.5.2"
  }
 },
 "nbformat": 4,
 "nbformat_minor": 2
}
