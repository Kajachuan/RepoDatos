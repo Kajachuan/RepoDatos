{
 "cells": [
  {
   "cell_type": "code",
   "execution_count": 113,
   "metadata": {},
   "outputs": [],
   "source": [
    "import pandas as pd\n",
    "import numpy as np"
   ]
  },
  {
   "cell_type": "code",
   "execution_count": 114,
   "metadata": {},
   "outputs": [],
   "source": [
    "data = pd.read_csv('csvs/datosFiltrados.csv', low_memory=False)"
   ]
  },
  {
   "cell_type": "code",
   "execution_count": 115,
   "metadata": {},
   "outputs": [
    {
     "name": "stdout",
     "output_type": "stream",
     "text": [
      "<class 'pandas.core.frame.DataFrame'>\n",
      "RangeIndex: 158352 entries, 0 to 158351\n",
      "Data columns (total 12 columns):\n",
      "created_on                 158352 non-null object\n",
      "description                158352 non-null object\n",
      "expenses                   21572 non-null float64\n",
      "floor                      18702 non-null float64\n",
      "lat                        158352 non-null float64\n",
      "lon                        158352 non-null float64\n",
      "place_with_parent_names    158352 non-null object\n",
      "price_aprox_usd            158352 non-null float64\n",
      "property_type              158352 non-null object\n",
      "rooms                      97155 non-null float64\n",
      "surface_covered_in_m2      139468 non-null float64\n",
      "surface_total_in_m2        112609 non-null float64\n",
      "dtypes: float64(8), object(4)\n",
      "memory usage: 14.5+ MB\n"
     ]
    }
   ],
   "source": [
    "data.info()"
   ]
  },
  {
   "cell_type": "code",
   "execution_count": 116,
   "metadata": {},
   "outputs": [],
   "source": [
    "data.loc[data.expenses.notnull(), 'expenses/price'] = data['expenses']/data['price_aprox_usd']"
   ]
  },
  {
   "cell_type": "code",
   "execution_count": 117,
   "metadata": {},
   "outputs": [],
   "source": [
    "meanHouse = data[data['property_type'] == 'house']['expenses/price'].mean()\n",
    "meanApart = data[data['property_type'] == 'apartment']['expenses/price'].mean()\n",
    "meanPH = data[data['property_type'] == 'PH']['expenses/price'].mean()\n",
    "meanStore = data[data['property_type'] == 'store']['expenses/price'].mean()\n",
    "\n",
    "data.loc[data['property_type'] == \"apartment\",'expenses/price'] = data['expenses/price'].apply(lambda x: meanApart if np.isnan(x) else x)\n",
    "data.loc[data['property_type'] == \"house\",'expenses/price'] = data['expenses/price'].apply(lambda x: meanHouse if np.isnan(x) else x)\n",
    "data.loc[data['property_type'] == \"PH\",'expenses/price'] = data['expenses/price'].apply(lambda x: meanPH if np.isnan(x) else x)\n",
    "data.loc[data['property_type'] == \"store\",'expenses/price'] = data['expenses/price'].apply(lambda x: meanStore if np.isnan(x) else x)\n"
   ]
  },
  {
   "cell_type": "code",
   "execution_count": 118,
   "metadata": {},
   "outputs": [],
   "source": [
    "data.loc[data.expenses.isnull(), 'expenses'] = data['expenses/price']*data['price_aprox_usd']\n",
    "del data['expenses/price']"
   ]
  },
  {
   "cell_type": "code",
   "execution_count": 119,
   "metadata": {},
   "outputs": [],
   "source": [
    "data.loc[data.surface_total_in_m2.notnull(), 'surface/price'] = data['surface_total_in_m2']/data['price_aprox_usd']"
   ]
  },
  {
   "cell_type": "code",
   "execution_count": 120,
   "metadata": {},
   "outputs": [],
   "source": [
    "meanHouse = data[data['property_type'] == 'house']['surface/price'].mean()\n",
    "meanApart = data[data['property_type'] == 'apartment']['surface/price'].mean()\n",
    "meanPH = data[data['property_type'] == 'PH']['surface/price'].mean()\n",
    "meanStore = data[data['property_type'] == 'store']['surface/price'].mean()\n",
    "\n",
    "data.loc[data['property_type'] == \"apartment\",'surface/price'] = data['surface/price'].apply(lambda x: meanApart if np.isnan(x) else x)\n",
    "data.loc[data['property_type'] == \"house\",'surface/price'] = data['surface/price'].apply(lambda x: meanHouse if np.isnan(x) else x)\n",
    "data.loc[data['property_type'] == \"PH\",'surface/price'] = data['surface/price'].apply(lambda x: meanPH if np.isnan(x) else x)\n",
    "data.loc[data['property_type'] == \"store\",'surface/price'] = data['surface/price'].apply(lambda x: meanStore if np.isnan(x) else x)\n"
   ]
  },
  {
   "cell_type": "code",
   "execution_count": 122,
   "metadata": {},
   "outputs": [],
   "source": [
    "data.loc[data.surface_total_in_m2.isnull(), 'surface_total_in_m2'] = data['surface/price']*data['price_aprox_usd']\n",
    "del data['surface/price']"
   ]
  },
  {
   "cell_type": "code",
   "execution_count": 123,
   "metadata": {},
   "outputs": [],
   "source": [
    "data.loc[data.surface_covered_in_m2.notnull(), 'surface/price'] = data['surface_covered_in_m2']*data['price_aprox_usd']/data['surface_total_in_m2']"
   ]
  },
  {
   "cell_type": "code",
   "execution_count": 124,
   "metadata": {},
   "outputs": [],
   "source": [
    "meanHouse = data[data['property_type'] == 'house']['surface/price'].mean()\n",
    "meanApart = data[data['property_type'] == 'apartment']['surface/price'].mean()\n",
    "meanPH = data[data['property_type'] == 'PH']['surface/price'].mean()\n",
    "meanStore = data[data['property_type'] == 'store']['surface/price'].mean()\n",
    "\n",
    "data.loc[data['property_type'] == \"apartment\",'surface/price'] = data['surface/price'].apply(lambda x: meanApart if np.isnan(x) else x)\n",
    "data.loc[data['property_type'] == \"house\",'surface/price'] = data['surface/price'].apply(lambda x: meanHouse if np.isnan(x) else x)\n",
    "data.loc[data['property_type'] == \"PH\",'surface/price'] = data['surface/price'].apply(lambda x: meanPH if np.isnan(x) else x)\n",
    "data.loc[data['property_type'] == \"store\",'surface/price'] = data['surface/price'].apply(lambda x: meanStore if np.isnan(x) else x)\n"
   ]
  },
  {
   "cell_type": "code",
   "execution_count": 125,
   "metadata": {},
   "outputs": [],
   "source": [
    "data.loc[data.surface_covered_in_m2.isnull(),'surface_covered_in_m2'] = data['surface/price']*data['surface_total_in_m2']/data['price_aprox_usd']\n",
    "del data['surface/price']"
   ]
  },
  {
   "cell_type": "code",
   "execution_count": 126,
   "metadata": {},
   "outputs": [],
   "source": [
    "data.loc[data.rooms.notnull(), 'rooms*price'] = data['rooms']*data['price_aprox_usd']"
   ]
  },
  {
   "cell_type": "code",
   "execution_count": 127,
   "metadata": {},
   "outputs": [],
   "source": [
    "meanHouse = data[data['property_type'] == 'house']['rooms*price'].mean()\n",
    "meanApart = data[data['property_type'] == 'apartment']['rooms*price'].mean()\n",
    "meanPH = data[data['property_type'] == 'PH']['rooms*price'].mean()\n",
    "meanStore = data[data['property_type'] == 'store']['rooms*price'].mean()\n",
    "\n",
    "data.loc[data['property_type'] == \"apartment\",'rooms*price'] = data['rooms*price'].apply(lambda x: meanApart if np.isnan(x) else x)\n",
    "data.loc[data['property_type'] == \"house\",'rooms*price'] = data['rooms*price'].apply(lambda x: meanHouse if np.isnan(x) else x)\n",
    "data.loc[data['property_type'] == \"PH\",'rooms*price'] = data['rooms*price'].apply(lambda x: meanPH if np.isnan(x) else x)\n",
    "data.loc[data['property_type'] == \"store\",'rooms*price'] = data['rooms*price'].apply(lambda x: meanStore if np.isnan(x) else x)\n"
   ]
  },
  {
   "cell_type": "code",
   "execution_count": 128,
   "metadata": {},
   "outputs": [],
   "source": [
    "data.loc[data.rooms.isnull(),'rooms'] = data['rooms*price']/data['price_aprox_usd']\n",
    "del data['rooms*price']"
   ]
  },
  {
   "cell_type": "code",
   "execution_count": 129,
   "metadata": {},
   "outputs": [],
   "source": [
    "data['rooms'] = data['rooms'].apply(lambda x: (float)((int)(x)))"
   ]
  },
  {
   "cell_type": "code",
   "execution_count": 130,
   "metadata": {},
   "outputs": [],
   "source": [
    "data.loc[data.floor.notnull(), 'floor*price'] = data['floor']*data['price_aprox_usd']"
   ]
  },
  {
   "cell_type": "code",
   "execution_count": 131,
   "metadata": {},
   "outputs": [],
   "source": [
    "meanHouse = data[data['property_type'] == 'house']['floor*price'].mean()\n",
    "meanApart = data[data['property_type'] == 'apartment']['floor*price'].mean()\n",
    "meanPH = data[data['property_type'] == 'PH']['floor*price'].mean()\n",
    "meanStore = data[data['property_type'] == 'store']['floor*price'].mean()\n",
    "\n",
    "data.loc[data['property_type'] == \"apartment\",'floor*price'] = data['floor*price'].apply(lambda x: meanApart if np.isnan(x) else x)\n",
    "data.loc[data['property_type'] == \"house\",'floor*price'] = data['floor*price'].apply(lambda x: meanHouse if np.isnan(x) else x)\n",
    "data.loc[data['property_type'] == \"PH\",'floor*price'] = data['floor*price'].apply(lambda x: meanPH if np.isnan(x) else x)\n",
    "data.loc[data['property_type'] == \"store\",'floor*price'] = data['floor*price'].apply(lambda x: meanStore if np.isnan(x) else x)\n"
   ]
  },
  {
   "cell_type": "code",
   "execution_count": 132,
   "metadata": {},
   "outputs": [],
   "source": [
    "data.loc[data.floor.isnull(),'floor'] = data['floor*price']/data['price_aprox_usd']\n",
    "del data['floor*price']"
   ]
  },
  {
   "cell_type": "code",
   "execution_count": 133,
   "metadata": {},
   "outputs": [],
   "source": [
    "data['floor'] = data['floor'].apply(lambda x: (float)((int)(x)))"
   ]
  },
  {
   "cell_type": "code",
   "execution_count": 141,
   "metadata": {},
   "outputs": [
    {
     "name": "stdout",
     "output_type": "stream",
     "text": [
      "<class 'pandas.core.frame.DataFrame'>\n",
      "RangeIndex: 158352 entries, 0 to 158351\n",
      "Data columns (total 12 columns):\n",
      "created_on                 158352 non-null object\n",
      "description                158352 non-null object\n",
      "expenses                   158352 non-null float64\n",
      "floor                      158352 non-null float64\n",
      "lat                        158352 non-null float64\n",
      "lon                        158352 non-null float64\n",
      "place_with_parent_names    158352 non-null object\n",
      "price_aprox_usd            158352 non-null float64\n",
      "property_type              158352 non-null object\n",
      "rooms                      158352 non-null float64\n",
      "surface_covered_in_m2      158352 non-null float64\n",
      "surface_total_in_m2        158352 non-null float64\n",
      "dtypes: float64(8), object(4)\n",
      "memory usage: 14.5+ MB\n"
     ]
    }
   ],
   "source": [
    "data.info()"
   ]
  },
  {
   "cell_type": "code",
   "execution_count": 135,
   "metadata": {},
   "outputs": [],
   "source": [
    "data.to_csv(\"csvs/datosSinNan.csv\", index = False)"
   ]
  },
  {
   "cell_type": "code",
   "execution_count": null,
   "metadata": {},
   "outputs": [],
   "source": []
  }
 ],
 "metadata": {
  "kernelspec": {
   "display_name": "Python 3",
   "language": "python",
   "name": "python3"
  },
  "language_info": {
   "codemirror_mode": {
    "name": "ipython",
    "version": 3
   },
   "file_extension": ".py",
   "mimetype": "text/x-python",
   "name": "python",
   "nbconvert_exporter": "python",
   "pygments_lexer": "ipython3",
   "version": "3.5.2"
  }
 },
 "nbformat": 4,
 "nbformat_minor": 2
}
