{
 "cells": [
  {
   "cell_type": "code",
   "execution_count": 12,
   "metadata": {},
   "outputs": [],
   "source": [
    "import pandas as pd\n",
    "import numpy as np\n",
    "import matplotlib.pyplot as plt\n",
    "%matplotlib inline"
   ]
  },
  {
   "cell_type": "code",
   "execution_count": 13,
   "metadata": {},
   "outputs": [],
   "source": [
    "data1 = pd.read_csv('csvs/properati-AR-2016-01-01-properties-sell.csv')\n",
    "data2 = pd.read_csv('csvs/properati-AR-2016-02-01-properties-sell.csv')\n",
    "data3 = pd.read_csv('csvs/properati-AR-2016-03-01-properties-sell.csv')\n",
    "data4 = pd.read_csv('csvs/properati-AR-2016-04-01-properties-sell.csv')\n",
    "data5 = pd.read_csv('csvs/properati-AR-2016-05-01-properties-sell.csv')\n",
    "data6 = pd.read_csv('csvs/properati-AR-2016-06-01-properties-sell.csv')\n",
    "data7 = pd.read_csv('csvs/properati-AR-2016-07-01-properties-sell.csv')\n",
    "data8 = pd.read_csv('csvs/properati-AR-2016-08-01-properties-sell.csv')\n",
    "data9 = pd.read_csv('csvs/properati-AR-2016-09-01-properties-sell.csv')\n",
    "data10 = pd.read_csv('csvs/properati-AR-2016-10-01-properties-sell.csv')\n",
    "data11 = pd.read_csv('csvs/properati-AR-2016-11-01-properties-sell.csv')\n",
    "data12 = pd.read_csv('csvs/properati-AR-2016-12-01-properties-sell.csv')\n",
    "data13 = pd.read_csv('csvs/properati-AR-2017-01-01-properties-sell.csv')\n",
    "data14 = pd.read_csv('csvs/properati-AR-2017-02-01-properties-sell.csv')\n",
    "data15 = pd.read_csv('csvs/properati-AR-2017-03-01-properties-sell.csv')\n",
    "data16 = pd.read_csv('csvs/properati-AR-2017-04-01-properties-sell.csv')\n",
    "data17 = pd.read_csv('csvs/properati-AR-2017-05-01-properties-sell.csv')\n",
    "data18 = pd.read_csv('csvs/properati-AR-2017-06-01-properties-sell.csv')\n",
    "data19 = pd.read_csv('csvs/properati-AR-2017-06-06-properties-sell.csv')\n",
    "data20 = pd.read_csv('csvs/properati-AR-2017-07-03-properties-sell.csv')\n",
    "data21 = pd.read_csv('csvs/properati-AR-2017-08-01-properties-sell.csv')\n",
    "data22 = pd.read_csv('csvs/properati-AR-2017-09-01-properties-sell-six_months.csv')\n",
    "data23 = pd.read_csv('csvs/properati-AR-2017-10-01-properties-sell.csv')"
   ]
  },
  {
   "cell_type": "code",
   "execution_count": 14,
   "metadata": {},
   "outputs": [],
   "source": [
    "col = list(data1.columns)"
   ]
  },
  {
   "cell_type": "code",
   "execution_count": 15,
   "metadata": {},
   "outputs": [],
   "source": [
    "data = pd.concat([data1, data2, data3, data4, data5, data6, data7, data8, data9, data10, \\\n",
    "                 data11, data12, data13, data14, data15, data16, data17, data18, data19, data20, \\\n",
    "                 data21, data22, data23])"
   ]
  },
  {
   "cell_type": "code",
   "execution_count": 16,
   "metadata": {},
   "outputs": [
    {
     "name": "stdout",
     "output_type": "stream",
     "text": [
      "<class 'pandas.core.frame.DataFrame'>\n",
      "Int64Index: 1316434 entries, 0 to 196718\n",
      "Data columns (total 27 columns):\n",
      "country_name                  1316434 non-null object\n",
      "created_on                    1316434 non-null object\n",
      "currency                      1145291 non-null object\n",
      "description                   1316356 non-null object\n",
      "expenses                      142854 non-null float64\n",
      "floor                         139886 non-null float64\n",
      "geonames_id                   1053967 non-null float64\n",
      "id                            1316434 non-null object\n",
      "image_thumbnail               318274 non-null object\n",
      "lat                           952738 non-null float64\n",
      "lat-lon                       952738 non-null object\n",
      "lon                           952738 non-null float64\n",
      "operation                     324886 non-null object\n",
      "place_name                    1316152 non-null object\n",
      "place_with_parent_names       1316434 non-null object\n",
      "price                         1162149 non-null float64\n",
      "price_aprox_local_currency    1162149 non-null float64\n",
      "price_aprox_usd               1162149 non-null float64\n",
      "price_per_m2                  1011651 non-null float64\n",
      "price_usd_per_m2              819976 non-null float64\n",
      "properati_url                 324886 non-null object\n",
      "property_type                 1316434 non-null object\n",
      "rooms                         789737 non-null float64\n",
      "state_name                    1316434 non-null object\n",
      "surface_covered_in_m2         1147593 non-null float64\n",
      "surface_total_in_m2           976190 non-null float64\n",
      "title                         1316434 non-null object\n",
      "dtypes: float64(13), object(14)\n",
      "memory usage: 281.2+ MB\n"
     ]
    }
   ],
   "source": [
    "data.info()"
   ]
  },
  {
   "cell_type": "code",
   "execution_count": 17,
   "metadata": {},
   "outputs": [],
   "source": [
    "data=data.dropna(subset=['lat-lon']).reset_index(drop = True)"
   ]
  },
  {
   "cell_type": "code",
   "execution_count": 18,
   "metadata": {},
   "outputs": [],
   "source": [
    "data = data.loc[(data.place_with_parent_names.str.contains('Capital Federal')) | (data.place_with_parent_names.str.contains('G.B.A.'))]"
   ]
  },
  {
   "cell_type": "code",
   "execution_count": 19,
   "metadata": {},
   "outputs": [],
   "source": [
    "data.to_csv(\"csvs/datosConDuplicados.csv\", index = False)"
   ]
  },
  {
   "cell_type": "code",
   "execution_count": 20,
   "metadata": {},
   "outputs": [
    {
     "name": "stdout",
     "output_type": "stream",
     "text": [
      "<class 'pandas.core.frame.DataFrame'>\n",
      "Int64Index: 875661 entries, 0 to 952737\n",
      "Data columns (total 27 columns):\n",
      "country_name                  875661 non-null object\n",
      "created_on                    875661 non-null object\n",
      "currency                      767011 non-null object\n",
      "description                   875641 non-null object\n",
      "expenses                      110161 non-null float64\n",
      "floor                         96544 non-null float64\n",
      "geonames_id                   690233 non-null float64\n",
      "id                            875661 non-null object\n",
      "image_thumbnail               130399 non-null object\n",
      "lat                           875661 non-null float64\n",
      "lat-lon                       875661 non-null object\n",
      "lon                           875661 non-null float64\n",
      "operation                     130399 non-null object\n",
      "place_name                    875379 non-null object\n",
      "place_with_parent_names       875661 non-null object\n",
      "price                         781422 non-null float64\n",
      "price_aprox_local_currency    781422 non-null float64\n",
      "price_aprox_usd               781422 non-null float64\n",
      "price_per_m2                  677973 non-null float64\n",
      "price_usd_per_m2              556249 non-null float64\n",
      "properati_url                 130399 non-null object\n",
      "property_type                 875661 non-null object\n",
      "rooms                         554343 non-null float64\n",
      "state_name                    875661 non-null object\n",
      "surface_covered_in_m2         763140 non-null float64\n",
      "surface_total_in_m2           663887 non-null float64\n",
      "title                         875661 non-null object\n",
      "dtypes: float64(13), object(14)\n",
      "memory usage: 187.1+ MB\n"
     ]
    }
   ],
   "source": [
    "data.info()"
   ]
  },
  {
   "cell_type": "code",
   "execution_count": null,
   "metadata": {},
   "outputs": [],
   "source": []
  },
  {
   "cell_type": "code",
   "execution_count": null,
   "metadata": {},
   "outputs": [],
   "source": []
  },
  {
   "cell_type": "code",
   "execution_count": null,
   "metadata": {},
   "outputs": [],
   "source": []
  },
  {
   "cell_type": "code",
   "execution_count": null,
   "metadata": {},
   "outputs": [],
   "source": []
  },
  {
   "cell_type": "code",
   "execution_count": null,
   "metadata": {},
   "outputs": [],
   "source": []
  },
  {
   "cell_type": "code",
   "execution_count": null,
   "metadata": {},
   "outputs": [],
   "source": []
  }
 ],
 "metadata": {
  "kernelspec": {
   "display_name": "Python 3",
   "language": "python",
   "name": "python3"
  },
  "language_info": {
   "codemirror_mode": {
    "name": "ipython",
    "version": 3
   },
   "file_extension": ".py",
   "mimetype": "text/x-python",
   "name": "python",
   "nbconvert_exporter": "python",
   "pygments_lexer": "ipython3",
   "version": "3.5.2"
  }
 },
 "nbformat": 4,
 "nbformat_minor": 2
}
